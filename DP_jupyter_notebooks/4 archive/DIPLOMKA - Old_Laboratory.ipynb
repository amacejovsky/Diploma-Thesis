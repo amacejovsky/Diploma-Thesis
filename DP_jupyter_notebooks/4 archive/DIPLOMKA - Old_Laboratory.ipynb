{
 "cells": [
  {
   "cell_type": "markdown",
   "metadata": {},
   "source": [
    "# Laboratory (old)"
   ]
  },
  {
   "cell_type": "markdown",
   "metadata": {},
   "source": [
    "<div id=\"toc\"></div>"
   ]
  },
  {
   "cell_type": "code",
   "execution_count": 1,
   "metadata": {},
   "outputs": [
    {
     "data": {
      "application/javascript": [
       "$.getScript('https://kmahelona.github.io/ipython_notebook_goodies/ipython_notebook_toc.js')\n",
       "// https://github.com/kmahelona/ipython_notebook_goodies          ...interactive table of contents\n"
      ],
      "text/plain": [
       "<IPython.core.display.Javascript object>"
      ]
     },
     "metadata": {},
     "output_type": "display_data"
    }
   ],
   "source": [
    "%%javascript\n",
    "$.getScript('https://kmahelona.github.io/ipython_notebook_goodies/ipython_notebook_toc.js')\n",
    "// https://github.com/kmahelona/ipython_notebook_goodies          ...interactive table of contents"
   ]
  },
  {
   "cell_type": "code",
   "execution_count": 3,
   "metadata": {},
   "outputs": [
    {
     "name": "stdout",
     "output_type": "stream",
     "text": [
      "d:\\moje_dokumenty\\Desktop\\diplomka\\model\\data\\hdf\n"
     ]
    }
   ],
   "source": [
    "%cd \"d:\\moje_dokumenty\\Desktop\\diplomka\\model\\data\\hdf\\\" "
   ]
  },
  {
   "cell_type": "code",
   "execution_count": 4,
   "metadata": {},
   "outputs": [],
   "source": [
    "import model_tools "
   ]
  },
  {
   "cell_type": "code",
   "execution_count": 5,
   "metadata": {},
   "outputs": [],
   "source": [
    "Sim = model_tools.Simulation\n",
    "experiment = model_tools.experiment\n",
    "random = model_tools.random\n",
    "np = model_tools.np\n",
    "exp_grid = model_tools.exp_grid\n",
    "make_matrix = model_tools.make_matrix\n",
    "make_grid = model_tools.make_grid"
   ]
  },
  {
   "cell_type": "code",
   "execution_count": 6,
   "metadata": {},
   "outputs": [],
   "source": [
    "def set_base_pars(ns = None):\n",
    "    \"\"\"Sets all experiment-dependend parameters to base levels.\"\"\"\n",
    "    global model_tools\n",
    "    if ns is not None:         # leave unchanged by default\n",
    "        model_tools.ns = ns\n",
    "        model_tools.ms = [int(11*n/100) for n in ns]\n",
    "    model_tools.global_bank = False\n",
    "    model_tools.transport_firms = False                                        ##################################\n",
    "    model_tools.no_countries = len(model_tools.ns)\n",
    "    \n",
    "##    model_tools.ns = [5000,5000]    # no HSHs\n",
    "##    model_tools.ms = [550,550]      # no firms\n",
    "    \n",
    "    model_tools.wage_resist = [12]*model_tools.no_countries             # wage resistance in unemployment; 12 in baseline, 8 in alternative\n",
    "    model_tools.wage_flex = [0.05]*model_tools.no_countries             # wage flexibility;                0.05 in baseline, 0.08 or 0.25 in alternative\n",
    "    \n",
    "    model_tools.trade_costs = np.array([[0.05]*model_tools.no_countries]*model_tools.no_countries)                         ## tau\n",
    "    np.fill_diagonal(model_tools.trade_costs, [0]*model_tools.no_countries)                              ## keep as np array \n",
    "    \n",
    "    model_tools.free_market = True                 # all quotas are 1?\n",
    "    model_tools.trade_quotas = np.array([[1]*model_tools.no_countries]*model_tools.no_countries)                                     \n",
    "    np.fill_diagonal(model_tools.trade_quotas, [1]*model_tools.no_countries) \n",
    "    model_tools.trade_quotas = [list(country) for country in model_tools.trade_quotas] \n",
    "    \n",
    "    model_tools.pegged_rates = [-1]*model_tools.no_countries     # which currencies are pegged together, -1 if to none\n",
    "    model_tools.trade_sensitivity = 0.1              # sensitivity in exchange factors updating    ## gamma\n",
    "    model_tools.normal_variance = 0.002\n",
    "    \n",
    "    if model_tools.no_countries == 2:\n",
    "        model_tools.providers = 15                 # market selection - no of firms considered by each hsh\n",
    "    elif model_tools.no_countries == 6:\n",
    "        model_tools.providers = 30                \n",
    "    else:\n",
    "        model_tools.providers = 10\n",
    "        \n",
    "    model_tools.p = 0.7"
   ]
  },
  {
   "cell_type": "code",
   "execution_count": 7,
   "metadata": {},
   "outputs": [],
   "source": [
    "#rand_seeds = [[24, 24]] + [[random.randrange(10**5), random.randrange(10**5)] for i in range(30) ]   # for 31 runs"
   ]
  },
  {
   "cell_type": "code",
   "execution_count": 8,
   "metadata": {},
   "outputs": [],
   "source": [
    "rand_seeds = [[24, 24],\n",
    " [57705, 84477],\n",
    " [21235, 79339],\n",
    " [72193, 63946],\n",
    " [41209, 89019],\n",
    " [78694, 83426],\n",
    " [71793, 98870],\n",
    " [52518, 26074],\n",
    " [96107, 49709],\n",
    " [26813, 89835],\n",
    " [42384, 58898],\n",
    " [23077, 29772],\n",
    " [75905, 1768],\n",
    " [54715, 58905],\n",
    " [39040, 79913],\n",
    " [79944, 42114],\n",
    " [76822, 52962],\n",
    " [14277, 8719],\n",
    " [71510, 32894],\n",
    " [94253, 43188],\n",
    " [16195, 43158],\n",
    " [10706, 35992],\n",
    " [92209, 64592],\n",
    " [4414, 36487],\n",
    " [37706, 44597],\n",
    " [5180, 75662],\n",
    " [71206, 9908],\n",
    " [49354, 2217],\n",
    " [46671, 39293],\n",
    " [91634, 58719],\n",
    " [51505, 84003]]"
   ]
  },
  {
   "cell_type": "code",
   "execution_count": null,
   "metadata": {},
   "outputs": [],
   "source": []
  },
  {
   "cell_type": "code",
   "execution_count": 8,
   "metadata": {
    "scrolled": true
   },
   "outputs": [
    {
     "data": {
      "text/plain": [
       "{'period': 'current period = -1',\n",
       " 'no_countries': 'number of countries = 2',\n",
       " 'global_bank': 'if there is only 1 global bank = False',\n",
       " 'ns': 'number of HSHs = [5000, 5000]',\n",
       " 'ms': 'number of firms = [550, 550]',\n",
       " 'wage_resist': 'hsh - wage resistance in unemployment = [12, 12]',\n",
       " 'wage_flex': 'hsh - wage flexibility = [0.05, 0.05]',\n",
       " 'prop_to_save_O': 'hsh - optimistic saving target = 0.15',\n",
       " 'prop_to_save_P': 'hsh - pessimistic saving target = 0.2',\n",
       " 'cons_of_excess_savings': 'hsh - rate of cons. of excess savings = 0.5',\n",
       " 'l_providers': 'hsh - number of firms to be considered on labor market = 10',\n",
       " 'providers': 'hsh - number of firms to be considered on goods market = 15',\n",
       " 'K': 'f - number of machines = 10',\n",
       " 'productivity': 'f - machine productivity = 100',\n",
       " 'production_time': 'f - length of production = 8',\n",
       " 'inv_normal': 'f - periods of full prod. for targeted inventories = 2',\n",
       " 'price_flex': 'f - adjustment parameter = 0.05',\n",
       " 'targeted_vacancies': 'f - targeted rate of vacancies = 0.03',\n",
       " 'mu_F': 'f - portion of goods to be sold = 0.5',\n",
       " 'capital_normal_ratio': 'f - optimisstic targeted net wealth = 0.2',\n",
       " 'capital_high_ratio': 'f - pessimistic targeted net wealth = 0.5',\n",
       " 'sales_normal_ratio': 'f - targeted sales = 0.83',\n",
       " 'in_T': 'f - targeted inventories = inv_normal*K*productivity = 2000',\n",
       " 'util_flex': 'f - flexibility of utilization rate = 10',\n",
       " 'wage_flex_up': 'f - upward wage flexibility = 0.06',\n",
       " 'wage_flex_down': 'f - downward wage flexibility = 0.09',\n",
       " 'r': 'B - standard interest rate = 0.05',\n",
       " 'r_': 'B - premium interest rate = 0.1',\n",
       " 'normal_length': 'B - credit length of repayment = 12',\n",
       " 'extended_length': 'B - extended length of repayment = 12',\n",
       " 'kappa_B': 'B - targeted capital = 0.085',\n",
       " 'p': 'opinion model - strength of animal spirits = 0.7',\n",
       " 'h': 'opinion model - size of neighbourhood = 3',\n",
       " 'trade_sensitivity': 'sensitivity of exchange factors = 0.1',\n",
       " 'normal_variance': 'variance parameter for random exchange rates factors = 0.002',\n",
       " 'trade_costs': 'costs of trade from country i to country j = [[0.   0.05]\\n [0.05 0.  ]]',\n",
       " 'trade_quotas': 'proportion of firms from country j allowed to sell in country i = [[1, 1], [1, 1]]',\n",
       " 'free_market': 'whether can all firms participate in all goods markets = True',\n",
       " 'pegged_rates': ' which currencies are pegged together, -1 if to none = [-1, -1]'}"
      ]
     },
     "execution_count": 8,
     "metadata": {},
     "output_type": "execute_result"
    }
   ],
   "source": [
    "model_tools.parameters()"
   ]
  },
  {
   "cell_type": "markdown",
   "metadata": {},
   "source": [
    "# 1 country"
   ]
  },
  {
   "cell_type": "code",
   "execution_count": 37,
   "metadata": {},
   "outputs": [],
   "source": [
    "model_tools.ns = [5000]    # no HSHs\n",
    "model_tools.ms = [550]      # no firms\n",
    "set_base_pars()\n"
   ]
  },
  {
   "cell_type": "markdown",
   "metadata": {},
   "source": [
    "### baseline"
   ]
  },
  {
   "cell_type": "code",
   "execution_count": 9,
   "metadata": {},
   "outputs": [],
   "source": [
    "model_tools.wage_resist = [12]\n",
    "model_tools.wage_flex = [0.05]"
   ]
  },
  {
   "cell_type": "code",
   "execution_count": 11,
   "metadata": {},
   "outputs": [
    {
     "name": "stderr",
     "output_type": "stream",
     "text": [
      "C:\\Users\\am\\model_tools.py:1631: RuntimeWarning: invalid value encountered in true_divide\n",
      "  results.append(list(multiply*s1/s2))\n",
      "C:\\Users\\am\\model_tools.py:1571: RuntimeWarning: overflow encountered in long_scalars\n",
      "  res = [sum(country[shift+i:(shift+i+perioda)]) for i in range(0,end,perioda)]         # take only full years\n"
     ]
    }
   ],
   "source": [
    "for seeds in rand_seeds[:7]:\n",
    "    aa = Sim(seeds[0], seeds[1])\n",
    "    aa.run(1500)                     # 125 years\n",
    "    aa.finalize_data()\n",
    "    aa.export_data(note = \"Base\")"
   ]
  },
  {
   "cell_type": "code",
   "execution_count": null,
   "metadata": {},
   "outputs": [],
   "source": []
  },
  {
   "cell_type": "code",
   "execution_count": 10,
   "metadata": {
    "scrolled": true
   },
   "outputs": [
    {
     "name": "stderr",
     "output_type": "stream",
     "text": [
      "C:\\Users\\am\\model_tools.py:1539: RuntimeWarning: invalid value encountered in true_divide\n",
      "  results.append(list(multiply*s1/s2))\n",
      "C:\\Users\\am\\model_tools.py:1525: RuntimeWarning: invalid value encountered in true_divide\n",
      "  results.append(list(diff/s1))\n",
      "C:\\Users\\am\\model_tools.py:1539: RuntimeWarning: divide by zero encountered in true_divide\n",
      "  results.append(list(multiply*s1/s2))\n",
      "C:\\Users\\am\\model_tools.py:1767: PerformanceWarning: \n",
      "your performance may suffer as PyTables will pickle object types that it cannot\n",
      "map directly to c-types [inferred_type->mixed,key->block0_values] [items->Index(['employment', 'wages', 'working_wages', 'vol_unemployed', 'months_u',\n",
      "       'unemployed_months_u', 'hsh_sentiment', 'hsh_income', 'savings_T',\n",
      "       'budget', 'cons', 'cons_value', 'forced_savings', 'hsh_deposits',\n",
      "       'prices', 'offered_wages', 'production', 'production_value',\n",
      "       'labor_demand', 'labor', 'job_offers', 'vacancies', 'inventories',\n",
      "       'sales', 'sales_value', 'sales_costs', 'firm_assets', 'firm_capital',\n",
      "       'firm_capital_target', 'firm_dividends', 'firm_sentiment',\n",
      "       'firm_deposits', 'loans', 'bank_capital', 'bank_deposit', 'deposits',\n",
      "       'doubtful_loans', 'doubtful_ratio', 'bankruptcies', 'bank_dividend',\n",
      "       'spec_no_of_firms', 'spec_exch_rates', 'spec_natural_exch_rates',\n",
      "       'spec_export_details', 'spec_import_details', 'spec_trade_balances',\n",
      "       'spec_bank_accounts'],\n",
      "      dtype='object')]\n",
      "\n",
      "  aa.export_data(note = note)\n",
      "C:\\Users\\am\\model_tools.py:1767: PerformanceWarning: \n",
      "your performance may suffer as PyTables will pickle object types that it cannot\n",
      "map directly to c-types [inferred_type->mixed,key->block0_values] [items->Index(['inventories_y', 'unemployment_m', 'unemployment_y',\n",
      "       'vol_unemployed_rate_m', 'vol_unemployed_rate_y', 'price_level_m',\n",
      "       'inflation_m', 'sales_y', 'sales_value_y', 'price_level_y',\n",
      "       'inflation_y', 'vacancy_rates_m', 'vacancies_y', 'labor_demand_y',\n",
      "       'vacancy_rates_y', 'capital_adequacy_ratio_m', 'gross_profits_m',\n",
      "       'total_income_m', 'wage_share_m', 'profits_share_m', 'gross_profits_y',\n",
      "       'total_income_y', 'wages_y', 'wage_share_y', 'profits_share_y',\n",
      "       'mean_real_profits_m', 'mean_real_profits_y', 'mark_ups_m',\n",
      "       'mark_ups_y', 'bankruptcies_y', 'bankruptcy_rate_y',\n",
      "       'capacity_utilization_m', 'capacity_utilization_y', 'mean_real_wage_m',\n",
      "       'median_real_wage_m', 'mean_real_wage_y', 'self_financing_ratio_m',\n",
      "       'targeted_debt_ratio_m', 'targeted_debt_m', 'mean_targeted_debt_m',\n",
      "       'excessive_debt_rate_m', 'hoarding_m', 'unemployment_duration_y',\n",
      "       'money_velocity_y', 'cons_y', 'mean_cons_y', 'cons_value_y',\n",
      "       'mean_cons_value_y', 'forced_savings_rate_m', 'forced_savings_rate_y',\n",
      "       'total_trade_balances_m', 'total_exports_m', 'total_imports_m',\n",
      "       'total_export_rates_m', 'total_import_rates_m',\n",
      "       'detailed_export_rates_m', 'detailed_import_rates_m',\n",
      "       'total_trade_balances_y', 'total_exports_y', 'total_imports_y',\n",
      "       'total_export_rates_y', 'total_import_rates_y'],\n",
      "      dtype='object')]\n",
      "\n",
      "  aa.export_data(note = note)\n",
      "C:\\Users\\am\\model_tools.py:1539: RuntimeWarning: invalid value encountered in true_divide\n",
      "  results.append(list(multiply*s1/s2))\n",
      "C:\\Users\\am\\model_tools.py:1525: RuntimeWarning: invalid value encountered in true_divide\n",
      "  results.append(list(diff/s1))\n",
      "C:\\Users\\am\\model_tools.py:1539: RuntimeWarning: divide by zero encountered in true_divide\n",
      "  results.append(list(multiply*s1/s2))\n",
      "C:\\Users\\am\\Anaconda3\\lib\\site-packages\\numpy\\core\\fromnumeric.py:3118: RuntimeWarning: Mean of empty slice.\n",
      "  out=out, **kwargs)\n",
      "C:\\Users\\am\\Anaconda3\\lib\\site-packages\\numpy\\core\\_methods.py:85: RuntimeWarning: invalid value encountered in double_scalars\n",
      "  ret = ret.dtype.type(ret / rcount)\n"
     ]
    }
   ],
   "source": [
    "experiment(rand_seeds[:7], 1500, \"Base_corrected\")"
   ]
  },
  {
   "cell_type": "code",
   "execution_count": null,
   "metadata": {},
   "outputs": [],
   "source": []
  },
  {
   "cell_type": "markdown",
   "metadata": {},
   "source": [
    "### alternative "
   ]
  },
  {
   "cell_type": "code",
   "execution_count": 11,
   "metadata": {},
   "outputs": [],
   "source": [
    "model_tools.wage_resist = [8]\n",
    "model_tools.wage_flex = [0.08]"
   ]
  },
  {
   "cell_type": "code",
   "execution_count": 13,
   "metadata": {},
   "outputs": [],
   "source": [
    "for seeds in rand_seeds[:7]:\n",
    "    aa = Sim(seeds[0], seeds[1])\n",
    "    aa.run(1500)                     # 125 years\n",
    "    aa.finalize_data()\n",
    "    aa.export_data(note = \"Alt\")"
   ]
  },
  {
   "cell_type": "code",
   "execution_count": null,
   "metadata": {},
   "outputs": [],
   "source": []
  },
  {
   "cell_type": "code",
   "execution_count": 12,
   "metadata": {},
   "outputs": [],
   "source": [
    "experiment(rand_seeds[:7], 1500, \"Alt_corrected\")"
   ]
  },
  {
   "cell_type": "code",
   "execution_count": null,
   "metadata": {},
   "outputs": [],
   "source": []
  },
  {
   "cell_type": "markdown",
   "metadata": {},
   "source": [
    "### extreme alternative"
   ]
  },
  {
   "cell_type": "code",
   "execution_count": 13,
   "metadata": {},
   "outputs": [],
   "source": [
    "model_tools.wage_resist = [8]\n",
    "model_tools.wage_flex = [0.25]"
   ]
  },
  {
   "cell_type": "code",
   "execution_count": 15,
   "metadata": {},
   "outputs": [
    {
     "name": "stdout",
     "output_type": "stream",
     "text": [
      "345:  Bank 0_b_0 is bankrupt!\n",
      "323:  Bank 0_b_0 is bankrupt!\n",
      "311:  Bank 0_b_0 is bankrupt!\n",
      "265:  Bank 0_b_0 is bankrupt!\n",
      "280:  Bank 0_b_0 is bankrupt!\n",
      "598:  Bank 0_b_0 is bankrupt!\n",
      "296:  Bank 0_b_0 is bankrupt!\n"
     ]
    }
   ],
   "source": [
    "for seeds in rand_seeds[:7]:\n",
    "    aa = Sim(seeds[0], seeds[1])\n",
    "    aa.run(840)                     # 80 years is enough, usually bank goes bankrupt around year 25\n",
    "    aa.finalize_data()\n",
    "    aa.export_data(note = \"Extr_alt\")"
   ]
  },
  {
   "cell_type": "markdown",
   "metadata": {},
   "source": [
    "messages from extreme_alternative (rand_seeds[:7]):\n",
    "\n",
    "345:  Bank 0_b_0 is bankrupt!\n",
    "\n",
    "323:  Bank 0_b_0 is bankrupt!\n",
    "\n",
    "311:  Bank 0_b_0 is bankrupt!\n",
    "\n",
    "265:  Bank 0_b_0 is bankrupt!\n",
    "\n",
    "280:  Bank 0_b_0 is bankrupt!\n",
    "\n",
    "598:  Bank 0_b_0 is bankrupt!\n",
    "\n",
    "296:  Bank 0_b_0 is bankrupt!"
   ]
  },
  {
   "cell_type": "code",
   "execution_count": 14,
   "metadata": {},
   "outputs": [
    {
     "name": "stdout",
     "output_type": "stream",
     "text": [
      "649:  Bank 0_b_0 is bankrupt!\n",
      "1142:  Bank 0_b_0 is bankrupt!\n",
      "255:  Bank 0_b_0 is bankrupt!\n",
      "281:  Bank 0_b_0 is bankrupt!\n",
      "348:  Bank 0_b_0 is bankrupt!\n",
      "258:  Bank 0_b_0 is bankrupt!\n",
      "283:  Bank 0_b_0 is bankrupt!\n"
     ]
    }
   ],
   "source": [
    "experiment(rand_seeds[:7], 1500, \"alt_Extr_corrected\")"
   ]
  },
  {
   "cell_type": "markdown",
   "metadata": {},
   "source": [
    "messages from extreme_alternative (rand_seeds[:7]):\n",
    "\n",
    "649:  Bank 0_b_0 is bankrupt!\n",
    "\n",
    "1142:  Bank 0_b_0 is bankrupt!\n",
    "\n",
    "255:  Bank 0_b_0 is bankrupt!\n",
    "\n",
    "281:  Bank 0_b_0 is bankrupt!\n",
    "\n",
    "348:  Bank 0_b_0 is bankrupt!\n",
    "\n",
    "258:  Bank 0_b_0 is bankrupt!\n",
    "\n",
    "283:  Bank 0_b_0 is bankrupt!"
   ]
  },
  {
   "cell_type": "code",
   "execution_count": null,
   "metadata": {},
   "outputs": [],
   "source": []
  },
  {
   "cell_type": "markdown",
   "metadata": {},
   "source": [
    "# 2 large countries"
   ]
  },
  {
   "cell_type": "code",
   "execution_count": 32,
   "metadata": {},
   "outputs": [],
   "source": [
    "model_tools.ns = [5000,5000]    # no HSHs\n",
    "model_tools.ms = [550,550]      # no firms\n",
    "set_base_pars()\n"
   ]
  },
  {
   "cell_type": "markdown",
   "metadata": {},
   "source": [
    "## 2 closed economies (for comfortable comparisons)"
   ]
  },
  {
   "cell_type": "code",
   "execution_count": 12,
   "metadata": {},
   "outputs": [],
   "source": [
    "model_tools.free_market = False\n",
    "model_tools.trade_quotas = make_matrix(0)"
   ]
  },
  {
   "cell_type": "code",
   "execution_count": 13,
   "metadata": {
    "scrolled": true
   },
   "outputs": [
    {
     "name": "stderr",
     "output_type": "stream",
     "text": [
      "C:\\Users\\am\\model_tools.py:1556: RuntimeWarning: invalid value encountered in true_divide\n",
      "  results.append(list(multiply*s1/s2))\n",
      "C:\\Users\\am\\model_tools.py:1542: RuntimeWarning: invalid value encountered in true_divide\n",
      "  results.append(list(diff/s1))\n",
      "C:\\Users\\am\\model_tools.py:1556: RuntimeWarning: divide by zero encountered in true_divide\n",
      "  results.append(list(multiply*s1/s2))\n",
      "C:\\Users\\am\\model_tools.py:1789: PerformanceWarning: \n",
      "your performance may suffer as PyTables will pickle object types that it cannot\n",
      "map directly to c-types [inferred_type->mixed,key->block0_values] [items->Index(['employment', 'wages', 'working_wages', 'vol_unemployed', 'months_u',\n",
      "       'unemployed_months_u', 'hsh_sentiment', 'hsh_income', 'savings_T',\n",
      "       'budget', 'cons', 'cons_value', 'forced_savings', 'hsh_deposits',\n",
      "       'prices', 'offered_wages', 'production', 'production_value',\n",
      "       'labor_demand', 'labor', 'job_offers', 'vacancies', 'inventories',\n",
      "       'sales', 'sales_value', 'sales_costs', 'firm_assets', 'firm_capital',\n",
      "       'firm_capital_target', 'firm_dividends', 'firm_sentiment',\n",
      "       'firm_deposits', 'loans', 'bank_capital', 'bank_deposit', 'deposits',\n",
      "       'doubtful_loans', 'doubtful_ratio', 'bankruptcies', 'bank_dividend',\n",
      "       'spec_no_of_firms', 'spec_exch_rates', 'spec_natural_exch_rates',\n",
      "       'spec_export_details', 'spec_import_details', 'spec_trade_balances',\n",
      "       'spec_bank_accounts'],\n",
      "      dtype='object')]\n",
      "\n",
      "  aa.export_data(note = note, hdf = hdf, csv = csv)\n",
      "C:\\Users\\am\\model_tools.py:1789: PerformanceWarning: \n",
      "your performance may suffer as PyTables will pickle object types that it cannot\n",
      "map directly to c-types [inferred_type->mixed,key->block0_values] [items->Index(['inventories_y', 'unemployment_m', 'unemployment_y',\n",
      "       'vol_unemployed_rate_m', 'vol_unemployed_rate_y', 'price_level_m',\n",
      "       'inflation_m', 'sales_y', 'sales_value_y', 'price_level_y',\n",
      "       'inflation_y', 'vacancy_rates_m', 'vacancies_y', 'labor_demand_y',\n",
      "       'vacancy_rates_y', 'capital_adequacy_ratio_m', 'gross_profits_m',\n",
      "       'total_income_m', 'wage_share_m', 'profits_share_m', 'gross_profits_y',\n",
      "       'total_income_y', 'wages_y', 'wage_share_y', 'profits_share_y',\n",
      "       'mean_real_profits_m', 'mean_real_profits_y', 'mark_ups_m',\n",
      "       'mark_ups_y', 'bankruptcies_y', 'bankruptcy_rate_y',\n",
      "       'capacity_utilization_m', 'capacity_utilization_y', 'mean_real_wage_m',\n",
      "       'median_real_wage_m', 'mean_real_wage_y', 'self_financing_ratio_m',\n",
      "       'targeted_debt_ratio_m', 'targeted_debt_m', 'mean_targeted_debt_m',\n",
      "       'excessive_debt_rate_m', 'hoarding_m', 'unemployment_duration_y',\n",
      "       'money_velocity_y', 'cons_y', 'mean_cons_y', 'cons_value_y',\n",
      "       'mean_cons_value_y', 'forced_savings_rate_m', 'forced_savings_rate_y',\n",
      "       'total_trade_balances_m', 'total_exports_m', 'total_imports_m',\n",
      "       'total_export_rates_m', 'total_import_rates_m',\n",
      "       'detailed_export_rates_m', 'detailed_import_rates_m',\n",
      "       'total_trade_balances_y', 'total_exports_y', 'total_imports_y',\n",
      "       'total_export_rates_y', 'total_import_rates_y'],\n",
      "      dtype='object')]\n",
      "\n",
      "  aa.export_data(note = note, hdf = hdf, csv = csv)\n",
      "C:\\Users\\am\\model_tools.py:1556: RuntimeWarning: invalid value encountered in true_divide\n",
      "  results.append(list(multiply*s1/s2))\n",
      "C:\\Users\\am\\model_tools.py:1542: RuntimeWarning: invalid value encountered in true_divide\n",
      "  results.append(list(diff/s1))\n",
      "C:\\Users\\am\\model_tools.py:1556: RuntimeWarning: divide by zero encountered in true_divide\n",
      "  results.append(list(multiply*s1/s2))\n"
     ]
    }
   ],
   "source": [
    "experiment(rand_seeds[7:10], 1200, note = \"closed_base_bb\", csv = False)"
   ]
  },
  {
   "cell_type": "code",
   "execution_count": 14,
   "metadata": {},
   "outputs": [
    {
     "name": "stdout",
     "output_type": "stream",
     "text": [
      "507:  Bank 1_b_0 is bankrupt!\n",
      "460:  Bank 1_b_0 is bankrupt!\n",
      "907:  Bank 1_b_0 is bankrupt!\n"
     ]
    }
   ],
   "source": [
    "model_tools.wage_resist = [8]*model_tools.no_countries             # wage resistance in unemployment; 12 in baseline, 8 in alternative\n",
    "model_tools.wage_flex = [0.08, 0.25]             # wage flexibility;                0.05 in baseline, 0.08 or 0.25 in alternative\n",
    "experiment(rand_seeds[7:10], 1200, note = \"closed_alts_bb\", csv = False)"
   ]
  },
  {
   "cell_type": "code",
   "execution_count": null,
   "metadata": {},
   "outputs": [],
   "source": []
  },
  {
   "cell_type": "markdown",
   "metadata": {},
   "source": [
    "### baseline bb"
   ]
  },
  {
   "cell_type": "markdown",
   "metadata": {},
   "source": [
    "Free trade, baseline wage and exchange rates flexibility."
   ]
  },
  {
   "cell_type": "code",
   "execution_count": null,
   "metadata": {},
   "outputs": [],
   "source": [
    "set_base_pars()"
   ]
  },
  {
   "cell_type": "code",
   "execution_count": 40,
   "metadata": {},
   "outputs": [],
   "source": [
    "model_tools.wage_resist = [12]*model_tools.no_countries             # wage resistance in unemployment; 12 in baseline, 8 in alternative\n",
    "model_tools.wage_flex = [0.05]*model_tools.no_countries             # wage flexibility;                0.05 in baseline, 0.08 or 0.25 in alternative\n",
    "\n",
    "#model_tools.trade_quotas = np.array([[1]*model_tools.no_countries]*model_tools.no_countries) # free trade                                    \n"
   ]
  },
  {
   "cell_type": "code",
   "execution_count": 18,
   "metadata": {},
   "outputs": [
    {
     "name": "stderr",
     "output_type": "stream",
     "text": [
      "C:\\Users\\am\\Anaconda3\\lib\\site-packages\\numpy\\core\\fromnumeric.py:3118: RuntimeWarning: Mean of empty slice.\n",
      "  out=out, **kwargs)\n",
      "C:\\Users\\am\\Anaconda3\\lib\\site-packages\\numpy\\core\\_methods.py:85: RuntimeWarning: invalid value encountered in double_scalars\n",
      "  ret = ret.dtype.type(ret / rcount)\n"
     ]
    }
   ],
   "source": [
    "for seeds in rand_seeds[7:14]:\n",
    "    aa = Sim(seeds[0], seeds[1])\n",
    "    aa.run(1200)                     # 100 years\n",
    "    aa.finalize_data()\n",
    "    aa.export_data(note = \"Base\")"
   ]
  },
  {
   "cell_type": "code",
   "execution_count": null,
   "metadata": {},
   "outputs": [],
   "source": []
  },
  {
   "cell_type": "markdown",
   "metadata": {},
   "source": [
    "With corrected sales value of firms selling in foreign markets:"
   ]
  },
  {
   "cell_type": "code",
   "execution_count": 41,
   "metadata": {},
   "outputs": [],
   "source": [
    "experiment(rand_seeds[7:14], 1200, \"Base_corrected\")"
   ]
  },
  {
   "cell_type": "code",
   "execution_count": null,
   "metadata": {},
   "outputs": [],
   "source": []
  },
  {
   "cell_type": "markdown",
   "metadata": {},
   "source": [
    "### alternative 1 bb"
   ]
  },
  {
   "cell_type": "markdown",
   "metadata": {},
   "source": [
    "Free trade, baseline exchange rates flexibility, alternative wage flexibility in both countries."
   ]
  },
  {
   "cell_type": "code",
   "execution_count": 42,
   "metadata": {},
   "outputs": [],
   "source": [
    "model_tools.wage_resist = [8]*model_tools.no_countries             # wage resistance in unemployment; 12 in baseline, 8 in alternative\n",
    "model_tools.wage_flex = [0.08]*model_tools.no_countries             # wage flexibility;                0.05 in baseline, 0.08 or 0.25 in alternative\n"
   ]
  },
  {
   "cell_type": "code",
   "execution_count": 20,
   "metadata": {},
   "outputs": [],
   "source": [
    "for seeds in rand_seeds[7:14]:\n",
    "    aa = Sim(seeds[0], seeds[1])\n",
    "    aa.run(1200)                     # 100 years\n",
    "    aa.finalize_data()\n",
    "    aa.export_data(note = \"Alt1\")"
   ]
  },
  {
   "cell_type": "code",
   "execution_count": null,
   "metadata": {},
   "outputs": [],
   "source": []
  },
  {
   "cell_type": "markdown",
   "metadata": {},
   "source": [
    "With corrected sales value of firms selling in foreign markets:"
   ]
  },
  {
   "cell_type": "code",
   "execution_count": 43,
   "metadata": {
    "scrolled": true
   },
   "outputs": [],
   "source": [
    "experiment(rand_seeds[7:14], 1200, \"Alt1_corrected\")"
   ]
  },
  {
   "cell_type": "code",
   "execution_count": null,
   "metadata": {},
   "outputs": [],
   "source": []
  },
  {
   "cell_type": "code",
   "execution_count": null,
   "metadata": {},
   "outputs": [],
   "source": []
  },
  {
   "cell_type": "markdown",
   "metadata": {},
   "source": [
    "### alternative 2 bb\n",
    "\n",
    "Free trade and baseline exchange rates flexibility, but 1 country has alternative wage flexibility, the other baseline one."
   ]
  },
  {
   "cell_type": "code",
   "execution_count": 44,
   "metadata": {},
   "outputs": [],
   "source": [
    "model_tools.wage_resist = [12, 8]          # wage resistance in unemployment; 12 in baseline, 8 in alternative\n",
    "model_tools.wage_flex = [0.05, 0.08]         # wage flexibility;                0.05 in baseline, 0.08 or 0.25 in alternative\n"
   ]
  },
  {
   "cell_type": "code",
   "execution_count": 22,
   "metadata": {},
   "outputs": [],
   "source": [
    "for seeds in rand_seeds[7:14]:\n",
    "    aa = Sim(seeds[0], seeds[1])\n",
    "    aa.run(1200)                     # 100 years\n",
    "    aa.finalize_data()\n",
    "    aa.export_data(note = \"Alt2\")"
   ]
  },
  {
   "cell_type": "code",
   "execution_count": null,
   "metadata": {},
   "outputs": [],
   "source": []
  },
  {
   "cell_type": "markdown",
   "metadata": {},
   "source": [
    "With corrected sales value of firms selling in foreign markets:"
   ]
  },
  {
   "cell_type": "code",
   "execution_count": 45,
   "metadata": {},
   "outputs": [],
   "source": [
    "experiment(rand_seeds[7:14], 1200, \"Alt2_corrected\")"
   ]
  },
  {
   "cell_type": "code",
   "execution_count": null,
   "metadata": {},
   "outputs": [],
   "source": []
  },
  {
   "cell_type": "code",
   "execution_count": null,
   "metadata": {},
   "outputs": [],
   "source": []
  },
  {
   "cell_type": "markdown",
   "metadata": {},
   "source": [
    "### extreme alternative 1 bb\n",
    "\n",
    "Free trade, baseline exchange rates flexibility, extreme alternative wage flexibility in both countries.\n",
    "\n",
    "* Collapse happens before period 200, 350 periods should be enough."
   ]
  },
  {
   "cell_type": "code",
   "execution_count": 46,
   "metadata": {},
   "outputs": [],
   "source": [
    "model_tools.wage_resist = [8]*model_tools.no_countries             # wage resistance in unemployment; 12 in baseline, 8 in alternative\n",
    "model_tools.wage_flex = [0.25]*model_tools.no_countries             # wage flexibility;                0.05 in baseline, 0.08 or 0.25 in alternative"
   ]
  },
  {
   "cell_type": "code",
   "execution_count": 24,
   "metadata": {},
   "outputs": [
    {
     "name": "stdout",
     "output_type": "stream",
     "text": [
      "308:  Bank 1_b_0 is bankrupt!\n",
      "311:  Bank 0_b_0 is bankrupt!\n",
      "298:  Bank 1_b_0 is bankrupt!\n",
      "308:  Bank 0_b_0 is bankrupt!\n",
      "273:  Bank 0_b_0 is bankrupt!\n",
      "286:  Bank 1_b_0 is bankrupt!\n",
      "245:  Bank 1_b_0 is bankrupt!\n",
      "246:  Bank 0_b_0 is bankrupt!\n",
      "385:  Bank 0_b_0 is bankrupt!\n",
      "388:  Bank 1_b_0 is bankrupt!\n",
      "298:  Bank 0_b_0 is bankrupt!\n",
      "301:  Bank 1_b_0 is bankrupt!\n",
      "382:  Bank 0_b_0 is bankrupt!\n",
      "396:  Bank 1_b_0 is bankrupt!\n"
     ]
    }
   ],
   "source": [
    "for seeds in rand_seeds[7:14]:\n",
    "    aa = Sim(seeds[0], seeds[1])\n",
    "    aa.run(1200)                     # 100 years          ## try fewer runs, probably enough\n",
    "    aa.finalize_data()\n",
    "    aa.export_data(note = \"Extr_alt1\")"
   ]
  },
  {
   "cell_type": "markdown",
   "metadata": {},
   "source": [
    "messages from incorrect extreme alternative 1 (rand_seeds[7:14]):\n",
    "\n",
    "308:  Bank 1_b_0 is bankrupt!\n",
    "\n",
    "311:  Bank 0_b_0 is bankrupt!\n",
    "\n",
    "298:  Bank 1_b_0 is bankrupt!\n",
    "\n",
    "308:  Bank 0_b_0 is bankrupt!\n",
    "\n",
    "273:  Bank 0_b_0 is bankrupt!\n",
    "\n",
    "286:  Bank 1_b_0 is bankrupt!\n",
    "\n",
    "245:  Bank 1_b_0 is bankrupt!\n",
    "\n",
    "246:  Bank 0_b_0 is bankrupt!\n",
    "\n",
    "385:  Bank 0_b_0 is bankrupt!\n",
    "\n",
    "388:  Bank 1_b_0 is bankrupt!\n",
    "\n",
    "298:  Bank 0_b_0 is bankrupt!\n",
    "\n",
    "301:  Bank 1_b_0 is bankrupt!\n",
    "\n",
    "382:  Bank 0_b_0 is bankrupt!\n",
    "\n",
    "396:  Bank 1_b_0 is bankrupt!"
   ]
  },
  {
   "cell_type": "code",
   "execution_count": null,
   "metadata": {},
   "outputs": [],
   "source": []
  },
  {
   "cell_type": "markdown",
   "metadata": {},
   "source": [
    "With corrected sales value of firms selling in foreign markets:"
   ]
  },
  {
   "cell_type": "code",
   "execution_count": 47,
   "metadata": {},
   "outputs": [
    {
     "name": "stdout",
     "output_type": "stream",
     "text": [
      "153:  Bank 0_b_0 is bankrupt!\n",
      "157:  Bank 1_b_0 is bankrupt!\n",
      "163:  Bank 0_b_0 is bankrupt!\n",
      "164:  Bank 1_b_0 is bankrupt!\n",
      "151:  Bank 1_b_0 is bankrupt!\n",
      "153:  Bank 0_b_0 is bankrupt!\n",
      "161:  Bank 1_b_0 is bankrupt!\n",
      "164:  Bank 0_b_0 is bankrupt!\n",
      "171:  Bank 1_b_0 is bankrupt!\n",
      "172:  Bank 0_b_0 is bankrupt!\n",
      "160:  Bank 1_b_0 is bankrupt!\n",
      "162:  Bank 0_b_0 is bankrupt!\n",
      "160:  Bank 1_b_0 is bankrupt!\n",
      "163:  Bank 0_b_0 is bankrupt!\n"
     ]
    }
   ],
   "source": [
    "experiment(rand_seeds[7:14], 1200, \"Extr_alt1_corrected\")"
   ]
  },
  {
   "cell_type": "markdown",
   "metadata": {},
   "source": [
    "messages from corrected extreme alternative 1 (rand_seeds[7:14]):\n",
    "\n",
    "153:  Bank 0_b_0 is bankrupt!\n",
    "\n",
    "157:  Bank 1_b_0 is bankrupt!\n",
    "\n",
    "163:  Bank 0_b_0 is bankrupt!\n",
    "\n",
    "164:  Bank 1_b_0 is bankrupt!\n",
    "\n",
    "151:  Bank 1_b_0 is bankrupt!\n",
    "\n",
    "153:  Bank 0_b_0 is bankrupt!\n",
    "\n",
    "161:  Bank 1_b_0 is bankrupt!\n",
    "\n",
    "164:  Bank 0_b_0 is bankrupt!\n",
    "\n",
    "171:  Bank 1_b_0 is bankrupt!\n",
    "\n",
    "172:  Bank 0_b_0 is bankrupt!\n",
    "\n",
    "160:  Bank 1_b_0 is bankrupt!\n",
    "\n",
    "162:  Bank 0_b_0 is bankrupt!\n",
    "\n",
    "160:  Bank 1_b_0 is bankrupt!\n",
    "\n",
    "163:  Bank 0_b_0 is bankrupt!"
   ]
  },
  {
   "cell_type": "code",
   "execution_count": null,
   "metadata": {},
   "outputs": [],
   "source": []
  },
  {
   "cell_type": "markdown",
   "metadata": {},
   "source": [
    "### extreme alternative 2 bb\n",
    "\n",
    "Free trade and baseline exchange rates flexibility, but 1 country has extreme alternative wage flexibility, the other baseline one."
   ]
  },
  {
   "cell_type": "code",
   "execution_count": 48,
   "metadata": {},
   "outputs": [],
   "source": [
    "model_tools.wage_resist = [12, 8]          # wage resistance in unemployment; 12 in baseline, 8 in alternative\n",
    "model_tools.wage_flex = [0.05, 0.25]         # wage flexibility;                0.05 in baseline, 0.08 or 0.25 in alternative"
   ]
  },
  {
   "cell_type": "code",
   "execution_count": 26,
   "metadata": {},
   "outputs": [],
   "source": [
    "for seeds in rand_seeds[7:14]:\n",
    "    aa = Sim(seeds[0], seeds[1])\n",
    "    aa.run(1200)                   # 100 years            ## try fewer runs, probably enough ?\n",
    "    aa.finalize_data()\n",
    "    aa.export_data(note = \"Extr_alt2\")"
   ]
  },
  {
   "cell_type": "code",
   "execution_count": null,
   "metadata": {},
   "outputs": [],
   "source": []
  },
  {
   "cell_type": "markdown",
   "metadata": {},
   "source": [
    "With corrected sales value of firms selling in foreign markets:"
   ]
  },
  {
   "cell_type": "code",
   "execution_count": 49,
   "metadata": {},
   "outputs": [],
   "source": [
    "experiment(rand_seeds[7:14], 1200, \"Extr_alt2_corrected\")"
   ]
  },
  {
   "cell_type": "code",
   "execution_count": null,
   "metadata": {},
   "outputs": [],
   "source": []
  },
  {
   "cell_type": "markdown",
   "metadata": {},
   "source": [
    "## symmetrical BB alternatives"
   ]
  },
  {
   "cell_type": "code",
   "execution_count": 35,
   "metadata": {},
   "outputs": [],
   "source": [
    "model_tools.wage_resist = [8]*model_tools.no_countries             # wage resistance in unemployment; 12 in baseline, 8 in alternative\n",
    "model_tools.wage_flex = [0.08]*model_tools.no_countries             # wage flexibility;                0.05 in baseline, 0.08 or 0.25 in alternative"
   ]
  },
  {
   "cell_type": "code",
   "execution_count": 36,
   "metadata": {
    "scrolled": true
   },
   "outputs": [],
   "source": [
    "experiment(rand_seeds[7:10], 1200, \"Alt_sym_BB\", csv = False)"
   ]
  },
  {
   "cell_type": "code",
   "execution_count": 37,
   "metadata": {},
   "outputs": [
    {
     "name": "stdout",
     "output_type": "stream",
     "text": [
      "182:  Bank 1_b_0 is bankrupt!\n",
      "183:  Bank 0_b_0 is bankrupt!\n",
      "158:  Bank 1_b_0 is bankrupt!\n",
      "159:  Bank 0_b_0 is bankrupt!\n",
      "148:  Bank 0_b_0 is bankrupt!\n",
      "150:  Bank 1_b_0 is bankrupt!\n"
     ]
    }
   ],
   "source": [
    "model_tools.wage_resist = [8]*model_tools.no_countries             # wage resistance in unemployment; 12 in baseline, 8 in alternative\n",
    "model_tools.wage_flex = [0.25]*model_tools.no_countries             # wage flexibility;                0.05 in baseline, 0.08 or 0.25 in alternative\n",
    "experiment(rand_seeds[7:10], 600, \"Alt_extr_sym_BB\", csv = False)"
   ]
  },
  {
   "cell_type": "code",
   "execution_count": null,
   "metadata": {},
   "outputs": [],
   "source": []
  },
  {
   "cell_type": "code",
   "execution_count": null,
   "metadata": {},
   "outputs": [],
   "source": []
  },
  {
   "cell_type": "markdown",
   "metadata": {},
   "source": [
    "# 1 big 1 small country\n",
    "\n",
    "Size of countries is changed. Test baseline and then only heterogenous wage flexibilities, first in the small country, then in the large one."
   ]
  },
  {
   "cell_type": "code",
   "execution_count": 27,
   "metadata": {},
   "outputs": [],
   "source": [
    "model_tools.ns = [8000,2000]    # no HSHs\n",
    "model_tools.ms = [880,220]      # no firms\n",
    "set_base_pars()"
   ]
  },
  {
   "cell_type": "markdown",
   "metadata": {},
   "source": [
    "## BS closed economies (for comfortable comparisons)"
   ]
  },
  {
   "cell_type": "code",
   "execution_count": 16,
   "metadata": {},
   "outputs": [],
   "source": [
    "model_tools.free_market = False\n",
    "model_tools.trade_quotas = make_matrix(0)"
   ]
  },
  {
   "cell_type": "code",
   "execution_count": 17,
   "metadata": {},
   "outputs": [
    {
     "name": "stderr",
     "output_type": "stream",
     "text": [
      "C:\\Users\\am\\Anaconda3\\lib\\site-packages\\numpy\\core\\fromnumeric.py:3118: RuntimeWarning: Mean of empty slice.\n",
      "  out=out, **kwargs)\n",
      "C:\\Users\\am\\Anaconda3\\lib\\site-packages\\numpy\\core\\_methods.py:85: RuntimeWarning: invalid value encountered in double_scalars\n",
      "  ret = ret.dtype.type(ret / rcount)\n"
     ]
    }
   ],
   "source": [
    "experiment(rand_seeds[14:17], 1200, note = \"closed_base_bs\", csv = False)"
   ]
  },
  {
   "cell_type": "code",
   "execution_count": 18,
   "metadata": {},
   "outputs": [],
   "source": [
    "model_tools.wage_resist = [8]*model_tools.no_countries             # wage resistance in unemployment; 12 in baseline, 8 in alternative\n",
    "model_tools.wage_flex = [0.08, 0.08]             # wage flexibility;                0.05 in baseline, 0.08 or 0.25 in alternative\n",
    "experiment(rand_seeds[14:17], 1200, note = \"closed_alt_bs\", csv = False)"
   ]
  },
  {
   "cell_type": "code",
   "execution_count": 19,
   "metadata": {},
   "outputs": [
    {
     "name": "stdout",
     "output_type": "stream",
     "text": [
      "406:  Bank 1_b_0 is bankrupt!\n",
      "227:  Bank 1_b_0 is bankrupt!\n",
      "270:  Bank 1_b_0 is bankrupt!\n",
      "478:  Bank 0_b_0 is bankrupt!\n"
     ]
    }
   ],
   "source": [
    "model_tools.wage_resist = [8]*model_tools.no_countries             # wage resistance in unemployment; 12 in baseline, 8 in alternative\n",
    "model_tools.wage_flex = [0.25, 0.25]             # wage flexibility;                0.05 in baseline, 0.08 or 0.25 in alternative\n",
    "experiment(rand_seeds[14:17], 1200, note = \"closed_extr_alt_bs\", csv = False)"
   ]
  },
  {
   "cell_type": "code",
   "execution_count": null,
   "metadata": {},
   "outputs": [],
   "source": []
  },
  {
   "cell_type": "markdown",
   "metadata": {},
   "source": [
    "### baseline bs"
   ]
  },
  {
   "cell_type": "markdown",
   "metadata": {},
   "source": [
    "Free trade, baseline wage and exchange rates flexibility."
   ]
  },
  {
   "cell_type": "code",
   "execution_count": null,
   "metadata": {},
   "outputs": [],
   "source": [
    "set_base_pars()"
   ]
  },
  {
   "cell_type": "code",
   "execution_count": 29,
   "metadata": {},
   "outputs": [],
   "source": [
    "model_tools.wage_resist = [12]*model_tools.no_countries             # wage resistance in unemployment; 12 in baseline, 8 in alternative\n",
    "model_tools.wage_flex = [0.05]*model_tools.no_countries             # wage flexibility;                0.05 in baseline, 0.08 or 0.25 in alternative\n",
    "\n",
    "#model_tools.trade_quotas = np.array([[1]*model_tools.no_countries]*model_tools.no_countries) # free trade                                    \n"
   ]
  },
  {
   "cell_type": "code",
   "execution_count": 29,
   "metadata": {},
   "outputs": [],
   "source": [
    "for seeds in rand_seeds[14:21]:\n",
    "    aa = Sim(seeds[0], seeds[1])\n",
    "    aa.run(1200)                     # 100 years\n",
    "    aa.finalize_data()\n",
    "    aa.export_data(note = \"big_small_Base\")"
   ]
  },
  {
   "cell_type": "code",
   "execution_count": null,
   "metadata": {},
   "outputs": [],
   "source": []
  },
  {
   "cell_type": "markdown",
   "metadata": {},
   "source": [
    "With corrected sales value of firms selling in foreign markets:"
   ]
  },
  {
   "cell_type": "code",
   "execution_count": 30,
   "metadata": {},
   "outputs": [],
   "source": [
    "experiment(rand_seeds[14:21], 1200, \"Base_big_small_corrected\")"
   ]
  },
  {
   "cell_type": "code",
   "execution_count": null,
   "metadata": {},
   "outputs": [],
   "source": []
  },
  {
   "cell_type": "markdown",
   "metadata": {},
   "source": [
    "### alternative 1 bs"
   ]
  },
  {
   "cell_type": "markdown",
   "metadata": {},
   "source": [
    "Free trade, baseline exchange rates flexibility, alternative wage flexibility in small country."
   ]
  },
  {
   "cell_type": "code",
   "execution_count": 31,
   "metadata": {},
   "outputs": [],
   "source": [
    "model_tools.wage_resist = [12, 8]             # wage resistance in unemployment; 12 in baseline, 8 in alternative\n",
    "model_tools.wage_flex = [0.05, 0.08]             # wage flexibility;                0.05 in baseline, 0.08 or 0.25 in alternative\n"
   ]
  },
  {
   "cell_type": "code",
   "execution_count": 31,
   "metadata": {},
   "outputs": [],
   "source": [
    "for seeds in rand_seeds[14:21]:\n",
    "    aa = Sim(seeds[0], seeds[1])\n",
    "    aa.run(1200)                     # 100 years\n",
    "    aa.finalize_data()\n",
    "    aa.export_data(note = \"big_small_Alt1\")"
   ]
  },
  {
   "cell_type": "code",
   "execution_count": null,
   "metadata": {},
   "outputs": [],
   "source": []
  },
  {
   "cell_type": "markdown",
   "metadata": {},
   "source": [
    "With corrected sales value of firms selling in foreign markets:"
   ]
  },
  {
   "cell_type": "code",
   "execution_count": 32,
   "metadata": {},
   "outputs": [],
   "source": [
    "experiment(rand_seeds[14:21], 1200, \"Alt1_cbig_small_orrected\")"
   ]
  },
  {
   "cell_type": "code",
   "execution_count": null,
   "metadata": {},
   "outputs": [],
   "source": []
  },
  {
   "cell_type": "markdown",
   "metadata": {},
   "source": [
    "### alternative 1b bs\n",
    "\n",
    "Free trade and baseline exchange rates flexibility, big country has alternative wage flexibility, small one has baseline one."
   ]
  },
  {
   "cell_type": "code",
   "execution_count": 33,
   "metadata": {},
   "outputs": [],
   "source": [
    "model_tools.wage_resist = [8, 12]          # wage resistance in unemployment; 12 in baseline, 8 in alternative\n",
    "model_tools.wage_flex = [0.08, 0.05]         # wage flexibility;                0.05 in baseline, 0.08 or 0.25 in alternative\n"
   ]
  },
  {
   "cell_type": "code",
   "execution_count": 33,
   "metadata": {},
   "outputs": [],
   "source": [
    "for seeds in rand_seeds[14:21]:\n",
    "    aa = Sim(seeds[0], seeds[1])\n",
    "    aa.run(1200)                     # 100 years\n",
    "    aa.finalize_data()\n",
    "    aa.export_data(note = \"big_small_Alt1b\")"
   ]
  },
  {
   "cell_type": "code",
   "execution_count": null,
   "metadata": {},
   "outputs": [],
   "source": []
  },
  {
   "cell_type": "markdown",
   "metadata": {},
   "source": [
    "With corrected sales value of firms selling in foreign markets:"
   ]
  },
  {
   "cell_type": "code",
   "execution_count": 34,
   "metadata": {},
   "outputs": [
    {
     "name": "stdout",
     "output_type": "stream",
     "text": [
      "809:  Bank 1_b_0 is bankrupt!\n",
      "888:  Bank 1_b_0 is bankrupt!\n",
      "779:  Bank 1_b_0 is bankrupt!\n",
      "816:  Bank 1_b_0 is bankrupt!\n",
      "852:  Bank 1_b_0 is bankrupt!\n",
      "922:  Bank 1_b_0 is bankrupt!\n",
      "914:  Bank 1_b_0 is bankrupt!\n"
     ]
    }
   ],
   "source": [
    "experiment(rand_seeds[14:21], 1200, \"Alt1b_big_small_corrected\")"
   ]
  },
  {
   "cell_type": "markdown",
   "metadata": {},
   "source": [
    "corrected:\n",
    "\n",
    "809:  Bank 1_b_0 is bankrupt!\n",
    "\n",
    "888:  Bank 1_b_0 is bankrupt!\n",
    "\n",
    "779:  Bank 1_b_0 is bankrupt!\n",
    "\n",
    "816:  Bank 1_b_0 is bankrupt!\n",
    "\n",
    "852:  Bank 1_b_0 is bankrupt!\n",
    "\n",
    "922:  Bank 1_b_0 is bankrupt!\n",
    "\n",
    "914:  Bank 1_b_0 is bankrupt!"
   ]
  },
  {
   "cell_type": "code",
   "execution_count": null,
   "metadata": {},
   "outputs": [],
   "source": []
  },
  {
   "cell_type": "markdown",
   "metadata": {},
   "source": [
    "### extreme alternative (2) bs\n",
    "\n",
    "Free trade, baseline exchange rates flexibility, extreme alternative wage flexibility in small country.\n",
    "\n"
   ]
  },
  {
   "cell_type": "code",
   "execution_count": 35,
   "metadata": {},
   "outputs": [],
   "source": [
    "model_tools.wage_resist = [12, 8]              # wage resistance in unemployment; 12 in baseline, 8 in alternative\n",
    "model_tools.wage_flex = [0.05, 0.25]          # wage flexibility;                0.05 in baseline, 0.08 or 0.25 in alternative"
   ]
  },
  {
   "cell_type": "code",
   "execution_count": 35,
   "metadata": {},
   "outputs": [],
   "source": [
    "for seeds in rand_seeds[14:21]:\n",
    "    aa = Sim(seeds[0], seeds[1])\n",
    "    aa.run(1200)                     # 100 years\n",
    "    aa.finalize_data()\n",
    "    aa.export_data(note = \"big_small_Alt2\")"
   ]
  },
  {
   "cell_type": "code",
   "execution_count": null,
   "metadata": {},
   "outputs": [],
   "source": []
  },
  {
   "cell_type": "markdown",
   "metadata": {},
   "source": [
    "With corrected sales value of firms selling in foreign markets:"
   ]
  },
  {
   "cell_type": "code",
   "execution_count": 36,
   "metadata": {},
   "outputs": [],
   "source": [
    "experiment(rand_seeds[14:21], 1200, \"Alt2_big_small_corrected\")"
   ]
  },
  {
   "cell_type": "code",
   "execution_count": null,
   "metadata": {},
   "outputs": [],
   "source": []
  },
  {
   "cell_type": "markdown",
   "metadata": {},
   "source": [
    "### extreme alternative (2b) bs\n",
    "\n",
    "Free trade, baseline exchange rates flexibility, extreme alternative wage flexibility in big country.\n",
    "\n"
   ]
  },
  {
   "cell_type": "code",
   "execution_count": 37,
   "metadata": {},
   "outputs": [],
   "source": [
    "model_tools.wage_resist = [8, 12]              # wage resistance in unemployment; 12 in baseline, 8 in alternative\n",
    "model_tools.wage_flex = [0.25, 0.05]          # wage flexibility;                0.05 in baseline, 0.08 or 0.25 in alternative"
   ]
  },
  {
   "cell_type": "code",
   "execution_count": null,
   "metadata": {},
   "outputs": [
    {
     "name": "stdout",
     "output_type": "stream",
     "text": [
      "804:  Bank 1_b_0 is bankrupt!\n",
      "532:  Bank 1_b_0 is bankrupt!\n",
      "470:  Bank 1_b_0 is bankrupt!\n"
     ]
    }
   ],
   "source": [
    "for seeds in rand_seeds[14:21]:\n",
    "    aa = Sim(seeds[0], seeds[1])\n",
    "    aa.run(1200)                     # 100 years\n",
    "    aa.finalize_data()\n",
    "    aa.export_data(note = \"big_small_Alt2b\")"
   ]
  },
  {
   "cell_type": "code",
   "execution_count": 8,
   "metadata": {},
   "outputs": [
    {
     "name": "stdout",
     "output_type": "stream",
     "text": [
      "473:  Bank 1_b_0 is bankrupt!\n"
     ]
    },
    {
     "name": "stderr",
     "output_type": "stream",
     "text": [
      "C:\\Users\\am\\model_tools.py:1646: RuntimeWarning: invalid value encountered in true_divide\n",
      "  results.append(list(multiply*s1/s2))\n",
      "C:\\Users\\am\\Anaconda3\\lib\\site-packages\\numpy\\core\\fromnumeric.py:3118: RuntimeWarning: Mean of empty slice.\n",
      "  out=out, **kwargs)\n",
      "C:\\Users\\am\\Anaconda3\\lib\\site-packages\\numpy\\core\\_methods.py:85: RuntimeWarning: invalid value encountered in double_scalars\n",
      "  ret = ret.dtype.type(ret / rcount)\n"
     ]
    },
    {
     "name": "stdout",
     "output_type": "stream",
     "text": [
      "522:  Bank 1_b_0 is bankrupt!\n",
      "450:  Bank 1_b_0 is bankrupt!\n",
      "1171:  Bank 1_b_0 is bankrupt!\n"
     ]
    },
    {
     "name": "stderr",
     "output_type": "stream",
     "text": [
      "C:\\Users\\am\\model_tools.py:1586: RuntimeWarning: overflow encountered in long_scalars\n",
      "  res = [sum(country[shift+i:(shift+i+perioda)]) for i in range(0,end,perioda)]         # take only full years\n"
     ]
    }
   ],
   "source": [
    "# computer shut down, finishing previous\n",
    "for seeds in rand_seeds[17:21]:\n",
    "    aa = Sim(seeds[0], seeds[1])\n",
    "    aa.run(1200)                     # 100 years\n",
    "    aa.finalize_data()\n",
    "    aa.export_data(note = \"big_small_Alt2b_completing\")"
   ]
  },
  {
   "cell_type": "markdown",
   "metadata": {},
   "source": [
    "extreme alternative 2b messages (rand_seeds[14:21]):\n",
    "\n",
    "804:  Bank 1_b_0 is bankrupt!\n",
    "\n",
    "532:  Bank 1_b_0 is bankrupt!\n",
    "\n",
    "470:  Bank 1_b_0 is bankrupt!\n",
    "\n",
    "473:  Bank 1_b_0 is bankrupt!\n",
    "\n",
    "522:  Bank 1_b_0 is bankrupt!\n",
    "\n",
    "450:  Bank 1_b_0 is bankrupt!\n",
    "\n",
    "1171:  Bank 1_b_0 is bankrupt!"
   ]
  },
  {
   "cell_type": "code",
   "execution_count": null,
   "metadata": {},
   "outputs": [],
   "source": []
  },
  {
   "cell_type": "markdown",
   "metadata": {},
   "source": [
    "With corrected sales value of firms selling in foreign markets:"
   ]
  },
  {
   "cell_type": "code",
   "execution_count": 38,
   "metadata": {},
   "outputs": [
    {
     "name": "stdout",
     "output_type": "stream",
     "text": [
      "501:  Bank 1_b_0 is bankrupt!\n",
      "513:  Bank 1_b_0 is bankrupt!\n",
      "543:  Bank 1_b_0 is bankrupt!\n",
      "352:  Bank 1_b_0 is bankrupt!\n",
      "293:  Bank 1_b_0 is bankrupt!\n",
      "470:  Bank 1_b_0 is bankrupt!\n",
      "504:  Bank 1_b_0 is bankrupt!\n"
     ]
    }
   ],
   "source": [
    "experiment(rand_seeds[14:21], 1200, \"Alt2b_big_small_corrected\")"
   ]
  },
  {
   "cell_type": "markdown",
   "metadata": {},
   "source": [
    "501:  Bank 1_b_0 is bankrupt!\n",
    "\n",
    "513:  Bank 1_b_0 is bankrupt!\n",
    "\n",
    "543:  Bank 1_b_0 is bankrupt!\n",
    "\n",
    "352:  Bank 1_b_0 is bankrupt!\n",
    "\n",
    "293:  Bank 1_b_0 is bankrupt!\n",
    "\n",
    "470:  Bank 1_b_0 is bankrupt!\n",
    "\n",
    "504:  Bank 1_b_0 is bankrupt!"
   ]
  },
  {
   "cell_type": "code",
   "execution_count": null,
   "metadata": {},
   "outputs": [],
   "source": []
  },
  {
   "cell_type": "code",
   "execution_count": null,
   "metadata": {},
   "outputs": [],
   "source": []
  },
  {
   "cell_type": "markdown",
   "metadata": {},
   "source": [
    "## symmetrical BS alternatives"
   ]
  },
  {
   "cell_type": "code",
   "execution_count": 28,
   "metadata": {},
   "outputs": [],
   "source": [
    "model_tools.wage_resist = [8]*model_tools.no_countries             # wage resistance in unemployment; 12 in baseline, 8 in alternative\n",
    "model_tools.wage_flex = [0.08]*model_tools.no_countries             # wage flexibility;                0.05 in baseline, 0.08 or 0.25 in alternative"
   ]
  },
  {
   "cell_type": "code",
   "execution_count": 30,
   "metadata": {
    "scrolled": true
   },
   "outputs": [
    {
     "name": "stderr",
     "output_type": "stream",
     "text": [
      "C:\\Users\\am\\Anaconda3\\lib\\site-packages\\numpy\\core\\fromnumeric.py:3118: RuntimeWarning: Mean of empty slice.\n",
      "  out=out, **kwargs)\n",
      "C:\\Users\\am\\Anaconda3\\lib\\site-packages\\numpy\\core\\_methods.py:85: RuntimeWarning: invalid value encountered in double_scalars\n",
      "  ret = ret.dtype.type(ret / rcount)\n",
      "C:\\Users\\am\\model_tools.py:1556: RuntimeWarning: invalid value encountered in true_divide\n",
      "  results.append(list(multiply*s1/s2))\n",
      "C:\\Users\\am\\model_tools.py:1542: RuntimeWarning: invalid value encountered in true_divide\n",
      "  results.append(list(diff/s1))\n",
      "C:\\Users\\am\\model_tools.py:1556: RuntimeWarning: divide by zero encountered in true_divide\n",
      "  results.append(list(multiply*s1/s2))\n",
      "C:\\Users\\am\\model_tools.py:1789: PerformanceWarning: \n",
      "your performance may suffer as PyTables will pickle object types that it cannot\n",
      "map directly to c-types [inferred_type->mixed,key->block0_values] [items->Index(['employment', 'wages', 'working_wages', 'vol_unemployed', 'months_u',\n",
      "       'unemployed_months_u', 'hsh_sentiment', 'hsh_income', 'savings_T',\n",
      "       'budget', 'cons', 'cons_value', 'forced_savings', 'hsh_deposits',\n",
      "       'prices', 'offered_wages', 'production', 'production_value',\n",
      "       'labor_demand', 'labor', 'job_offers', 'vacancies', 'inventories',\n",
      "       'sales', 'sales_value', 'sales_costs', 'firm_assets', 'firm_capital',\n",
      "       'firm_capital_target', 'firm_dividends', 'firm_sentiment',\n",
      "       'firm_deposits', 'loans', 'bank_capital', 'bank_deposit', 'deposits',\n",
      "       'doubtful_loans', 'doubtful_ratio', 'bankruptcies', 'bank_dividend',\n",
      "       'spec_no_of_firms', 'spec_exch_rates', 'spec_natural_exch_rates',\n",
      "       'spec_export_details', 'spec_import_details', 'spec_trade_balances',\n",
      "       'spec_bank_accounts'],\n",
      "      dtype='object')]\n",
      "\n",
      "  aa.export_data(note = note, hdf = hdf, csv = csv)\n",
      "C:\\Users\\am\\model_tools.py:1789: PerformanceWarning: \n",
      "your performance may suffer as PyTables will pickle object types that it cannot\n",
      "map directly to c-types [inferred_type->mixed,key->block0_values] [items->Index(['inventories_y', 'unemployment_m', 'unemployment_y',\n",
      "       'vol_unemployed_rate_m', 'vol_unemployed_rate_y', 'price_level_m',\n",
      "       'inflation_m', 'sales_y', 'sales_value_y', 'price_level_y',\n",
      "       'inflation_y', 'vacancy_rates_m', 'vacancies_y', 'labor_demand_y',\n",
      "       'vacancy_rates_y', 'capital_adequacy_ratio_m', 'gross_profits_m',\n",
      "       'total_income_m', 'wage_share_m', 'profits_share_m', 'gross_profits_y',\n",
      "       'total_income_y', 'wages_y', 'wage_share_y', 'profits_share_y',\n",
      "       'mean_real_profits_m', 'mean_real_profits_y', 'mark_ups_m',\n",
      "       'mark_ups_y', 'bankruptcies_y', 'bankruptcy_rate_y',\n",
      "       'capacity_utilization_m', 'capacity_utilization_y', 'mean_real_wage_m',\n",
      "       'median_real_wage_m', 'mean_real_wage_y', 'self_financing_ratio_m',\n",
      "       'targeted_debt_ratio_m', 'targeted_debt_m', 'mean_targeted_debt_m',\n",
      "       'excessive_debt_rate_m', 'hoarding_m', 'unemployment_duration_y',\n",
      "       'money_velocity_y', 'cons_y', 'mean_cons_y', 'cons_value_y',\n",
      "       'mean_cons_value_y', 'forced_savings_rate_m', 'forced_savings_rate_y',\n",
      "       'total_trade_balances_m', 'total_exports_m', 'total_imports_m',\n",
      "       'total_export_rates_m', 'total_import_rates_m',\n",
      "       'detailed_export_rates_m', 'detailed_import_rates_m',\n",
      "       'total_trade_balances_y', 'total_exports_y', 'total_imports_y',\n",
      "       'total_export_rates_y', 'total_import_rates_y'],\n",
      "      dtype='object')]\n",
      "\n",
      "  aa.export_data(note = note, hdf = hdf, csv = csv)\n",
      "C:\\Users\\am\\Anaconda3\\lib\\site-packages\\numpy\\core\\fromnumeric.py:3118: RuntimeWarning: Mean of empty slice.\n",
      "  out=out, **kwargs)\n",
      "C:\\Users\\am\\Anaconda3\\lib\\site-packages\\numpy\\core\\_methods.py:85: RuntimeWarning: invalid value encountered in double_scalars\n",
      "  ret = ret.dtype.type(ret / rcount)\n",
      "C:\\Users\\am\\model_tools.py:1556: RuntimeWarning: invalid value encountered in true_divide\n",
      "  results.append(list(multiply*s1/s2))\n",
      "C:\\Users\\am\\model_tools.py:1542: RuntimeWarning: invalid value encountered in true_divide\n",
      "  results.append(list(diff/s1))\n",
      "C:\\Users\\am\\model_tools.py:1556: RuntimeWarning: divide by zero encountered in true_divide\n",
      "  results.append(list(multiply*s1/s2))\n"
     ]
    }
   ],
   "source": [
    "experiment(rand_seeds[14:17], 1200, \"Alt_sym_big_small_corrected\", csv = False)"
   ]
  },
  {
   "cell_type": "code",
   "execution_count": 31,
   "metadata": {},
   "outputs": [
    {
     "name": "stdout",
     "output_type": "stream",
     "text": [
      "183:  Bank 1_b_0 is bankrupt!\n",
      "187:  Bank 0_b_0 is bankrupt!\n",
      "157:  Bank 1_b_0 is bankrupt!\n",
      "161:  Bank 0_b_0 is bankrupt!\n",
      "157:  Bank 1_b_0 is bankrupt!\n",
      "165:  Bank 0_b_0 is bankrupt!\n"
     ]
    }
   ],
   "source": [
    "model_tools.wage_resist = [8]*model_tools.no_countries             # wage resistance in unemployment; 12 in baseline, 8 in alternative\n",
    "model_tools.wage_flex = [0.25]*model_tools.no_countries             # wage flexibility;                0.05 in baseline, 0.08 or 0.25 in alternative\n",
    "experiment(rand_seeds[14:17], 1200, \"Alt_extr_sym_big_small_corrected\", csv = False)"
   ]
  },
  {
   "cell_type": "code",
   "execution_count": null,
   "metadata": {},
   "outputs": [],
   "source": []
  },
  {
   "cell_type": "code",
   "execution_count": null,
   "metadata": {},
   "outputs": [],
   "source": []
  },
  {
   "cell_type": "markdown",
   "metadata": {},
   "source": [
    "# Experiments with exchange rate sensitivities"
   ]
  },
  {
   "cell_type": "markdown",
   "metadata": {},
   "source": [
    "## 2 large countries experiments"
   ]
  },
  {
   "cell_type": "code",
   "execution_count": 30,
   "metadata": {},
   "outputs": [],
   "source": [
    "model_tools.ns = [5000,5000]    # no HSHs\n",
    "model_tools.ms = [550,550]      # no firms\n",
    "set_base_pars()\n"
   ]
  },
  {
   "cell_type": "markdown",
   "metadata": {},
   "source": [
    "### baseline experiments"
   ]
  },
  {
   "cell_type": "code",
   "execution_count": 31,
   "metadata": {},
   "outputs": [],
   "source": [
    "model_tools.wage_resist = [12]*model_tools.no_countries             # wage resistance in unemployment; 12 in baseline, 8 in alternative\n",
    "model_tools.wage_flex = [0.05]*model_tools.no_countries             # wage flexibility;                0.05 in baseline, 0.08 or 0.25 in alternative\n",
    "\n",
    "model_tools.free_market = True                                  \n"
   ]
  },
  {
   "cell_type": "markdown",
   "metadata": {},
   "source": [
    "#### pegged rates"
   ]
  },
  {
   "cell_type": "code",
   "execution_count": 27,
   "metadata": {},
   "outputs": [],
   "source": [
    "model_tools.pegged_rates = [-1,0]            # which currencies are pegged together, -1 if to none\n",
    "model_tools.trade_sensitivity = 0.1              # sensitivity in exchange factors updating    ## gamma\n",
    "model_tools.normal_variance = 0.002"
   ]
  },
  {
   "cell_type": "code",
   "execution_count": 28,
   "metadata": {},
   "outputs": [],
   "source": [
    "#experiment(rand_seeds[21:24], 1200, \"exch_1\")"
   ]
  },
  {
   "cell_type": "code",
   "execution_count": 9,
   "metadata": {},
   "outputs": [
    {
     "name": "stderr",
     "output_type": "stream",
     "text": [
      "C:\\Users\\am\\model_tools.py:1655: RuntimeWarning: invalid value encountered in true_divide\n",
      "  results.append(list(multiply*s1/s2))\n",
      "C:\\Users\\am\\model_tools.py:1595: RuntimeWarning: overflow encountered in long_scalars\n",
      "  res = [sum(country[shift+i:(shift+i+perioda)]) for i in range(0,end,perioda)]         # take only full years\n",
      "C:\\Users\\am\\Anaconda3\\lib\\site-packages\\numpy\\core\\fromnumeric.py:3118: RuntimeWarning: Mean of empty slice.\n",
      "  out=out, **kwargs)\n",
      "C:\\Users\\am\\Anaconda3\\lib\\site-packages\\numpy\\core\\_methods.py:85: RuntimeWarning: invalid value encountered in double_scalars\n",
      "  ret = ret.dtype.type(ret / rcount)\n"
     ]
    }
   ],
   "source": [
    "for seeds in rand_seeds[21:24]:\n",
    "    aa = Sim(seeds[0], seeds[1])\n",
    "    aa.run(1200)                     # 100 years\n",
    "    aa.finalize_data()\n",
    "    aa.export_data(note = \"exch_1\")"
   ]
  },
  {
   "cell_type": "code",
   "execution_count": null,
   "metadata": {},
   "outputs": [],
   "source": []
  },
  {
   "cell_type": "markdown",
   "metadata": {},
   "source": [
    "With corrected sales value of firms selling in foreign markets:"
   ]
  },
  {
   "cell_type": "code",
   "execution_count": 29,
   "metadata": {},
   "outputs": [],
   "source": [
    "experiment(rand_seeds[21:24], 1200, \"exch_0_corrected\")"
   ]
  },
  {
   "cell_type": "code",
   "execution_count": null,
   "metadata": {},
   "outputs": [],
   "source": []
  },
  {
   "cell_type": "markdown",
   "metadata": {},
   "source": [
    "#### 0.00 sensitivity\n",
    "only random disturbances in exchange rates"
   ]
  },
  {
   "cell_type": "code",
   "execution_count": 30,
   "metadata": {},
   "outputs": [],
   "source": [
    "model_tools.pegged_rates = [-1,-1]            # which currencies are pegged together, -1 if to none\n",
    "model_tools.trade_sensitivity = 0.00              # sensitivity in exchange factors updating    ## gamma\n",
    "model_tools.normal_variance = 0.002"
   ]
  },
  {
   "cell_type": "code",
   "execution_count": 31,
   "metadata": {},
   "outputs": [],
   "source": [
    "experiment(rand_seeds[21:24], 1200, \"exch_1_corrected\")"
   ]
  },
  {
   "cell_type": "code",
   "execution_count": null,
   "metadata": {},
   "outputs": [],
   "source": []
  },
  {
   "cell_type": "markdown",
   "metadata": {},
   "source": [
    "#### 0.05 sensitivity"
   ]
  },
  {
   "cell_type": "code",
   "execution_count": 32,
   "metadata": {},
   "outputs": [],
   "source": [
    "model_tools.pegged_rates = [-1,-1]            # which currencies are pegged together, -1 if to none\n",
    "model_tools.trade_sensitivity = 0.05              # sensitivity in exchange factors updating    ## gamma\n",
    "model_tools.normal_variance = 0.002"
   ]
  },
  {
   "cell_type": "code",
   "execution_count": null,
   "metadata": {},
   "outputs": [],
   "source": [
    "#experiment(rand_seeds[21:24], 1200, \"exch_2\")"
   ]
  },
  {
   "cell_type": "code",
   "execution_count": 11,
   "metadata": {},
   "outputs": [],
   "source": [
    "for seeds in rand_seeds[21:24]:\n",
    "    aa = Sim(seeds[0], seeds[1])\n",
    "    aa.run(1200)                     # 100 years\n",
    "    aa.finalize_data()\n",
    "    aa.export_data(note = \"exch_2\")"
   ]
  },
  {
   "cell_type": "code",
   "execution_count": null,
   "metadata": {},
   "outputs": [],
   "source": []
  },
  {
   "cell_type": "markdown",
   "metadata": {},
   "source": [
    "With corrected sales value of firms selling in foreign markets:"
   ]
  },
  {
   "cell_type": "code",
   "execution_count": 33,
   "metadata": {},
   "outputs": [],
   "source": [
    "experiment(rand_seeds[21:24], 1200, \"exch_2_corrected\")"
   ]
  },
  {
   "cell_type": "code",
   "execution_count": null,
   "metadata": {},
   "outputs": [],
   "source": []
  },
  {
   "cell_type": "markdown",
   "metadata": {},
   "source": [
    "#### 0.15 sensitivity"
   ]
  },
  {
   "cell_type": "code",
   "execution_count": 34,
   "metadata": {},
   "outputs": [],
   "source": [
    "model_tools.pegged_rates = [-1,-1]            # which currencies are pegged together, -1 if to none\n",
    "model_tools.trade_sensitivity = 0.15              # sensitivity in exchange factors updating    ## gamma\n",
    "model_tools.normal_variance = 0.002"
   ]
  },
  {
   "cell_type": "code",
   "execution_count": null,
   "metadata": {},
   "outputs": [],
   "source": [
    "#experiment(rand_seeds[21:24], 1200, \"exch_3\")"
   ]
  },
  {
   "cell_type": "code",
   "execution_count": 13,
   "metadata": {},
   "outputs": [],
   "source": [
    "for seeds in rand_seeds[21:24]:\n",
    "    aa = Sim(seeds[0], seeds[1])\n",
    "    aa.run(1200)                     # 100 years\n",
    "    aa.finalize_data()\n",
    "    aa.export_data(note = \"exch_3\")"
   ]
  },
  {
   "cell_type": "code",
   "execution_count": null,
   "metadata": {},
   "outputs": [],
   "source": []
  },
  {
   "cell_type": "markdown",
   "metadata": {},
   "source": [
    "With corrected sales value of firms selling in foreign markets:"
   ]
  },
  {
   "cell_type": "code",
   "execution_count": 35,
   "metadata": {},
   "outputs": [],
   "source": [
    "experiment(rand_seeds[21:24], 1200, \"exch_3_corrected\") "
   ]
  },
  {
   "cell_type": "code",
   "execution_count": null,
   "metadata": {},
   "outputs": [],
   "source": []
  },
  {
   "cell_type": "markdown",
   "metadata": {},
   "source": [
    "#### 0.2 sensitivity"
   ]
  },
  {
   "cell_type": "code",
   "execution_count": 36,
   "metadata": {},
   "outputs": [],
   "source": [
    "model_tools.pegged_rates = [-1,-1]            # which currencies are pegged together, -1 if to none\n",
    "model_tools.trade_sensitivity = 0.2              # sensitivity in exchange factors updating    ## gamma\n",
    "model_tools.normal_variance = 0.002"
   ]
  },
  {
   "cell_type": "code",
   "execution_count": null,
   "metadata": {},
   "outputs": [],
   "source": [
    "#experiment(rand_seeds[21:24], 1200, \"exch_4\")"
   ]
  },
  {
   "cell_type": "code",
   "execution_count": 15,
   "metadata": {},
   "outputs": [],
   "source": [
    "for seeds in rand_seeds[21:24]:\n",
    "    aa = Sim(seeds[0], seeds[1])\n",
    "    aa.run(1200)                     # 100 years\n",
    "    aa.finalize_data()\n",
    "    aa.export_data(note = \"exch_4\")"
   ]
  },
  {
   "cell_type": "code",
   "execution_count": null,
   "metadata": {},
   "outputs": [],
   "source": []
  },
  {
   "cell_type": "markdown",
   "metadata": {},
   "source": [
    "With corrected sales value of firms selling in foreign markets:"
   ]
  },
  {
   "cell_type": "code",
   "execution_count": 37,
   "metadata": {
    "scrolled": true
   },
   "outputs": [],
   "source": [
    "experiment(rand_seeds[21:24], 1200, \"exch_4_corrected\")"
   ]
  },
  {
   "cell_type": "code",
   "execution_count": null,
   "metadata": {},
   "outputs": [],
   "source": []
  },
  {
   "cell_type": "markdown",
   "metadata": {},
   "source": [
    "#### 0.4 sensitivity"
   ]
  },
  {
   "cell_type": "code",
   "execution_count": 38,
   "metadata": {},
   "outputs": [],
   "source": [
    "model_tools.pegged_rates = [-1,-1]            # which currencies are pegged together, -1 if to none\n",
    "model_tools.trade_sensitivity = 0.4              # sensitivity in exchange factors updating    ## gamma\n",
    "model_tools.normal_variance = 0.002"
   ]
  },
  {
   "cell_type": "code",
   "execution_count": null,
   "metadata": {},
   "outputs": [],
   "source": [
    "#experiment(rand_seeds[21:24], 1200, \"exch_5\")"
   ]
  },
  {
   "cell_type": "code",
   "execution_count": 17,
   "metadata": {},
   "outputs": [],
   "source": [
    "for seeds in rand_seeds[21:24]:\n",
    "    aa = Sim(seeds[0], seeds[1])\n",
    "    aa.run(1200)                     # 100 years\n",
    "    aa.finalize_data()\n",
    "    aa.export_data(note = \"exch_5\")"
   ]
  },
  {
   "cell_type": "code",
   "execution_count": null,
   "metadata": {},
   "outputs": [],
   "source": []
  },
  {
   "cell_type": "markdown",
   "metadata": {},
   "source": [
    "With corrected sales value of firms selling in foreign markets:"
   ]
  },
  {
   "cell_type": "code",
   "execution_count": 39,
   "metadata": {},
   "outputs": [],
   "source": [
    "experiment(rand_seeds[21:24], 1200, \"exch_5_corrected\")"
   ]
  },
  {
   "cell_type": "code",
   "execution_count": null,
   "metadata": {},
   "outputs": [],
   "source": []
  },
  {
   "cell_type": "markdown",
   "metadata": {},
   "source": [
    "#### 0.7 sensitivity"
   ]
  },
  {
   "cell_type": "code",
   "execution_count": 40,
   "metadata": {},
   "outputs": [],
   "source": [
    "model_tools.pegged_rates = [-1,-1]            # which currencies are pegged together, -1 if to none\n",
    "model_tools.trade_sensitivity = 0.7              # sensitivity in exchange factors updating    ## gamma\n",
    "model_tools.normal_variance = 0.002"
   ]
  },
  {
   "cell_type": "code",
   "execution_count": null,
   "metadata": {},
   "outputs": [],
   "source": [
    "#experiment(rand_seeds[21:24], 1200, \"exch_6\")"
   ]
  },
  {
   "cell_type": "code",
   "execution_count": 19,
   "metadata": {},
   "outputs": [],
   "source": [
    "for seeds in rand_seeds[21:24]:\n",
    "    aa = Sim(seeds[0], seeds[1])\n",
    "    aa.run(1200)                     # 100 years\n",
    "    aa.finalize_data()\n",
    "    aa.export_data(note = \"exch_6\")"
   ]
  },
  {
   "cell_type": "code",
   "execution_count": null,
   "metadata": {},
   "outputs": [],
   "source": []
  },
  {
   "cell_type": "markdown",
   "metadata": {},
   "source": [
    "With corrected sales value of firms selling in foreign markets:"
   ]
  },
  {
   "cell_type": "code",
   "execution_count": 41,
   "metadata": {},
   "outputs": [
    {
     "name": "stdout",
     "output_type": "stream",
     "text": [
      "985:  Bank 1_b_0 is bankrupt!\n",
      "1024:  Bank 0_b_0 is bankrupt!\n",
      "964:  Bank 1_b_0 is bankrupt!\n",
      "1053:  Bank 0_b_0 is bankrupt!\n",
      "970:  Bank 1_b_0 is bankrupt!\n",
      "1025:  Bank 0_b_0 is bankrupt!\n"
     ]
    }
   ],
   "source": [
    "experiment(rand_seeds[21:24], 1200, \"exch_6_corrected\")"
   ]
  },
  {
   "cell_type": "code",
   "execution_count": null,
   "metadata": {},
   "outputs": [],
   "source": []
  },
  {
   "cell_type": "markdown",
   "metadata": {},
   "source": [
    "#### 1 sensitivity"
   ]
  },
  {
   "cell_type": "code",
   "execution_count": 42,
   "metadata": {},
   "outputs": [],
   "source": [
    "model_tools.pegged_rates = [-1,-1]            # which currencies are pegged together, -1 if to none\n",
    "model_tools.trade_sensitivity = 1              # sensitivity in exchange factors updating    ## gamma\n",
    "model_tools.normal_variance = 0.002"
   ]
  },
  {
   "cell_type": "code",
   "execution_count": null,
   "metadata": {},
   "outputs": [],
   "source": [
    "#experiment(rand_seeds[21:24], 1200, \"exch_7\")"
   ]
  },
  {
   "cell_type": "code",
   "execution_count": 21,
   "metadata": {},
   "outputs": [],
   "source": [
    "for seeds in rand_seeds[21:24]:\n",
    "    aa = Sim(seeds[0], seeds[1])\n",
    "    aa.run(1200)                     # 100 years\n",
    "    aa.finalize_data()\n",
    "    aa.export_data(note = \"exch_7\")"
   ]
  },
  {
   "cell_type": "code",
   "execution_count": null,
   "metadata": {},
   "outputs": [],
   "source": []
  },
  {
   "cell_type": "markdown",
   "metadata": {},
   "source": [
    "With corrected sales value of firms selling in foreign markets:"
   ]
  },
  {
   "cell_type": "code",
   "execution_count": 43,
   "metadata": {},
   "outputs": [
    {
     "name": "stdout",
     "output_type": "stream",
     "text": [
      "738:  Bank 0_b_0 is bankrupt!\n",
      "815:  Bank 1_b_0 is bankrupt!\n",
      "774:  Bank 1_b_0 is bankrupt!\n",
      "809:  Bank 0_b_0 is bankrupt!\n",
      "779:  Bank 0_b_0 is bankrupt!\n",
      "805:  Bank 1_b_0 is bankrupt!\n"
     ]
    }
   ],
   "source": [
    "experiment(rand_seeds[21:24], 1200, \"exch_7_corrected\")"
   ]
  },
  {
   "cell_type": "code",
   "execution_count": null,
   "metadata": {},
   "outputs": [],
   "source": []
  },
  {
   "cell_type": "markdown",
   "metadata": {},
   "source": [
    "#### 1.1 sensitivity  (not used)"
   ]
  },
  {
   "cell_type": "code",
   "execution_count": 16,
   "metadata": {},
   "outputs": [],
   "source": [
    "model_tools.pegged_rates = [-1,-1]            # which currencies are pegged together, -1 if to none\n",
    "model_tools.trade_sensitivity = 1.1              # sensitivity in exchange factors updating    ## gamma\n",
    "model_tools.normal_variance = 0.002"
   ]
  },
  {
   "cell_type": "code",
   "execution_count": null,
   "metadata": {},
   "outputs": [],
   "source": [
    "#experiment(rand_seeds[21:24], 1200, \"exch_8\")"
   ]
  },
  {
   "cell_type": "code",
   "execution_count": 23,
   "metadata": {},
   "outputs": [],
   "source": [
    "for seeds in rand_seeds[21:24]:\n",
    "    aa = Sim(seeds[0], seeds[1])\n",
    "    aa.run(1200)                     # 100 years\n",
    "    aa.finalize_data()\n",
    "    aa.export_data(note = \"exch_8\")"
   ]
  },
  {
   "cell_type": "code",
   "execution_count": null,
   "metadata": {},
   "outputs": [],
   "source": []
  },
  {
   "cell_type": "markdown",
   "metadata": {},
   "source": [
    "With corrected sales value of firms selling in foreign markets:"
   ]
  },
  {
   "cell_type": "code",
   "execution_count": 17,
   "metadata": {
    "scrolled": true
   },
   "outputs": [
    {
     "name": "stdout",
     "output_type": "stream",
     "text": [
      "747:  Bank 1_b_0 is bankrupt!\n",
      "749:  Bank 0_b_0 is bankrupt!\n"
     ]
    },
    {
     "name": "stderr",
     "output_type": "stream",
     "text": [
      "C:\\Users\\am\\model_tools.py:1544: RuntimeWarning: invalid value encountered in true_divide\n",
      "  results.append(list(multiply*s1/s2))\n",
      "C:\\Users\\am\\model_tools.py:1544: RuntimeWarning: divide by zero encountered in true_divide\n",
      "  results.append(list(multiply*s1/s2))\n",
      "C:\\Users\\am\\model_tools.py:1530: RuntimeWarning: invalid value encountered in true_divide\n",
      "  results.append(list(diff/s1))\n",
      "C:\\Users\\am\\model_tools.py:1777: PerformanceWarning: \n",
      "your performance may suffer as PyTables will pickle object types that it cannot\n",
      "map directly to c-types [inferred_type->mixed,key->block0_values] [items->Index(['employment', 'wages', 'working_wages', 'vol_unemployed', 'months_u',\n",
      "       'unemployed_months_u', 'hsh_sentiment', 'hsh_income', 'savings_T',\n",
      "       'budget', 'cons', 'cons_value', 'forced_savings', 'hsh_deposits',\n",
      "       'prices', 'offered_wages', 'production', 'production_value',\n",
      "       'labor_demand', 'labor', 'job_offers', 'vacancies', 'inventories',\n",
      "       'sales', 'sales_value', 'sales_costs', 'firm_assets', 'firm_capital',\n",
      "       'firm_capital_target', 'firm_dividends', 'firm_sentiment',\n",
      "       'firm_deposits', 'loans', 'bank_capital', 'bank_deposit', 'deposits',\n",
      "       'doubtful_loans', 'doubtful_ratio', 'bankruptcies', 'bank_dividend',\n",
      "       'spec_no_of_firms', 'spec_exch_rates', 'spec_natural_exch_rates',\n",
      "       'spec_export_details', 'spec_import_details', 'spec_trade_balances',\n",
      "       'spec_bank_accounts'],\n",
      "      dtype='object')]\n",
      "\n",
      "  aa.export_data(note = note, hdf = hdf, csv = csv)\n",
      "C:\\Users\\am\\model_tools.py:1777: PerformanceWarning: \n",
      "your performance may suffer as PyTables will pickle object types that it cannot\n",
      "map directly to c-types [inferred_type->mixed,key->block0_values] [items->Index(['inventories_y', 'unemployment_m', 'unemployment_y',\n",
      "       'vol_unemployed_rate_m', 'vol_unemployed_rate_y', 'price_level_m',\n",
      "       'inflation_m', 'sales_y', 'sales_value_y', 'price_level_y',\n",
      "       'inflation_y', 'vacancy_rates_m', 'vacancies_y', 'labor_demand_y',\n",
      "       'vacancy_rates_y', 'capital_adequacy_ratio_m', 'gross_profits_m',\n",
      "       'total_income_m', 'wage_share_m', 'profits_share_m', 'gross_profits_y',\n",
      "       'total_income_y', 'wages_y', 'wage_share_y', 'profits_share_y',\n",
      "       'mean_real_profits_m', 'mean_real_profits_y', 'mark_ups_m',\n",
      "       'mark_ups_y', 'bankruptcies_y', 'bankruptcy_rate_y',\n",
      "       'capacity_utilization_m', 'capacity_utilization_y', 'mean_real_wage_m',\n",
      "       'median_real_wage_m', 'mean_real_wage_y', 'self_financing_ratio_m',\n",
      "       'targeted_debt_ratio_m', 'targeted_debt_m', 'mean_targeted_debt_m',\n",
      "       'excessive_debt_rate_m', 'hoarding_m', 'unemployment_duration_y',\n",
      "       'money_velocity_y', 'cons_y', 'mean_cons_y', 'cons_value_y',\n",
      "       'mean_cons_value_y', 'forced_savings_rate_m', 'forced_savings_rate_y',\n",
      "       'total_trade_balances_m', 'total_exports_m', 'total_imports_m',\n",
      "       'total_export_rates_m', 'total_import_rates_m',\n",
      "       'detailed_export_rates_m', 'detailed_import_rates_m',\n",
      "       'total_trade_balances_y', 'total_exports_y', 'total_imports_y',\n",
      "       'total_export_rates_y', 'total_import_rates_y'],\n",
      "      dtype='object')]\n",
      "\n",
      "  aa.export_data(note = note, hdf = hdf, csv = csv)\n",
      "C:\\Users\\am\\Anaconda3\\lib\\site-packages\\numpy\\core\\fromnumeric.py:3118: RuntimeWarning: Mean of empty slice.\n",
      "  out=out, **kwargs)\n",
      "C:\\Users\\am\\Anaconda3\\lib\\site-packages\\numpy\\core\\_methods.py:85: RuntimeWarning: invalid value encountered in double_scalars\n",
      "  ret = ret.dtype.type(ret / rcount)\n"
     ]
    },
    {
     "name": "stdout",
     "output_type": "stream",
     "text": [
      "120:  Bank 1_b_0 is bankrupt!\n"
     ]
    },
    {
     "name": "stderr",
     "output_type": "stream",
     "text": [
      "C:\\Users\\am\\model_tools.py:1001: RuntimeWarning: overflow encountered in multiply\n",
      "  self.exch_factors = (1 + tr_sen/self.total_product * balances + random_factors)*self.exch_factors\n",
      "C:\\Users\\am\\Anaconda3\\lib\\site-packages\\numpy\\core\\numeric.py:1203: RuntimeWarning: invalid value encountered in multiply\n",
      "  return multiply(a.ravel()[:, newaxis], b.ravel()[newaxis, :], out)\n"
     ]
    },
    {
     "ename": "OverflowError",
     "evalue": "cannot convert float infinity to integer",
     "output_type": "error",
     "traceback": [
      "\u001b[1;31m---------------------------------------------------------------------------\u001b[0m",
      "\u001b[1;31mOverflowError\u001b[0m                             Traceback (most recent call last)",
      "\u001b[1;32m<ipython-input-17-14d0741d3df6>\u001b[0m in \u001b[0;36m<module>\u001b[1;34m\u001b[0m\n\u001b[1;32m----> 1\u001b[1;33m \u001b[0mexperiment\u001b[0m\u001b[1;33m(\u001b[0m\u001b[0mrand_seeds\u001b[0m\u001b[1;33m[\u001b[0m\u001b[1;36m21\u001b[0m\u001b[1;33m:\u001b[0m\u001b[1;36m24\u001b[0m\u001b[1;33m]\u001b[0m\u001b[1;33m,\u001b[0m \u001b[1;36m1200\u001b[0m\u001b[1;33m,\u001b[0m \u001b[1;34m\"exch_8_corrected\"\u001b[0m\u001b[1;33m)\u001b[0m\u001b[1;33m\u001b[0m\u001b[1;33m\u001b[0m\u001b[0m\n\u001b[0m",
      "\u001b[1;32m~\\model_tools.py\u001b[0m in \u001b[0;36mexperiment\u001b[1;34m(rand_seeds, periods, note, hdf, csv)\u001b[0m\n\u001b[0;32m   1773\u001b[0m     \u001b[1;32mfor\u001b[0m \u001b[0mseeds\u001b[0m \u001b[1;32min\u001b[0m \u001b[0mrand_seeds\u001b[0m\u001b[1;33m:\u001b[0m\u001b[1;33m\u001b[0m\u001b[1;33m\u001b[0m\u001b[0m\n\u001b[0;32m   1774\u001b[0m         \u001b[0maa\u001b[0m \u001b[1;33m=\u001b[0m \u001b[0mSimulation\u001b[0m\u001b[1;33m(\u001b[0m\u001b[0mseeds\u001b[0m\u001b[1;33m[\u001b[0m\u001b[1;36m0\u001b[0m\u001b[1;33m]\u001b[0m\u001b[1;33m,\u001b[0m \u001b[0mseeds\u001b[0m\u001b[1;33m[\u001b[0m\u001b[1;36m1\u001b[0m\u001b[1;33m]\u001b[0m\u001b[1;33m)\u001b[0m\u001b[1;33m\u001b[0m\u001b[1;33m\u001b[0m\u001b[0m\n\u001b[1;32m-> 1775\u001b[1;33m         \u001b[0maa\u001b[0m\u001b[1;33m.\u001b[0m\u001b[0mrun\u001b[0m\u001b[1;33m(\u001b[0m\u001b[0mperiods\u001b[0m\u001b[1;33m)\u001b[0m\u001b[1;33m\u001b[0m\u001b[1;33m\u001b[0m\u001b[0m\n\u001b[0m\u001b[0;32m   1776\u001b[0m         \u001b[0maa\u001b[0m\u001b[1;33m.\u001b[0m\u001b[0mfinalize_data\u001b[0m\u001b[1;33m(\u001b[0m\u001b[1;33m)\u001b[0m\u001b[1;33m\u001b[0m\u001b[1;33m\u001b[0m\u001b[0m\n\u001b[0;32m   1777\u001b[0m         \u001b[0maa\u001b[0m\u001b[1;33m.\u001b[0m\u001b[0mexport_data\u001b[0m\u001b[1;33m(\u001b[0m\u001b[0mnote\u001b[0m \u001b[1;33m=\u001b[0m \u001b[0mnote\u001b[0m\u001b[1;33m,\u001b[0m \u001b[0mhdf\u001b[0m \u001b[1;33m=\u001b[0m \u001b[0mhdf\u001b[0m\u001b[1;33m,\u001b[0m \u001b[0mcsv\u001b[0m \u001b[1;33m=\u001b[0m \u001b[0mcsv\u001b[0m\u001b[1;33m)\u001b[0m\u001b[1;33m\u001b[0m\u001b[1;33m\u001b[0m\u001b[0m\n",
      "\u001b[1;32m~\\model_tools.py\u001b[0m in \u001b[0;36mrun\u001b[1;34m(self, no_of_periods, seeds)\u001b[0m\n\u001b[0;32m   1615\u001b[0m \u001b[1;33m\u001b[0m\u001b[0m\n\u001b[0;32m   1616\u001b[0m         \u001b[1;32mfor\u001b[0m \u001b[0mt\u001b[0m \u001b[1;32min\u001b[0m \u001b[0mrange\u001b[0m\u001b[1;33m(\u001b[0m\u001b[0mno_of_periods\u001b[0m\u001b[1;33m)\u001b[0m\u001b[1;33m:\u001b[0m\u001b[1;33m\u001b[0m\u001b[1;33m\u001b[0m\u001b[0m\n\u001b[1;32m-> 1617\u001b[1;33m             \u001b[0mdo_period\u001b[0m\u001b[1;33m(\u001b[0m\u001b[1;33m)\u001b[0m\u001b[1;33m\u001b[0m\u001b[1;33m\u001b[0m\u001b[0m\n\u001b[0m\u001b[0;32m   1618\u001b[0m \u001b[1;33m\u001b[0m\u001b[0m\n\u001b[0;32m   1619\u001b[0m     \u001b[1;32mdef\u001b[0m \u001b[0mfinalize_data\u001b[0m\u001b[1;33m(\u001b[0m\u001b[0mself\u001b[0m\u001b[1;33m)\u001b[0m\u001b[1;33m:\u001b[0m\u001b[1;33m\u001b[0m\u001b[1;33m\u001b[0m\u001b[0m\n",
      "\u001b[1;32m~\\model_tools.py\u001b[0m in \u001b[0;36mdo_period\u001b[1;34m()\u001b[0m\n\u001b[0;32m   1453\u001b[0m \u001b[1;33m\u001b[0m\u001b[0m\n\u001b[0;32m   1454\u001b[0m     \u001b[1;31m# 5. market with goods\u001b[0m\u001b[1;33m\u001b[0m\u001b[1;33m\u001b[0m\u001b[1;33m\u001b[0m\u001b[0m\n\u001b[1;32m-> 1455\u001b[1;33m     \u001b[0mgoods_market\u001b[0m\u001b[1;33m(\u001b[0m\u001b[1;33m)\u001b[0m\u001b[1;33m\u001b[0m\u001b[1;33m\u001b[0m\u001b[0m\n\u001b[0m\u001b[0;32m   1456\u001b[0m \u001b[1;33m\u001b[0m\u001b[0m\n\u001b[0;32m   1457\u001b[0m     \u001b[1;31m# 6. debt recovery\u001b[0m\u001b[1;33m\u001b[0m\u001b[1;33m\u001b[0m\u001b[1;33m\u001b[0m\u001b[0m\n",
      "\u001b[1;32m~\\model_tools.py\u001b[0m in \u001b[0;36mgoods_market\u001b[1;34m()\u001b[0m\n\u001b[0;32m   1351\u001b[0m \u001b[1;31m##            if winner.goods_offering:\u001b[0m\u001b[1;33m\u001b[0m\u001b[1;33m\u001b[0m\u001b[1;33m\u001b[0m\u001b[0m\n\u001b[0;32m   1352\u001b[0m             \u001b[0mvolume\u001b[0m \u001b[1;33m=\u001b[0m \u001b[0mwinner\u001b[0m\u001b[1;33m.\u001b[0m\u001b[0mcurr_supply\u001b[0m      \u001b[1;31m#int(hsh.budget/winner.price)       # truncated\u001b[0m\u001b[1;33m\u001b[0m\u001b[1;33m\u001b[0m\u001b[0m\n\u001b[1;32m-> 1353\u001b[1;33m             \u001b[0mvalue\u001b[0m \u001b[1;33m=\u001b[0m \u001b[0mint\u001b[0m\u001b[1;33m(\u001b[0m\u001b[0mprice\u001b[0m\u001b[1;33m*\u001b[0m\u001b[0mvolume\u001b[0m\u001b[1;33m)\u001b[0m           \u001b[1;31m# truncated\u001b[0m\u001b[1;33m\u001b[0m\u001b[1;33m\u001b[0m\u001b[0m\n\u001b[0m\u001b[0;32m   1354\u001b[0m             \u001b[0mbudget\u001b[0m \u001b[1;33m-=\u001b[0m \u001b[0mvalue\u001b[0m\u001b[1;33m\u001b[0m\u001b[1;33m\u001b[0m\u001b[0m\n\u001b[0;32m   1355\u001b[0m             \u001b[0mhsh\u001b[0m\u001b[1;33m.\u001b[0m\u001b[0mpurchase\u001b[0m\u001b[1;33m(\u001b[0m\u001b[0mvolume\u001b[0m\u001b[1;33m,\u001b[0m \u001b[0mvalue\u001b[0m\u001b[1;33m)\u001b[0m\u001b[1;33m\u001b[0m\u001b[1;33m\u001b[0m\u001b[0m\n",
      "\u001b[1;31mOverflowError\u001b[0m: cannot convert float infinity to integer"
     ]
    }
   ],
   "source": [
    "experiment(rand_seeds[21:24], 1200, \"exch_8_corrected\")"
   ]
  },
  {
   "cell_type": "code",
   "execution_count": null,
   "metadata": {},
   "outputs": [],
   "source": []
  },
  {
   "cell_type": "markdown",
   "metadata": {},
   "source": [
    "### more detail on 0.2 - 0.4"
   ]
  },
  {
   "cell_type": "code",
   "execution_count": 21,
   "metadata": {},
   "outputs": [],
   "source": [
    "grid = [[0.24], [0.28], [0.32], [0.36]]"
   ]
  },
  {
   "cell_type": "code",
   "execution_count": 22,
   "metadata": {},
   "outputs": [
    {
     "name": "stdout",
     "output_type": "stream",
     "text": [
      "experiment 0 is finished\n",
      "experiment 1 is finished\n",
      "experiment 2 is finished\n",
      "experiment 3 is finished\n"
     ]
    }
   ],
   "source": [
    "exp_grid(grid, [\"trade_sensitivity\"], rand_seeds[21:24], 1200, \"exch_detailed\", csv = False)"
   ]
  },
  {
   "cell_type": "markdown",
   "metadata": {},
   "source": [
    "#### addtional runs"
   ]
  },
  {
   "cell_type": "code",
   "execution_count": 32,
   "metadata": {},
   "outputs": [],
   "source": [
    "grid2 = [[0.30], [0.32], [0.36]]"
   ]
  },
  {
   "cell_type": "code",
   "execution_count": 33,
   "metadata": {},
   "outputs": [
    {
     "name": "stdout",
     "output_type": "stream",
     "text": [
      "experiment 0 is finished\n",
      "experiment 1 is finished\n",
      "experiment 2 is finished\n"
     ]
    }
   ],
   "source": [
    "exp_grid(grid2, [\"trade_sensitivity\"], rand_seeds[24:28], 1200, \"exch_detailed_add\", csv = False)"
   ]
  },
  {
   "cell_type": "code",
   "execution_count": null,
   "metadata": {},
   "outputs": [],
   "source": []
  },
  {
   "cell_type": "code",
   "execution_count": null,
   "metadata": {},
   "outputs": [],
   "source": []
  },
  {
   "cell_type": "markdown",
   "metadata": {},
   "source": [
    "# Experiments with global bank"
   ]
  },
  {
   "cell_type": "markdown",
   "metadata": {},
   "source": [
    "## 2 large countries bank experiments"
   ]
  },
  {
   "cell_type": "code",
   "execution_count": null,
   "metadata": {},
   "outputs": [],
   "source": [
    "model_tools.ns = [5000,5000]    # no HSHs\n",
    "model_tools.ms = [550,550]      # no firms\n",
    "set_base_pars()\n",
    "model_tools.global_bank = True"
   ]
  },
  {
   "cell_type": "markdown",
   "metadata": {},
   "source": [
    "### baseline bank experiments"
   ]
  },
  {
   "cell_type": "code",
   "execution_count": 21,
   "metadata": {},
   "outputs": [],
   "source": [
    "model_tools.wage_resist = [12]*model_tools.no_countries             # wage resistance in unemployment; 12 in baseline, 8 in alternative\n",
    "model_tools.wage_flex = [0.05]*model_tools.no_countries             # wage flexibility;                0.05 in baseline, 0.08 or 0.25 in alternative\n",
    "model_tools.global_bank = True  "
   ]
  },
  {
   "cell_type": "code",
   "execution_count": 28,
   "metadata": {},
   "outputs": [],
   "source": [
    "experiment(rand_seeds[24:27], 1200, \"glob_bank_base\")"
   ]
  },
  {
   "cell_type": "code",
   "execution_count": null,
   "metadata": {},
   "outputs": [],
   "source": []
  },
  {
   "cell_type": "markdown",
   "metadata": {},
   "source": [
    "With corrected sales value of firms selling in foreign markets:"
   ]
  },
  {
   "cell_type": "code",
   "execution_count": 22,
   "metadata": {},
   "outputs": [
    {
     "name": "stdout",
     "output_type": "stream",
     "text": [
      "134:  Bank 0_b_0 is bankrupt!\n",
      "147:  Bank 0_b_0 is bankrupt!\n",
      "127:  Bank 0_b_0 is bankrupt!\n"
     ]
    }
   ],
   "source": [
    "experiment(rand_seeds[24:27], 1200, \"base_glob_bank_corrected\")"
   ]
  },
  {
   "cell_type": "code",
   "execution_count": null,
   "metadata": {},
   "outputs": [],
   "source": []
  },
  {
   "cell_type": "markdown",
   "metadata": {},
   "source": [
    "### flexible wages in the country which does not have a bank (perifery)"
   ]
  },
  {
   "cell_type": "code",
   "execution_count": 23,
   "metadata": {},
   "outputs": [],
   "source": [
    "model_tools.wage_resist = [12, 8]             # wage resistance in unemployment; 12 in baseline, 8 in alternative\n",
    "model_tools.wage_flex = [0.05, 0.08]              # wage flexibility;                0.05 in baseline, 0.08 or 0.25 in alternative\n",
    "model_tools.global_bank = True  "
   ]
  },
  {
   "cell_type": "code",
   "execution_count": null,
   "metadata": {},
   "outputs": [],
   "source": [
    "experiment(rand_seeds[24:27], 1200, \"glob_bank_alt_perif\")"
   ]
  },
  {
   "cell_type": "code",
   "execution_count": null,
   "metadata": {},
   "outputs": [],
   "source": []
  },
  {
   "cell_type": "markdown",
   "metadata": {},
   "source": [
    "With corrected sales value of firms selling in foreign markets:"
   ]
  },
  {
   "cell_type": "code",
   "execution_count": 24,
   "metadata": {},
   "outputs": [
    {
     "name": "stdout",
     "output_type": "stream",
     "text": [
      "120:  Bank 0_b_0 is bankrupt!\n",
      "138:  Bank 0_b_0 is bankrupt!\n",
      "149:  Bank 0_b_0 is bankrupt!\n"
     ]
    }
   ],
   "source": [
    "experiment(rand_seeds[24:27], 1200, \"alt_perif_glob_bank_corrected\")"
   ]
  },
  {
   "cell_type": "code",
   "execution_count": null,
   "metadata": {},
   "outputs": [],
   "source": []
  },
  {
   "cell_type": "markdown",
   "metadata": {},
   "source": [
    "### flexible wages in the country with the bank (centre)"
   ]
  },
  {
   "cell_type": "code",
   "execution_count": 25,
   "metadata": {},
   "outputs": [],
   "source": [
    "model_tools.wage_resist = [8, 12]             # wage resistance in unemployment; 12 in baseline, 8 in alternative\n",
    "model_tools.wage_flex = [0.08, 0.05]              # wage flexibility;                0.05 in baseline, 0.08 or 0.25 in alternative\n",
    "model_tools.global_bank = True  "
   ]
  },
  {
   "cell_type": "code",
   "execution_count": 32,
   "metadata": {},
   "outputs": [],
   "source": [
    "experiment(rand_seeds[24:27], 1200, \"glob_bank_alt_centre\")"
   ]
  },
  {
   "cell_type": "code",
   "execution_count": null,
   "metadata": {},
   "outputs": [],
   "source": []
  },
  {
   "cell_type": "markdown",
   "metadata": {},
   "source": [
    "With corrected sales value of firms selling in foreign markets:"
   ]
  },
  {
   "cell_type": "code",
   "execution_count": 26,
   "metadata": {},
   "outputs": [
    {
     "name": "stdout",
     "output_type": "stream",
     "text": [
      "130:  Bank 0_b_0 is bankrupt!\n",
      "157:  Bank 0_b_0 is bankrupt!\n",
      "155:  Bank 0_b_0 is bankrupt!\n"
     ]
    }
   ],
   "source": [
    "experiment(rand_seeds[24:27], 1200, \"alt_centre_glob_bank_corrected\")"
   ]
  },
  {
   "cell_type": "code",
   "execution_count": null,
   "metadata": {},
   "outputs": [],
   "source": []
  },
  {
   "cell_type": "markdown",
   "metadata": {},
   "source": [
    "### extremely flexible wages in the perifery"
   ]
  },
  {
   "cell_type": "code",
   "execution_count": 27,
   "metadata": {},
   "outputs": [],
   "source": [
    "model_tools.wage_resist = [12, 8]             # wage resistance in unemployment; 12 in baseline, 8 in alternative\n",
    "model_tools.wage_flex = [0.05, 0.25]              # wage flexibility;                0.05 in baseline, 0.08 or 0.25 in alternative\n",
    "model_tools.global_bank = True  "
   ]
  },
  {
   "cell_type": "code",
   "execution_count": 34,
   "metadata": {},
   "outputs": [],
   "source": [
    "experiment(rand_seeds[24:27], 1200, \"glob_bank_extr_alt_perif\")"
   ]
  },
  {
   "cell_type": "code",
   "execution_count": null,
   "metadata": {},
   "outputs": [],
   "source": []
  },
  {
   "cell_type": "markdown",
   "metadata": {},
   "source": [
    "With corrected sales value of firms selling in foreign markets:"
   ]
  },
  {
   "cell_type": "code",
   "execution_count": 28,
   "metadata": {},
   "outputs": [
    {
     "name": "stdout",
     "output_type": "stream",
     "text": [
      "126:  Bank 0_b_0 is bankrupt!\n",
      "147:  Bank 0_b_0 is bankrupt!\n",
      "147:  Bank 0_b_0 is bankrupt!\n"
     ]
    }
   ],
   "source": [
    "experiment(rand_seeds[24:27], 1200, \"extr_alt_perif_glob_bank_corrected\")"
   ]
  },
  {
   "cell_type": "code",
   "execution_count": null,
   "metadata": {},
   "outputs": [],
   "source": []
  },
  {
   "cell_type": "markdown",
   "metadata": {},
   "source": [
    "### extremely flexible wages in the centre"
   ]
  },
  {
   "cell_type": "code",
   "execution_count": 29,
   "metadata": {},
   "outputs": [],
   "source": [
    "model_tools.wage_resist = [8, 12]             # wage resistance in unemployment; 12 in baseline, 8 in alternative\n",
    "model_tools.wage_flex = [0.25, 0.05]              # wage flexibility;                0.05 in baseline, 0.08 or 0.25 in alternative\n",
    "model_tools.global_bank = True  "
   ]
  },
  {
   "cell_type": "code",
   "execution_count": 36,
   "metadata": {},
   "outputs": [],
   "source": [
    "experiment(rand_seeds[24:27], 1200, \"glob_bank_extr_alt_centre\")"
   ]
  },
  {
   "cell_type": "code",
   "execution_count": null,
   "metadata": {},
   "outputs": [],
   "source": []
  },
  {
   "cell_type": "markdown",
   "metadata": {},
   "source": [
    "With corrected sales value of firms selling in foreign markets:"
   ]
  },
  {
   "cell_type": "code",
   "execution_count": 30,
   "metadata": {},
   "outputs": [
    {
     "name": "stdout",
     "output_type": "stream",
     "text": [
      "131:  Bank 0_b_0 is bankrupt!\n",
      "140:  Bank 0_b_0 is bankrupt!\n",
      "149:  Bank 0_b_0 is bankrupt!\n"
     ]
    }
   ],
   "source": [
    "experiment(rand_seeds[24:27], 1200, \"extr_alt_centre_glob_bank_corrected\")"
   ]
  },
  {
   "cell_type": "code",
   "execution_count": null,
   "metadata": {},
   "outputs": [],
   "source": []
  },
  {
   "cell_type": "markdown",
   "metadata": {},
   "source": [
    "# 6 countries"
   ]
  },
  {
   "cell_type": "code",
   "execution_count": 27,
   "metadata": {},
   "outputs": [],
   "source": [
    "model_tools.ns = [6000, 6000, 2000, 2000, 2000, 2000]    # no HSHs\n",
    "model_tools.ms = [660, 660, 220, 220, 220, 220]      # no firms\n",
    "set_base_pars()\n"
   ]
  },
  {
   "cell_type": "code",
   "execution_count": null,
   "metadata": {},
   "outputs": [],
   "source": []
  },
  {
   "cell_type": "markdown",
   "metadata": {},
   "source": [
    "## baseline 6C"
   ]
  },
  {
   "cell_type": "code",
   "execution_count": 23,
   "metadata": {},
   "outputs": [],
   "source": [
    "model_tools.wage_resist = [12]*model_tools.no_countries             # wage resistance in unemployment; 12 in baseline, 8 in alternative\n",
    "model_tools.wage_flex = [0.05]*model_tools.no_countries             # wage flexibility;                0.05 in baseline, 0.08 or 0.25 in alternative\n"
   ]
  },
  {
   "cell_type": "code",
   "execution_count": 10,
   "metadata": {},
   "outputs": [
    {
     "name": "stderr",
     "output_type": "stream",
     "text": [
      "C:\\Users\\am\\Anaconda3\\lib\\site-packages\\numpy\\core\\fromnumeric.py:3118: RuntimeWarning: Mean of empty slice.\n",
      "  out=out, **kwargs)\n",
      "C:\\Users\\am\\Anaconda3\\lib\\site-packages\\numpy\\core\\_methods.py:85: RuntimeWarning: invalid value encountered in double_scalars\n",
      "  ret = ret.dtype.type(ret / rcount)\n",
      "C:\\Users\\am\\model_tools.py:1706: RuntimeWarning: invalid value encountered in true_divide\n",
      "  results.append(list(multiply*s1/s2))\n",
      "C:\\Users\\am\\model_tools.py:1692: RuntimeWarning: invalid value encountered in true_divide\n",
      "  results.append(list(diff/s1))\n"
     ]
    }
   ],
   "source": [
    "experiment(rand_seeds[:4], 900, \"base\")   # 75 years"
   ]
  },
  {
   "cell_type": "code",
   "execution_count": null,
   "metadata": {},
   "outputs": [],
   "source": []
  },
  {
   "cell_type": "markdown",
   "metadata": {},
   "source": [
    "With corrected sales value of firms selling in foreign markets:"
   ]
  },
  {
   "cell_type": "code",
   "execution_count": 28,
   "metadata": {},
   "outputs": [
    {
     "name": "stdout",
     "output_type": "stream",
     "text": [
      "d:\\moje_dokumenty\\Desktop\\diplomka\\model\\data\\hdf\n"
     ]
    }
   ],
   "source": [
    "%cd \"d:\\moje_dokumenty\\Desktop\\diplomka\\model\\data\\hdf\" "
   ]
  },
  {
   "cell_type": "code",
   "execution_count": 29,
   "metadata": {},
   "outputs": [
    {
     "name": "stderr",
     "output_type": "stream",
     "text": [
      "C:\\Users\\am\\model_tools.py:1544: RuntimeWarning: invalid value encountered in true_divide\n",
      "  results.append(list(multiply*s1/s2))\n",
      "C:\\Users\\am\\model_tools.py:1530: RuntimeWarning: invalid value encountered in true_divide\n",
      "  results.append(list(diff/s1))\n",
      "C:\\Users\\am\\model_tools.py:1544: RuntimeWarning: divide by zero encountered in true_divide\n",
      "  results.append(list(multiply*s1/s2))\n"
     ]
    }
   ],
   "source": [
    "experiment(rand_seeds[:4], 900, \"base_corrected\", csv = False)   # 75 years"
   ]
  },
  {
   "cell_type": "code",
   "execution_count": null,
   "metadata": {},
   "outputs": [],
   "source": []
  },
  {
   "cell_type": "code",
   "execution_count": 12,
   "metadata": {
    "scrolled": true
   },
   "outputs": [
    {
     "name": "stderr",
     "output_type": "stream",
     "text": [
      "C:\\Users\\am\\Anaconda3\\lib\\site-packages\\numpy\\core\\fromnumeric.py:3118: RuntimeWarning: Mean of empty slice.\n",
      "  out=out, **kwargs)\n",
      "C:\\Users\\am\\Anaconda3\\lib\\site-packages\\numpy\\core\\_methods.py:85: RuntimeWarning: invalid value encountered in double_scalars\n",
      "  ret = ret.dtype.type(ret / rcount)\n",
      "C:\\Users\\am\\model_tools.py:1539: RuntimeWarning: invalid value encountered in true_divide\n",
      "  results.append(list(multiply*s1/s2))\n",
      "C:\\Users\\am\\model_tools.py:1525: RuntimeWarning: invalid value encountered in true_divide\n",
      "  results.append(list(diff/s1))\n",
      "C:\\Users\\am\\model_tools.py:1539: RuntimeWarning: divide by zero encountered in true_divide\n",
      "  results.append(list(multiply*s1/s2))\n",
      "C:\\Users\\am\\model_tools.py:1763: PerformanceWarning: \n",
      "your performance may suffer as PyTables will pickle object types that it cannot\n",
      "map directly to c-types [inferred_type->mixed,key->block0_values] [items->Index(['employment', 'wages', 'working_wages', 'vol_unemployed', 'months_u',\n",
      "       'unemployed_months_u', 'hsh_sentiment', 'hsh_income', 'savings_T',\n",
      "       'budget', 'cons', 'cons_value', 'forced_savings', 'hsh_deposits',\n",
      "       'prices', 'offered_wages', 'production', 'production_value',\n",
      "       'labor_demand', 'labor', 'job_offers', 'vacancies', 'inventories',\n",
      "       'sales', 'sales_value', 'sales_costs', 'firm_assets', 'firm_capital',\n",
      "       'firm_capital_target', 'firm_dividends', 'firm_sentiment',\n",
      "       'firm_deposits', 'loans', 'bank_capital', 'bank_deposit', 'deposits',\n",
      "       'doubtful_loans', 'doubtful_ratio', 'bankruptcies', 'bank_dividend',\n",
      "       'spec_no_of_firms', 'spec_exch_rates', 'spec_natural_exch_rates',\n",
      "       'spec_export_details', 'spec_import_details', 'spec_trade_balances',\n",
      "       'spec_bank_accounts'],\n",
      "      dtype='object')]\n",
      "\n",
      "  aa.export_data(note = note)\n",
      "C:\\Users\\am\\model_tools.py:1763: PerformanceWarning: \n",
      "your performance may suffer as PyTables will pickle object types that it cannot\n",
      "map directly to c-types [inferred_type->mixed,key->block0_values] [items->Index(['inventories_y', 'unemployment_m', 'unemployment_y',\n",
      "       'vol_unemployed_rate_m', 'vol_unemployed_rate_y', 'price_level_m',\n",
      "       'inflation_m', 'sales_y', 'sales_value_y', 'price_level_y',\n",
      "       'inflation_y', 'vacancy_rates_m', 'vacancies_y', 'labor_demand_y',\n",
      "       'vacancy_rates_y', 'capital_adequacy_ratio_m', 'gross_profits_m',\n",
      "       'total_income_m', 'wage_share_m', 'profits_share_m', 'gross_profits_y',\n",
      "       'total_income_y', 'wages_y', 'wage_share_y', 'profits_share_y',\n",
      "       'mean_real_profits_m', 'mean_real_profits_y', 'mark_ups_m',\n",
      "       'mark_ups_y', 'bankruptcies_y', 'bankruptcy_rate_y',\n",
      "       'capacity_utilization_m', 'capacity_utilization_y', 'mean_real_wage_m',\n",
      "       'median_real_wage_m', 'mean_real_wage_y', 'self_financing_ratio_m',\n",
      "       'targeted_debt_ratio_m', 'targeted_debt_m', 'mean_targeted_debt_m',\n",
      "       'excessive_debt_rate_m', 'hoarding_m', 'unemployment_duration_y',\n",
      "       'money_velocity_y', 'cons_y', 'mean_cons_y', 'cons_value_y',\n",
      "       'mean_cons_value_y', 'forced_savings_rate_m', 'forced_savings_rate_y',\n",
      "       'total_trade_balances_m', 'total_exports_m', 'total_imports_m',\n",
      "       'total_export_rates_m', 'total_import_rates_m',\n",
      "       'detailed_export_rates_m', 'detailed_import_rates_m',\n",
      "       'total_trade_balances_y', 'total_exports_y', 'total_imports_y',\n",
      "       'total_export_rates_y', 'total_import_rates_y'],\n",
      "      dtype='object')]\n",
      "\n",
      "  aa.export_data(note = note)\n"
     ]
    }
   ],
   "source": [
    "# finishing after pc shutdown\n",
    "experiment(rand_seeds[3:4], 900, \"base_corrected\")   # 75 years"
   ]
  },
  {
   "cell_type": "markdown",
   "metadata": {},
   "source": [
    "## alternative 1 6C\n",
    "1 large country has extremely flexible wages, others are in baseline"
   ]
  },
  {
   "cell_type": "code",
   "execution_count": 30,
   "metadata": {},
   "outputs": [],
   "source": [
    "model_tools.wage_resist = [8] + [12]*(model_tools.no_countries-1)             # wage resistance in unemployment; 12 in baseline, 8 in alternative\n",
    "model_tools.wage_flex = [0.25] + [0.05]*(model_tools.no_countries-1)          # wage flexibility;                0.05 in baseline, 0.08 or 0.25 in alternative\n"
   ]
  },
  {
   "cell_type": "code",
   "execution_count": 12,
   "metadata": {},
   "outputs": [],
   "source": [
    "experiment(rand_seeds[:4], 900, \"Extr_alt1\")   # 75 years"
   ]
  },
  {
   "cell_type": "code",
   "execution_count": null,
   "metadata": {},
   "outputs": [],
   "source": []
  },
  {
   "cell_type": "markdown",
   "metadata": {},
   "source": [
    "With corrected sales value of firms selling in foreign markets:"
   ]
  },
  {
   "cell_type": "code",
   "execution_count": 31,
   "metadata": {},
   "outputs": [
    {
     "name": "stdout",
     "output_type": "stream",
     "text": [
      "736:  Bank 2_b_0 is bankrupt!\n",
      "804:  Bank 5_b_0 is bankrupt!\n",
      "670:  Bank 4_b_0 is bankrupt!\n",
      "795:  Bank 3_b_0 is bankrupt!\n",
      "808:  Bank 2_b_0 is bankrupt!\n",
      "710:  Bank 2_b_0 is bankrupt!\n",
      "723:  Bank 5_b_0 is bankrupt!\n",
      "780:  Bank 4_b_0 is bankrupt!\n",
      "896:  Bank 1_b_0 is bankrupt!\n",
      "696:  Bank 5_b_0 is bankrupt!\n",
      "755:  Bank 4_b_0 is bankrupt!\n"
     ]
    }
   ],
   "source": [
    "experiment(rand_seeds[:4], 900, \"Extr_alt1_corrected\", csv = False)   # 75 years"
   ]
  },
  {
   "cell_type": "markdown",
   "metadata": {},
   "source": [
    "sim 1:\n",
    "\n",
    "736:  Bank 2_b_0 is bankrupt!\n",
    "\n",
    "804:  Bank 5_b_0 is bankrupt!\n",
    "\n",
    "\n",
    "sim 2:\n",
    "\n",
    "670:  Bank 4_b_0 is bankrupt!\n",
    "\n",
    "795:  Bank 3_b_0 is bankrupt!\n",
    "\n",
    "808:  Bank 2_b_0 is bankrupt!\n",
    "\n",
    "\n",
    "sim 3:\n",
    "\n",
    "710:  Bank 2_b_0 is bankrupt!\n",
    "\n",
    "723:  Bank 5_b_0 is bankrupt!\n",
    "\n",
    "780:  Bank 4_b_0 is bankrupt!\n",
    "\n",
    "896:  Bank 1_b_0 is bankrupt!\n",
    "\n",
    "\n",
    "sim 4:\n",
    "\n",
    "696:  Bank 5_b_0 is bankrupt!\n",
    "\n",
    "755:  Bank 4_b_0 is bankrupt!"
   ]
  },
  {
   "cell_type": "code",
   "execution_count": null,
   "metadata": {},
   "outputs": [],
   "source": []
  },
  {
   "cell_type": "markdown",
   "metadata": {},
   "source": [
    "## alternative 1b 6C\n",
    "in order to draw comparison with Large-Small country model aletrnative 2b, what happens when 1 large country has extremely flexible wages, is allowed to export to and import from one small country , and others are under baseline conditions?"
   ]
  },
  {
   "cell_type": "code",
   "execution_count": 32,
   "metadata": {},
   "outputs": [],
   "source": [
    "model_tools.wage_resist = [8] + [12]*(model_tools.no_countries-1)             # wage resistance in unemployment; 12 in baseline, 8 in alternative\n",
    "model_tools.wage_flex = [0.25] + [0.05]*(model_tools.no_countries-1)          # wage flexibility;                0.05 in baseline, 0.08 or 0.25 in alternative\n",
    "\n",
    "model_tools.free_market = False                 # all quotas are 1?\n",
    "mm = np.array([[1]*model_tools.no_countries]*model_tools.no_countries)                                     \n",
    "mm[0], mm.T[0] = [1,0,1,0,0,0], [1,0,1,0,0,0]     # country 0 trades only with country 2\n",
    "model_tools.trade_quotas = [list(country) for country in mm] "
   ]
  },
  {
   "cell_type": "code",
   "execution_count": 14,
   "metadata": {},
   "outputs": [],
   "source": [
    "experiment(rand_seeds[:4], 1200, \"Extr_alt1b\")   # 100 years"
   ]
  },
  {
   "cell_type": "code",
   "execution_count": null,
   "metadata": {},
   "outputs": [],
   "source": []
  },
  {
   "cell_type": "markdown",
   "metadata": {},
   "source": [
    "With corrected sales value of firms selling in foreign markets:"
   ]
  },
  {
   "cell_type": "code",
   "execution_count": 33,
   "metadata": {},
   "outputs": [],
   "source": [
    "experiment(rand_seeds[:4], 1200, \"Extr_alt1b_corrected\", csv = False)   # 100 years"
   ]
  },
  {
   "cell_type": "code",
   "execution_count": null,
   "metadata": {},
   "outputs": [],
   "source": []
  },
  {
   "cell_type": "markdown",
   "metadata": {},
   "source": [
    "(wrong simulations)\n",
    "\n",
    "sim 1:\n",
    "\n",
    "736:  Bank 2_b_0 is bankrupt!\n",
    "\n",
    "804:  Bank 5_b_0 is bankrupt!\n",
    "\n",
    "927:  Bank 1_b_0 is bankrupt!\n",
    "\n",
    "930:  Bank 3_b_0 is bankrupt!\n",
    "\n",
    "1053:  Bank 4_b_0 is bankrupt!\n",
    "\n",
    "\n",
    "sim 2:\n",
    "\n",
    "670:  Bank 4_b_0 is bankrupt!\n",
    "\n",
    "795:  Bank 3_b_0 is bankrupt!\n",
    "\n",
    "808:  Bank 2_b_0 is bankrupt!\n",
    "\n",
    "961:  Bank 1_b_0 is bankrupt!\n",
    "\n",
    "970:  Bank 5_b_0 is bankrupt!\n",
    "\n",
    "\n",
    "sim 3:\n",
    "\n",
    "710:  Bank 2_b_0 is bankrupt!\n",
    "\n",
    "723:  Bank 5_b_0 is bankrupt!\n",
    "\n",
    "780:  Bank 4_b_0 is bankrupt!\n",
    "\n",
    "896:  Bank 1_b_0 is bankrupt!\n",
    "\n",
    "926:  Bank 3_b_0 is bankrupt!\n",
    "\n",
    "\n",
    "sim 4:\n",
    "\n",
    "696:  Bank 5_b_0 is bankrupt!\n",
    "\n",
    "755:  Bank 4_b_0 is bankrupt!\n",
    "\n",
    "904:  Bank 1_b_0 is bankrupt!\n",
    "\n",
    "930:  Bank 3_b_0 is bankrupt!\n",
    "\n",
    "1000:  Bank 2_b_0 is bankrupt!"
   ]
  },
  {
   "cell_type": "code",
   "execution_count": null,
   "metadata": {},
   "outputs": [],
   "source": []
  },
  {
   "cell_type": "markdown",
   "metadata": {},
   "source": [
    "# 6 countries with 8000 households in large ones"
   ]
  },
  {
   "cell_type": "code",
   "execution_count": 34,
   "metadata": {},
   "outputs": [],
   "source": [
    "model_tools.ns = [8000, 8000, 2000, 2000, 2000, 2000]    # no HSHs\n",
    "model_tools.ms = [880, 880, 220, 220, 220, 220]      # no firms\n",
    "set_base_pars()\n"
   ]
  },
  {
   "cell_type": "code",
   "execution_count": null,
   "metadata": {},
   "outputs": [],
   "source": []
  },
  {
   "cell_type": "markdown",
   "metadata": {},
   "source": [
    "## alternative 1b 6C\n",
    "in order to draw comparison with Large-Small country model aletrnative 2b (which had 8000 - 2000 households), what happens when 1 large country has extremely flexible wages, is allowed to export to and import from one small country , and others are under baseline conditions?"
   ]
  },
  {
   "cell_type": "code",
   "execution_count": 35,
   "metadata": {},
   "outputs": [],
   "source": [
    "model_tools.wage_resist = [8] + [12]*(model_tools.no_countries-1)             # wage resistance in unemployment; 12 in baseline, 8 in alternative\n",
    "model_tools.wage_flex = [0.25] + [0.05]*(model_tools.no_countries-1)          # wage flexibility;                0.05 in baseline, 0.08 or 0.25 in alternative\n",
    "\n",
    "model_tools.free_market = False                 # all quotas are 1?\n",
    "mm = np.array([[1]*model_tools.no_countries]*model_tools.no_countries)                                     \n",
    "mm[0], mm.T[0] = [1,0,1,0,0,0], [1,0,1,0,0,0]     # country 0 trades only with country 2\n",
    "model_tools.trade_quotas = [list(country) for country in mm] "
   ]
  },
  {
   "cell_type": "code",
   "execution_count": 17,
   "metadata": {},
   "outputs": [],
   "source": [
    "experiment(rand_seeds[:4], 1200, \"Extr_alt1b_8\")   # 100 years"
   ]
  },
  {
   "cell_type": "code",
   "execution_count": null,
   "metadata": {},
   "outputs": [],
   "source": []
  },
  {
   "cell_type": "markdown",
   "metadata": {},
   "source": [
    "With corrected sales value of firms selling in foreign markets:"
   ]
  },
  {
   "cell_type": "code",
   "execution_count": 36,
   "metadata": {},
   "outputs": [],
   "source": [
    "experiment(rand_seeds[:4], 1200, \"Extr_alt1b_8_corrected\", csv = False)   # 100 years"
   ]
  },
  {
   "cell_type": "code",
   "execution_count": null,
   "metadata": {},
   "outputs": [],
   "source": []
  },
  {
   "cell_type": "code",
   "execution_count": null,
   "metadata": {},
   "outputs": [],
   "source": []
  },
  {
   "cell_type": "markdown",
   "metadata": {},
   "source": [
    "# Experiments with trade quotas"
   ]
  },
  {
   "cell_type": "markdown",
   "metadata": {},
   "source": [
    "## 2 countries BB models"
   ]
  },
  {
   "cell_type": "code",
   "execution_count": 26,
   "metadata": {},
   "outputs": [],
   "source": [
    "model_tools.ns = [5000,5000]    # no HSHs\n",
    "model_tools.ms = [550,550]      # no firms\n",
    "set_base_pars()\n"
   ]
  },
  {
   "cell_type": "code",
   "execution_count": null,
   "metadata": {},
   "outputs": [],
   "source": []
  },
  {
   "cell_type": "markdown",
   "metadata": {},
   "source": [
    "### BB baseline quotas experiments"
   ]
  },
  {
   "cell_type": "code",
   "execution_count": 27,
   "metadata": {},
   "outputs": [],
   "source": [
    "model_tools.wage_resist = [12]*model_tools.no_countries             # wage resistance in unemployment; 12 in baseline, 8 in alternative\n",
    "model_tools.wage_flex = [0.05]*model_tools.no_countries             # wage flexibility;                0.05 in baseline, 0.08 or 0.25 in alternative\n"
   ]
  },
  {
   "cell_type": "markdown",
   "metadata": {},
   "source": [
    "#### 0 quotas (1 country model x2)"
   ]
  },
  {
   "cell_type": "code",
   "execution_count": 28,
   "metadata": {},
   "outputs": [],
   "source": [
    "model_tools.free_market = False                 # all quotas are 1?\n",
    "model_tools.trade_quotas = np.array([[0]*model_tools.no_countries]*model_tools.no_countries)                                     \n",
    "np.fill_diagonal(model_tools.trade_quotas, [1]*model_tools.no_countries) \n",
    "model_tools.trade_quotas = [list(country) for country in model_tools.trade_quotas] "
   ]
  },
  {
   "cell_type": "code",
   "execution_count": 29,
   "metadata": {},
   "outputs": [],
   "source": [
    "experiment(rand_seeds[7:10], 900, \"quotas_bb_base_0\", csv = False)   #  75 years - just to see if cycles emerge"
   ]
  },
  {
   "cell_type": "code",
   "execution_count": null,
   "metadata": {},
   "outputs": [],
   "source": []
  },
  {
   "cell_type": "markdown",
   "metadata": {},
   "source": [
    "#### 0.05 quotas"
   ]
  },
  {
   "cell_type": "code",
   "execution_count": 39,
   "metadata": {},
   "outputs": [],
   "source": [
    "model_tools.free_market = False                 # all quotas are 1?\n",
    "model_tools.trade_quotas = np.array([[0.05]*model_tools.no_countries]*model_tools.no_countries)                                     \n",
    "np.fill_diagonal(model_tools.trade_quotas, [1]*model_tools.no_countries) \n",
    "model_tools.trade_quotas = [list(country) for country in model_tools.trade_quotas] "
   ]
  },
  {
   "cell_type": "code",
   "execution_count": 40,
   "metadata": {},
   "outputs": [],
   "source": [
    "experiment(rand_seeds[7:10], 900, \"quotas_bb_base_1\", csv = False)   #  75 years - just to see if cycles emerge"
   ]
  },
  {
   "cell_type": "code",
   "execution_count": null,
   "metadata": {},
   "outputs": [],
   "source": []
  },
  {
   "cell_type": "markdown",
   "metadata": {},
   "source": [
    "#### 0.1 quotas"
   ]
  },
  {
   "cell_type": "code",
   "execution_count": 41,
   "metadata": {},
   "outputs": [],
   "source": [
    "model_tools.free_market = False                 # all quotas are 1?\n",
    "model_tools.trade_quotas = np.array([[0.1]*model_tools.no_countries]*model_tools.no_countries)                                     \n",
    "np.fill_diagonal(model_tools.trade_quotas, [1]*model_tools.no_countries) \n",
    "model_tools.trade_quotas = [list(country) for country in model_tools.trade_quotas] "
   ]
  },
  {
   "cell_type": "code",
   "execution_count": 42,
   "metadata": {},
   "outputs": [],
   "source": [
    "experiment(rand_seeds[7:10], 900, \"quotas_bb_base_2\", csv = False)   #  75 years - just to see if cycles emerge"
   ]
  },
  {
   "cell_type": "code",
   "execution_count": null,
   "metadata": {},
   "outputs": [],
   "source": []
  },
  {
   "cell_type": "markdown",
   "metadata": {},
   "source": [
    "#### 0.2 quotas"
   ]
  },
  {
   "cell_type": "code",
   "execution_count": 43,
   "metadata": {},
   "outputs": [],
   "source": [
    "model_tools.free_market = False                 # all quotas are 1?\n",
    "model_tools.trade_quotas = np.array([[0.2]*model_tools.no_countries]*model_tools.no_countries)                                     \n",
    "np.fill_diagonal(model_tools.trade_quotas, [1]*model_tools.no_countries) \n",
    "model_tools.trade_quotas = [list(country) for country in model_tools.trade_quotas] "
   ]
  },
  {
   "cell_type": "code",
   "execution_count": 44,
   "metadata": {},
   "outputs": [],
   "source": [
    "experiment(rand_seeds[7:10], 900, \"quotas_bb_base_3\", csv = False)   #  75 years - just to see if cycles emerge"
   ]
  },
  {
   "cell_type": "code",
   "execution_count": null,
   "metadata": {},
   "outputs": [],
   "source": []
  },
  {
   "cell_type": "markdown",
   "metadata": {},
   "source": [
    "#### 0.3 quotas"
   ]
  },
  {
   "cell_type": "code",
   "execution_count": 45,
   "metadata": {},
   "outputs": [],
   "source": [
    "model_tools.free_market = False                 # all quotas are 1?\n",
    "model_tools.trade_quotas = np.array([[0.3]*model_tools.no_countries]*model_tools.no_countries)                                     \n",
    "np.fill_diagonal(model_tools.trade_quotas, [1]*model_tools.no_countries) \n",
    "model_tools.trade_quotas = [list(country) for country in model_tools.trade_quotas] "
   ]
  },
  {
   "cell_type": "code",
   "execution_count": 46,
   "metadata": {},
   "outputs": [],
   "source": [
    "experiment(rand_seeds[7:10], 900, \"quotas_bb_base_4\", csv = False)   #  75 years - just to see if cycles emerge"
   ]
  },
  {
   "cell_type": "code",
   "execution_count": null,
   "metadata": {},
   "outputs": [],
   "source": []
  },
  {
   "cell_type": "markdown",
   "metadata": {},
   "source": [
    "#### 0.5 quotas"
   ]
  },
  {
   "cell_type": "code",
   "execution_count": 47,
   "metadata": {},
   "outputs": [],
   "source": [
    "model_tools.free_market = False                 # all quotas are 1?\n",
    "model_tools.trade_quotas = np.array([[0.5]*model_tools.no_countries]*model_tools.no_countries)                                     \n",
    "np.fill_diagonal(model_tools.trade_quotas, [1]*model_tools.no_countries) \n",
    "model_tools.trade_quotas = [list(country) for country in model_tools.trade_quotas] "
   ]
  },
  {
   "cell_type": "code",
   "execution_count": 48,
   "metadata": {},
   "outputs": [],
   "source": [
    "experiment(rand_seeds[7:10], 900, \"quotas_bb_base_5\", csv = False)   #  75 years - just to see if cycles emerge"
   ]
  },
  {
   "cell_type": "code",
   "execution_count": null,
   "metadata": {},
   "outputs": [],
   "source": []
  },
  {
   "cell_type": "markdown",
   "metadata": {},
   "source": [
    "#### 0.7 quotas"
   ]
  },
  {
   "cell_type": "code",
   "execution_count": 49,
   "metadata": {},
   "outputs": [],
   "source": [
    "model_tools.free_market = False                 # all quotas are 1?\n",
    "model_tools.trade_quotas = np.array([[0.7]*model_tools.no_countries]*model_tools.no_countries)                                     \n",
    "np.fill_diagonal(model_tools.trade_quotas, [1]*model_tools.no_countries) \n",
    "model_tools.trade_quotas = [list(country) for country in model_tools.trade_quotas] "
   ]
  },
  {
   "cell_type": "code",
   "execution_count": 50,
   "metadata": {},
   "outputs": [],
   "source": [
    "experiment(rand_seeds[7:10], 900, \"quotas_bb_base_6\", csv = False)   #  75 years - just to see if cycles emerge"
   ]
  },
  {
   "cell_type": "code",
   "execution_count": null,
   "metadata": {},
   "outputs": [],
   "source": []
  },
  {
   "cell_type": "markdown",
   "metadata": {},
   "source": [
    "#### 0.8 quotas"
   ]
  },
  {
   "cell_type": "code",
   "execution_count": 51,
   "metadata": {},
   "outputs": [],
   "source": [
    "model_tools.free_market = False                 # all quotas are 1?\n",
    "model_tools.trade_quotas = np.array([[0.8]*model_tools.no_countries]*model_tools.no_countries)                                     \n",
    "np.fill_diagonal(model_tools.trade_quotas, [1]*model_tools.no_countries) \n",
    "model_tools.trade_quotas = [list(country) for country in model_tools.trade_quotas] "
   ]
  },
  {
   "cell_type": "code",
   "execution_count": 52,
   "metadata": {},
   "outputs": [],
   "source": [
    "experiment(rand_seeds[7:10], 900, \"quotas_bb_base_7\", csv = False)   #  75 years - just to see if cycles emerge"
   ]
  },
  {
   "cell_type": "code",
   "execution_count": null,
   "metadata": {},
   "outputs": [],
   "source": []
  },
  {
   "cell_type": "markdown",
   "metadata": {},
   "source": [
    "#### 0.9 quotas"
   ]
  },
  {
   "cell_type": "code",
   "execution_count": 53,
   "metadata": {},
   "outputs": [],
   "source": [
    "model_tools.free_market = False                 # all quotas are 1?\n",
    "model_tools.trade_quotas = np.array([[0.9]*model_tools.no_countries]*model_tools.no_countries)                                     \n",
    "np.fill_diagonal(model_tools.trade_quotas, [1]*model_tools.no_countries) \n",
    "model_tools.trade_quotas = [list(country) for country in model_tools.trade_quotas] "
   ]
  },
  {
   "cell_type": "code",
   "execution_count": 54,
   "metadata": {},
   "outputs": [],
   "source": [
    "experiment(rand_seeds[7:10], 900, \"quotas_bb_base_8\", csv = False)   #  75 years - just to see if cycles emerge"
   ]
  },
  {
   "cell_type": "code",
   "execution_count": null,
   "metadata": {},
   "outputs": [],
   "source": []
  },
  {
   "cell_type": "markdown",
   "metadata": {},
   "source": [
    "#### 0.95 quotas"
   ]
  },
  {
   "cell_type": "code",
   "execution_count": 55,
   "metadata": {},
   "outputs": [],
   "source": [
    "model_tools.free_market = False                 # all quotas are 1?\n",
    "model_tools.trade_quotas = np.array([[0.95]*model_tools.no_countries]*model_tools.no_countries)                                     \n",
    "np.fill_diagonal(model_tools.trade_quotas, [1]*model_tools.no_countries) \n",
    "model_tools.trade_quotas = [list(country) for country in model_tools.trade_quotas] "
   ]
  },
  {
   "cell_type": "code",
   "execution_count": 56,
   "metadata": {},
   "outputs": [],
   "source": [
    "experiment(rand_seeds[7:10], 900, \"quotas_bb_base_9\", csv = False)   #  75 years - just to see if cycles emerge"
   ]
  },
  {
   "cell_type": "code",
   "execution_count": null,
   "metadata": {},
   "outputs": [],
   "source": []
  },
  {
   "cell_type": "code",
   "execution_count": null,
   "metadata": {},
   "outputs": [],
   "source": []
  },
  {
   "cell_type": "markdown",
   "metadata": {},
   "source": [
    "### BB alternative quotas experiments"
   ]
  },
  {
   "cell_type": "code",
   "execution_count": 30,
   "metadata": {},
   "outputs": [],
   "source": [
    "model_tools.wage_resist = [8]*model_tools.no_countries             # wage resistance in unemployment; 12 in baseline, 8 in alternative\n",
    "model_tools.wage_flex = [0.08]*model_tools.no_countries             # wage flexibility;                0.05 in baseline, 0.08 or 0.25 in alternative\n"
   ]
  },
  {
   "cell_type": "code",
   "execution_count": null,
   "metadata": {},
   "outputs": [],
   "source": []
  },
  {
   "cell_type": "markdown",
   "metadata": {},
   "source": [
    "#### 0 quotas (1 country model x2)"
   ]
  },
  {
   "cell_type": "code",
   "execution_count": 31,
   "metadata": {},
   "outputs": [],
   "source": [
    "model_tools.free_market = False                 # all quotas are 1?\n",
    "model_tools.trade_quotas = np.array([[0]*model_tools.no_countries]*model_tools.no_countries)                                     \n",
    "np.fill_diagonal(model_tools.trade_quotas, [1]*model_tools.no_countries) \n",
    "model_tools.trade_quotas = [list(country) for country in model_tools.trade_quotas] "
   ]
  },
  {
   "cell_type": "code",
   "execution_count": 32,
   "metadata": {},
   "outputs": [],
   "source": [
    "experiment(rand_seeds[14:17], 900, \"quotas_bb_alt_0\", csv = False)   #  75 years - just to see if cycles emerge"
   ]
  },
  {
   "cell_type": "code",
   "execution_count": null,
   "metadata": {},
   "outputs": [],
   "source": []
  },
  {
   "cell_type": "markdown",
   "metadata": {},
   "source": [
    "#### 0.05 quotas"
   ]
  },
  {
   "cell_type": "code",
   "execution_count": 58,
   "metadata": {},
   "outputs": [],
   "source": [
    "model_tools.free_market = False                 # all quotas are 1?\n",
    "model_tools.trade_quotas = np.array([[0.05]*model_tools.no_countries]*model_tools.no_countries)                                     \n",
    "np.fill_diagonal(model_tools.trade_quotas, [1]*model_tools.no_countries) \n",
    "model_tools.trade_quotas = [list(country) for country in model_tools.trade_quotas] "
   ]
  },
  {
   "cell_type": "code",
   "execution_count": 59,
   "metadata": {},
   "outputs": [],
   "source": [
    "experiment(rand_seeds[14:17], 900, \"quotas_bb_alt_1\", csv = False)   #  75 years - just to see if cycles emerge"
   ]
  },
  {
   "cell_type": "code",
   "execution_count": null,
   "metadata": {},
   "outputs": [],
   "source": []
  },
  {
   "cell_type": "markdown",
   "metadata": {},
   "source": [
    "#### 0.1 quotas"
   ]
  },
  {
   "cell_type": "code",
   "execution_count": 60,
   "metadata": {},
   "outputs": [],
   "source": [
    "model_tools.free_market = False                 # all quotas are 1?\n",
    "model_tools.trade_quotas = np.array([[0.1]*model_tools.no_countries]*model_tools.no_countries)                                     \n",
    "np.fill_diagonal(model_tools.trade_quotas, [1]*model_tools.no_countries) \n",
    "model_tools.trade_quotas = [list(country) for country in model_tools.trade_quotas] "
   ]
  },
  {
   "cell_type": "code",
   "execution_count": 61,
   "metadata": {},
   "outputs": [],
   "source": [
    "experiment(rand_seeds[14:17], 900, \"quotas_bb_alt_2\", csv = False)   #  75 years - just to see if cycles emerge"
   ]
  },
  {
   "cell_type": "code",
   "execution_count": null,
   "metadata": {},
   "outputs": [],
   "source": []
  },
  {
   "cell_type": "markdown",
   "metadata": {},
   "source": [
    "#### 0.2 quotas"
   ]
  },
  {
   "cell_type": "code",
   "execution_count": 62,
   "metadata": {},
   "outputs": [],
   "source": [
    "model_tools.free_market = False                 # all quotas are 1?\n",
    "model_tools.trade_quotas = np.array([[0.2]*model_tools.no_countries]*model_tools.no_countries)                                     \n",
    "np.fill_diagonal(model_tools.trade_quotas, [1]*model_tools.no_countries) \n",
    "model_tools.trade_quotas = [list(country) for country in model_tools.trade_quotas] "
   ]
  },
  {
   "cell_type": "code",
   "execution_count": 63,
   "metadata": {},
   "outputs": [],
   "source": [
    "experiment(rand_seeds[14:17], 900, \"quotas_bb_alt_3\", csv = False)   #  75 years - just to see if cycles emerge"
   ]
  },
  {
   "cell_type": "code",
   "execution_count": null,
   "metadata": {},
   "outputs": [],
   "source": []
  },
  {
   "cell_type": "markdown",
   "metadata": {},
   "source": [
    "#### 0.3 quotas"
   ]
  },
  {
   "cell_type": "code",
   "execution_count": 64,
   "metadata": {},
   "outputs": [],
   "source": [
    "model_tools.free_market = False                 # all quotas are 1?\n",
    "model_tools.trade_quotas = np.array([[0.3]*model_tools.no_countries]*model_tools.no_countries)                                     \n",
    "np.fill_diagonal(model_tools.trade_quotas, [1]*model_tools.no_countries) \n",
    "model_tools.trade_quotas = [list(country) for country in model_tools.trade_quotas] "
   ]
  },
  {
   "cell_type": "code",
   "execution_count": 65,
   "metadata": {},
   "outputs": [],
   "source": [
    "experiment(rand_seeds[14:17], 900, \"quotas_bb_alt_4\", csv = False)   #  75 years - just to see if cycles emerge"
   ]
  },
  {
   "cell_type": "code",
   "execution_count": null,
   "metadata": {},
   "outputs": [],
   "source": []
  },
  {
   "cell_type": "markdown",
   "metadata": {},
   "source": [
    "#### 0.5 quotas"
   ]
  },
  {
   "cell_type": "code",
   "execution_count": 66,
   "metadata": {},
   "outputs": [],
   "source": [
    "model_tools.free_market = False                 # all quotas are 1?\n",
    "model_tools.trade_quotas = np.array([[0.5]*model_tools.no_countries]*model_tools.no_countries)                                     \n",
    "np.fill_diagonal(model_tools.trade_quotas, [1]*model_tools.no_countries) \n",
    "model_tools.trade_quotas = [list(country) for country in model_tools.trade_quotas] "
   ]
  },
  {
   "cell_type": "code",
   "execution_count": 67,
   "metadata": {},
   "outputs": [],
   "source": [
    "experiment(rand_seeds[14:17], 900, \"quotas_bb_alt_5\", csv = False)   #  75 years - just to see if cycles emerge"
   ]
  },
  {
   "cell_type": "code",
   "execution_count": null,
   "metadata": {},
   "outputs": [],
   "source": []
  },
  {
   "cell_type": "markdown",
   "metadata": {},
   "source": [
    "#### 0.7 quotas"
   ]
  },
  {
   "cell_type": "code",
   "execution_count": 68,
   "metadata": {},
   "outputs": [],
   "source": [
    "model_tools.free_market = False                 # all quotas are 1?\n",
    "model_tools.trade_quotas = np.array([[0.7]*model_tools.no_countries]*model_tools.no_countries)                                     \n",
    "np.fill_diagonal(model_tools.trade_quotas, [1]*model_tools.no_countries) \n",
    "model_tools.trade_quotas = [list(country) for country in model_tools.trade_quotas] "
   ]
  },
  {
   "cell_type": "code",
   "execution_count": 69,
   "metadata": {},
   "outputs": [],
   "source": [
    "experiment(rand_seeds[14:17], 900, \"quotas_bb_alt_6\", csv = False)   #  75 years - just to see if cycles emerge"
   ]
  },
  {
   "cell_type": "code",
   "execution_count": null,
   "metadata": {},
   "outputs": [],
   "source": []
  },
  {
   "cell_type": "markdown",
   "metadata": {},
   "source": [
    "#### 0.8 quotas"
   ]
  },
  {
   "cell_type": "code",
   "execution_count": 70,
   "metadata": {},
   "outputs": [],
   "source": [
    "model_tools.free_market = False                 # all quotas are 1?\n",
    "model_tools.trade_quotas = np.array([[0.8]*model_tools.no_countries]*model_tools.no_countries)                                     \n",
    "np.fill_diagonal(model_tools.trade_quotas, [1]*model_tools.no_countries) \n",
    "model_tools.trade_quotas = [list(country) for country in model_tools.trade_quotas] "
   ]
  },
  {
   "cell_type": "code",
   "execution_count": 71,
   "metadata": {},
   "outputs": [],
   "source": [
    "experiment(rand_seeds[14:17], 900, \"quotas_bb_alt_7\", csv = False)   #  75 years - just to see if cycles emerge"
   ]
  },
  {
   "cell_type": "code",
   "execution_count": null,
   "metadata": {},
   "outputs": [],
   "source": []
  },
  {
   "cell_type": "markdown",
   "metadata": {},
   "source": [
    "#### 0.9 quotas"
   ]
  },
  {
   "cell_type": "code",
   "execution_count": 72,
   "metadata": {},
   "outputs": [],
   "source": [
    "model_tools.free_market = False                 # all quotas are 1?\n",
    "model_tools.trade_quotas = np.array([[0.9]*model_tools.no_countries]*model_tools.no_countries)                                     \n",
    "np.fill_diagonal(model_tools.trade_quotas, [1]*model_tools.no_countries) \n",
    "model_tools.trade_quotas = [list(country) for country in model_tools.trade_quotas] "
   ]
  },
  {
   "cell_type": "code",
   "execution_count": 73,
   "metadata": {},
   "outputs": [],
   "source": [
    "experiment(rand_seeds[14:17], 900, \"quotas_bb_alt_8\", csv = False)   #  75 years - just to see if cycles emerge"
   ]
  },
  {
   "cell_type": "code",
   "execution_count": null,
   "metadata": {},
   "outputs": [],
   "source": []
  },
  {
   "cell_type": "markdown",
   "metadata": {},
   "source": [
    "#### 0.95 quotas"
   ]
  },
  {
   "cell_type": "code",
   "execution_count": 74,
   "metadata": {},
   "outputs": [],
   "source": [
    "model_tools.free_market = False                 # all quotas are 1?\n",
    "model_tools.trade_quotas = np.array([[0.95]*model_tools.no_countries]*model_tools.no_countries)                                     \n",
    "np.fill_diagonal(model_tools.trade_quotas, [1]*model_tools.no_countries) \n",
    "model_tools.trade_quotas = [list(country) for country in model_tools.trade_quotas] "
   ]
  },
  {
   "cell_type": "code",
   "execution_count": 75,
   "metadata": {},
   "outputs": [],
   "source": [
    "experiment(rand_seeds[14:17], 900, \"quotas_bb_alt_9\", csv = False)   #  75 years - just to see if cycles emerge"
   ]
  },
  {
   "cell_type": "code",
   "execution_count": null,
   "metadata": {},
   "outputs": [],
   "source": []
  },
  {
   "cell_type": "code",
   "execution_count": null,
   "metadata": {},
   "outputs": [],
   "source": []
  },
  {
   "cell_type": "markdown",
   "metadata": {},
   "source": [
    "## 2 countries BS models"
   ]
  },
  {
   "cell_type": "code",
   "execution_count": 33,
   "metadata": {},
   "outputs": [],
   "source": [
    "model_tools.ns = [8000,2000]    # no HSHs\n",
    "model_tools.ms = [880,220]      # no firms\n",
    "set_base_pars()\n",
    "model_tools.free_market = False                 # all quotas are 1?\n"
   ]
  },
  {
   "cell_type": "markdown",
   "metadata": {},
   "source": [
    "### BS baseline quotas experiments"
   ]
  },
  {
   "cell_type": "markdown",
   "metadata": {},
   "source": [
    "#### note:\n",
    "from now updated model with corrected loans payback and doubtful loans is used"
   ]
  },
  {
   "cell_type": "code",
   "execution_count": 12,
   "metadata": {},
   "outputs": [],
   "source": [
    "quotas = [0.05, 0.1, 0.2, 0.3, 0.5, 0.7, 0.8, 0.9, 0.95]"
   ]
  },
  {
   "cell_type": "code",
   "execution_count": 18,
   "metadata": {},
   "outputs": [],
   "source": [
    "grid = [[make_matrix(quota, False)] for quota in quotas]"
   ]
  },
  {
   "cell_type": "code",
   "execution_count": 21,
   "metadata": {
    "scrolled": true
   },
   "outputs": [
    {
     "name": "stderr",
     "output_type": "stream",
     "text": [
      "C:\\Users\\am\\Anaconda3\\lib\\site-packages\\numpy\\core\\fromnumeric.py:3118: RuntimeWarning: Mean of empty slice.\n",
      "  out=out, **kwargs)\n",
      "C:\\Users\\am\\Anaconda3\\lib\\site-packages\\numpy\\core\\_methods.py:85: RuntimeWarning: invalid value encountered in double_scalars\n",
      "  ret = ret.dtype.type(ret / rcount)\n",
      "C:\\Users\\am\\model_tools.py:1556: RuntimeWarning: invalid value encountered in true_divide\n",
      "  results.append(list(multiply*s1/s2))\n",
      "C:\\Users\\am\\model_tools.py:1542: RuntimeWarning: invalid value encountered in true_divide\n",
      "  results.append(list(diff/s1))\n",
      "C:\\Users\\am\\model_tools.py:1556: RuntimeWarning: divide by zero encountered in true_divide\n",
      "  results.append(list(multiply*s1/s2))\n",
      "C:\\Users\\am\\model_tools.py:1789: PerformanceWarning: \n",
      "your performance may suffer as PyTables will pickle object types that it cannot\n",
      "map directly to c-types [inferred_type->mixed,key->block0_values] [items->Index(['employment', 'wages', 'working_wages', 'vol_unemployed', 'months_u',\n",
      "       'unemployed_months_u', 'hsh_sentiment', 'hsh_income', 'savings_T',\n",
      "       'budget', 'cons', 'cons_value', 'forced_savings', 'hsh_deposits',\n",
      "       'prices', 'offered_wages', 'production', 'production_value',\n",
      "       'labor_demand', 'labor', 'job_offers', 'vacancies', 'inventories',\n",
      "       'sales', 'sales_value', 'sales_costs', 'firm_assets', 'firm_capital',\n",
      "       'firm_capital_target', 'firm_dividends', 'firm_sentiment',\n",
      "       'firm_deposits', 'loans', 'bank_capital', 'bank_deposit', 'deposits',\n",
      "       'doubtful_loans', 'doubtful_ratio', 'bankruptcies', 'bank_dividend',\n",
      "       'spec_no_of_firms', 'spec_exch_rates', 'spec_natural_exch_rates',\n",
      "       'spec_export_details', 'spec_import_details', 'spec_trade_balances',\n",
      "       'spec_bank_accounts'],\n",
      "      dtype='object')]\n",
      "\n",
      "  aa.export_data(note = note, hdf = hdf, csv = csv)\n",
      "C:\\Users\\am\\model_tools.py:1789: PerformanceWarning: \n",
      "your performance may suffer as PyTables will pickle object types that it cannot\n",
      "map directly to c-types [inferred_type->mixed,key->block0_values] [items->Index(['inventories_y', 'unemployment_m', 'unemployment_y',\n",
      "       'vol_unemployed_rate_m', 'vol_unemployed_rate_y', 'price_level_m',\n",
      "       'inflation_m', 'sales_y', 'sales_value_y', 'price_level_y',\n",
      "       'inflation_y', 'vacancy_rates_m', 'vacancies_y', 'labor_demand_y',\n",
      "       'vacancy_rates_y', 'capital_adequacy_ratio_m', 'gross_profits_m',\n",
      "       'total_income_m', 'wage_share_m', 'profits_share_m', 'gross_profits_y',\n",
      "       'total_income_y', 'wages_y', 'wage_share_y', 'profits_share_y',\n",
      "       'mean_real_profits_m', 'mean_real_profits_y', 'mark_ups_m',\n",
      "       'mark_ups_y', 'bankruptcies_y', 'bankruptcy_rate_y',\n",
      "       'capacity_utilization_m', 'capacity_utilization_y', 'mean_real_wage_m',\n",
      "       'median_real_wage_m', 'mean_real_wage_y', 'self_financing_ratio_m',\n",
      "       'targeted_debt_ratio_m', 'targeted_debt_m', 'mean_targeted_debt_m',\n",
      "       'excessive_debt_rate_m', 'hoarding_m', 'unemployment_duration_y',\n",
      "       'money_velocity_y', 'cons_y', 'mean_cons_y', 'cons_value_y',\n",
      "       'mean_cons_value_y', 'forced_savings_rate_m', 'forced_savings_rate_y',\n",
      "       'total_trade_balances_m', 'total_exports_m', 'total_imports_m',\n",
      "       'total_export_rates_m', 'total_import_rates_m',\n",
      "       'detailed_export_rates_m', 'detailed_import_rates_m',\n",
      "       'total_trade_balances_y', 'total_exports_y', 'total_imports_y',\n",
      "       'total_export_rates_y', 'total_import_rates_y'],\n",
      "      dtype='object')]\n",
      "\n",
      "  aa.export_data(note = note, hdf = hdf, csv = csv)\n",
      "C:\\Users\\am\\model_tools.py:1556: RuntimeWarning: invalid value encountered in true_divide\n",
      "  results.append(list(multiply*s1/s2))\n",
      "C:\\Users\\am\\model_tools.py:1542: RuntimeWarning: invalid value encountered in true_divide\n",
      "  results.append(list(diff/s1))\n",
      "C:\\Users\\am\\model_tools.py:1556: RuntimeWarning: divide by zero encountered in true_divide\n",
      "  results.append(list(multiply*s1/s2))\n",
      "C:\\Users\\am\\Anaconda3\\lib\\site-packages\\numpy\\core\\fromnumeric.py:3118: RuntimeWarning: Mean of empty slice.\n",
      "  out=out, **kwargs)\n",
      "C:\\Users\\am\\Anaconda3\\lib\\site-packages\\numpy\\core\\_methods.py:85: RuntimeWarning: invalid value encountered in double_scalars\n",
      "  ret = ret.dtype.type(ret / rcount)\n"
     ]
    },
    {
     "name": "stdout",
     "output_type": "stream",
     "text": [
      "experiment 0 is finished\n",
      "experiment 1 is finished\n",
      "experiment 2 is finished\n",
      "experiment 3 is finished\n",
      "experiment 4 is finished\n",
      "experiment 5 is finished\n",
      "experiment 6 is finished\n",
      "experiment 7 is finished\n",
      "experiment 8 is finished\n"
     ]
    }
   ],
   "source": [
    "exp_grid( grid , [\"trade_quotas\"],  \n",
    "         rand_seeds[14:17], 900, \"base_quotas_bs\", csv = False)"
   ]
  },
  {
   "cell_type": "code",
   "execution_count": null,
   "metadata": {},
   "outputs": [],
   "source": []
  },
  {
   "cell_type": "code",
   "execution_count": 34,
   "metadata": {},
   "outputs": [],
   "source": [
    "model_tools.free_market = False                 # all quotas are 1?\n",
    "model_tools.trade_quotas = np.array([[0]*model_tools.no_countries]*model_tools.no_countries)                                     \n",
    "np.fill_diagonal(model_tools.trade_quotas, [1]*model_tools.no_countries) \n",
    "model_tools.trade_quotas = [list(country) for country in model_tools.trade_quotas]"
   ]
  },
  {
   "cell_type": "code",
   "execution_count": 35,
   "metadata": {},
   "outputs": [],
   "source": [
    "experiment(rand_seeds[14:17], 900, \"base_quotas_bs_0\", csv = False)  "
   ]
  },
  {
   "cell_type": "code",
   "execution_count": null,
   "metadata": {},
   "outputs": [],
   "source": []
  },
  {
   "cell_type": "markdown",
   "metadata": {},
   "source": [
    "### BS alternative quotas experiments"
   ]
  },
  {
   "cell_type": "code",
   "execution_count": 22,
   "metadata": {},
   "outputs": [],
   "source": [
    "model_tools.wage_resist = [8]*model_tools.no_countries             # wage resistance in unemployment; 12 in baseline, 8 in alternative\n",
    "model_tools.wage_flex = [0.08]*model_tools.no_countries             # wage flexibility;                0.05 in baseline, 0.08 or 0.25 in alternative\n",
    "model_tools.free_market = False "
   ]
  },
  {
   "cell_type": "code",
   "execution_count": 23,
   "metadata": {},
   "outputs": [],
   "source": [
    "quotas = [0.05, 0.1, 0.2, 0.3, 0.5, 0.7, 0.8, 0.9, 0.95]"
   ]
  },
  {
   "cell_type": "code",
   "execution_count": 24,
   "metadata": {},
   "outputs": [],
   "source": [
    "grid = [[make_matrix(quota, False)] for quota in quotas]"
   ]
  },
  {
   "cell_type": "code",
   "execution_count": 25,
   "metadata": {},
   "outputs": [
    {
     "name": "stdout",
     "output_type": "stream",
     "text": [
      "experiment 0 is finished\n",
      "experiment 1 is finished\n",
      "experiment 2 is finished\n",
      "experiment 3 is finished\n",
      "experiment 4 is finished\n",
      "experiment 5 is finished\n",
      "experiment 6 is finished\n",
      "experiment 7 is finished\n",
      "experiment 8 is finished\n"
     ]
    }
   ],
   "source": [
    "exp_grid( grid , [\"trade_quotas\"],  \n",
    "         rand_seeds[14:17], 900, \"alt_quotas_bs\", csv = False)"
   ]
  },
  {
   "cell_type": "code",
   "execution_count": null,
   "metadata": {},
   "outputs": [],
   "source": []
  },
  {
   "cell_type": "code",
   "execution_count": 36,
   "metadata": {},
   "outputs": [],
   "source": [
    "model_tools.wage_resist = [8]*model_tools.no_countries             # wage resistance in unemployment; 12 in baseline, 8 in alternative\n",
    "model_tools.wage_flex = [0.08]*model_tools.no_countries             # wage flexibility;                0.05 in baseline, 0.08 or 0.25 in alternative\n",
    "\n",
    "model_tools.free_market = False                 # all quotas are 1?\n",
    "model_tools.trade_quotas = np.array([[0]*model_tools.no_countries]*model_tools.no_countries)                                     \n",
    "np.fill_diagonal(model_tools.trade_quotas, [1]*model_tools.no_countries) \n",
    "model_tools.trade_quotas = [list(country) for country in model_tools.trade_quotas]"
   ]
  },
  {
   "cell_type": "code",
   "execution_count": 37,
   "metadata": {},
   "outputs": [],
   "source": [
    "experiment(rand_seeds[14:17], 900, \"alt_quotas_bs_0\", csv = False)  "
   ]
  },
  {
   "cell_type": "code",
   "execution_count": null,
   "metadata": {},
   "outputs": [],
   "source": []
  },
  {
   "cell_type": "markdown",
   "metadata": {},
   "source": [
    "# Trade costs experiments"
   ]
  },
  {
   "cell_type": "markdown",
   "metadata": {},
   "source": [
    "## BB trade costs"
   ]
  },
  {
   "cell_type": "code",
   "execution_count": 9,
   "metadata": {},
   "outputs": [],
   "source": [
    "model_tools.ns = [5000,5000]    # no HSHs\n",
    "model_tools.ms = [550,550]      # no firms\n",
    "set_base_pars()\n"
   ]
  },
  {
   "cell_type": "markdown",
   "metadata": {},
   "source": [
    "### baseline BB trade costs"
   ]
  },
  {
   "cell_type": "code",
   "execution_count": 24,
   "metadata": {},
   "outputs": [],
   "source": [
    "costs = [0, 0.01, 0.1, 0.2, 0.3, 0.5, 0.7, 1, 1.3]     # 0.05 is the original value"
   ]
  },
  {
   "cell_type": "code",
   "execution_count": 25,
   "metadata": {},
   "outputs": [],
   "source": [
    "grid = [[make_matrix(cost, True)] for cost in costs]"
   ]
  },
  {
   "cell_type": "code",
   "execution_count": 46,
   "metadata": {},
   "outputs": [
    {
     "name": "stdout",
     "output_type": "stream",
     "text": [
      "experiment 0 is finished\n",
      "experiment 1 is finished\n",
      "experiment 2 is finished\n",
      "experiment 3 is finished\n",
      "experiment 4 is finished\n",
      "experiment 5 is finished\n",
      "experiment 6 is finished\n",
      "experiment 7 is finished\n",
      "experiment 8 is finished\n"
     ]
    }
   ],
   "source": [
    "exp_grid( grid , [\"trade_costs\"],  \n",
    "         rand_seeds[14:17], 900, \"base_costs_bb\", csv = False)"
   ]
  },
  {
   "cell_type": "code",
   "execution_count": null,
   "metadata": {},
   "outputs": [],
   "source": []
  },
  {
   "cell_type": "markdown",
   "metadata": {},
   "source": [
    "### alternative BB costs"
   ]
  },
  {
   "cell_type": "code",
   "execution_count": 10,
   "metadata": {},
   "outputs": [],
   "source": [
    "model_tools.wage_resist = [8]*model_tools.no_countries             # wage resistance in unemployment; 12 in baseline, 8 in alternative\n",
    "model_tools.wage_flex = [0.08]*model_tools.no_countries             # wage flexibility;                0.05 in baseline, 0.08 or 0.25 in alternative\n"
   ]
  },
  {
   "cell_type": "code",
   "execution_count": 11,
   "metadata": {},
   "outputs": [],
   "source": [
    "costs = [0, 0.01, 0.1, 0.2, 0.3, 0.5, 0.7, 1, 1.3]     # 0.05 is the original value\n",
    "grid = [[make_matrix(cost, True)] for cost in costs]"
   ]
  },
  {
   "cell_type": "code",
   "execution_count": null,
   "metadata": {},
   "outputs": [
    {
     "name": "stdout",
     "output_type": "stream",
     "text": [
      "experiment 0 is finished\n",
      "experiment 1 is finished\n"
     ]
    }
   ],
   "source": [
    "exp_grid( grid , [\"trade_costs\"],  \n",
    "         rand_seeds[14:17], 900, \"alt_costs_bb\", csv = False)"
   ]
  },
  {
   "cell_type": "code",
   "execution_count": 13,
   "metadata": {
    "scrolled": true
   },
   "outputs": [
    {
     "name": "stderr",
     "output_type": "stream",
     "text": [
      "C:\\Users\\am\\model_tools.py:1556: RuntimeWarning: invalid value encountered in true_divide\n",
      "  results.append(list(multiply*s1/s2))\n",
      "C:\\Users\\am\\model_tools.py:1542: RuntimeWarning: invalid value encountered in true_divide\n",
      "  results.append(list(diff/s1))\n",
      "C:\\Users\\am\\model_tools.py:1556: RuntimeWarning: divide by zero encountered in true_divide\n",
      "  results.append(list(multiply*s1/s2))\n",
      "C:\\Users\\am\\model_tools.py:1789: PerformanceWarning: \n",
      "your performance may suffer as PyTables will pickle object types that it cannot\n",
      "map directly to c-types [inferred_type->mixed,key->block0_values] [items->Index(['employment', 'wages', 'working_wages', 'vol_unemployed', 'months_u',\n",
      "       'unemployed_months_u', 'hsh_sentiment', 'hsh_income', 'savings_T',\n",
      "       'budget', 'cons', 'cons_value', 'forced_savings', 'hsh_deposits',\n",
      "       'prices', 'offered_wages', 'production', 'production_value',\n",
      "       'labor_demand', 'labor', 'job_offers', 'vacancies', 'inventories',\n",
      "       'sales', 'sales_value', 'sales_costs', 'firm_assets', 'firm_capital',\n",
      "       'firm_capital_target', 'firm_dividends', 'firm_sentiment',\n",
      "       'firm_deposits', 'loans', 'bank_capital', 'bank_deposit', 'deposits',\n",
      "       'doubtful_loans', 'doubtful_ratio', 'bankruptcies', 'bank_dividend',\n",
      "       'spec_no_of_firms', 'spec_exch_rates', 'spec_natural_exch_rates',\n",
      "       'spec_export_details', 'spec_import_details', 'spec_trade_balances',\n",
      "       'spec_bank_accounts'],\n",
      "      dtype='object')]\n",
      "\n",
      "  aa.export_data(note = note, hdf = hdf, csv = csv)\n",
      "C:\\Users\\am\\model_tools.py:1789: PerformanceWarning: \n",
      "your performance may suffer as PyTables will pickle object types that it cannot\n",
      "map directly to c-types [inferred_type->mixed,key->block0_values] [items->Index(['inventories_y', 'unemployment_m', 'unemployment_y',\n",
      "       'vol_unemployed_rate_m', 'vol_unemployed_rate_y', 'price_level_m',\n",
      "       'inflation_m', 'sales_y', 'sales_value_y', 'price_level_y',\n",
      "       'inflation_y', 'vacancy_rates_m', 'vacancies_y', 'labor_demand_y',\n",
      "       'vacancy_rates_y', 'capital_adequacy_ratio_m', 'gross_profits_m',\n",
      "       'total_income_m', 'wage_share_m', 'profits_share_m', 'gross_profits_y',\n",
      "       'total_income_y', 'wages_y', 'wage_share_y', 'profits_share_y',\n",
      "       'mean_real_profits_m', 'mean_real_profits_y', 'mark_ups_m',\n",
      "       'mark_ups_y', 'bankruptcies_y', 'bankruptcy_rate_y',\n",
      "       'capacity_utilization_m', 'capacity_utilization_y', 'mean_real_wage_m',\n",
      "       'median_real_wage_m', 'mean_real_wage_y', 'self_financing_ratio_m',\n",
      "       'targeted_debt_ratio_m', 'targeted_debt_m', 'mean_targeted_debt_m',\n",
      "       'excessive_debt_rate_m', 'hoarding_m', 'unemployment_duration_y',\n",
      "       'money_velocity_y', 'cons_y', 'mean_cons_y', 'cons_value_y',\n",
      "       'mean_cons_value_y', 'forced_savings_rate_m', 'forced_savings_rate_y',\n",
      "       'total_trade_balances_m', 'total_exports_m', 'total_imports_m',\n",
      "       'total_export_rates_m', 'total_import_rates_m',\n",
      "       'detailed_export_rates_m', 'detailed_import_rates_m',\n",
      "       'total_trade_balances_y', 'total_exports_y', 'total_imports_y',\n",
      "       'total_export_rates_y', 'total_import_rates_y'],\n",
      "      dtype='object')]\n",
      "\n",
      "  aa.export_data(note = note, hdf = hdf, csv = csv)\n",
      "C:\\Users\\am\\model_tools.py:1556: RuntimeWarning: invalid value encountered in true_divide\n",
      "  results.append(list(multiply*s1/s2))\n",
      "C:\\Users\\am\\model_tools.py:1542: RuntimeWarning: invalid value encountered in true_divide\n",
      "  results.append(list(diff/s1))\n",
      "C:\\Users\\am\\model_tools.py:1556: RuntimeWarning: divide by zero encountered in true_divide\n",
      "  results.append(list(multiply*s1/s2))\n"
     ]
    },
    {
     "name": "stdout",
     "output_type": "stream",
     "text": [
      "306:  Bank 1_b_0 is bankrupt!\n",
      "309:  Bank 0_b_0 is bankrupt!\n",
      "experiment 2 is finished\n",
      "experiment 3 is finished\n",
      "experiment 4 is finished\n",
      "experiment 5 is finished\n",
      "experiment 6 is finished\n",
      "experiment 7 is finished\n",
      "experiment 8 is finished\n"
     ]
    }
   ],
   "source": [
    "exp_grid( grid , [\"trade_costs\"],    # finishing after restart\n",
    "         rand_seeds[14:17], 900, \"alt_costs_bb\", start = 2, csv = False)"
   ]
  },
  {
   "cell_type": "markdown",
   "metadata": {},
   "source": [
    "alt_costs_bb_2 first or second run:\n",
    "\n",
    "306:  Bank 1_b_0 is bankrupt!\n",
    "\n",
    "309:  Bank 0_b_0 is bankrupt!"
   ]
  },
  {
   "cell_type": "code",
   "execution_count": 12,
   "metadata": {},
   "outputs": [],
   "source": [
    "# redo after mistakingly deleting results\n",
    "model_tools.trade_costs = grid[1][0]"
   ]
  },
  {
   "cell_type": "code",
   "execution_count": 13,
   "metadata": {
    "scrolled": true
   },
   "outputs": [
    {
     "name": "stderr",
     "output_type": "stream",
     "text": [
      "C:\\Users\\am\\model_tools.py:1556: RuntimeWarning: invalid value encountered in true_divide\n",
      "  results.append(list(multiply*s1/s2))\n",
      "C:\\Users\\am\\model_tools.py:1542: RuntimeWarning: invalid value encountered in true_divide\n",
      "  results.append(list(diff/s1))\n",
      "C:\\Users\\am\\model_tools.py:1556: RuntimeWarning: divide by zero encountered in true_divide\n",
      "  results.append(list(multiply*s1/s2))\n",
      "C:\\Users\\am\\model_tools.py:1789: PerformanceWarning: \n",
      "your performance may suffer as PyTables will pickle object types that it cannot\n",
      "map directly to c-types [inferred_type->mixed,key->block0_values] [items->Index(['employment', 'wages', 'working_wages', 'vol_unemployed', 'months_u',\n",
      "       'unemployed_months_u', 'hsh_sentiment', 'hsh_income', 'savings_T',\n",
      "       'budget', 'cons', 'cons_value', 'forced_savings', 'hsh_deposits',\n",
      "       'prices', 'offered_wages', 'production', 'production_value',\n",
      "       'labor_demand', 'labor', 'job_offers', 'vacancies', 'inventories',\n",
      "       'sales', 'sales_value', 'sales_costs', 'firm_assets', 'firm_capital',\n",
      "       'firm_capital_target', 'firm_dividends', 'firm_sentiment',\n",
      "       'firm_deposits', 'loans', 'bank_capital', 'bank_deposit', 'deposits',\n",
      "       'doubtful_loans', 'doubtful_ratio', 'bankruptcies', 'bank_dividend',\n",
      "       'spec_no_of_firms', 'spec_exch_rates', 'spec_natural_exch_rates',\n",
      "       'spec_export_details', 'spec_import_details', 'spec_trade_balances',\n",
      "       'spec_bank_accounts'],\n",
      "      dtype='object')]\n",
      "\n",
      "  aa.export_data(note = note, hdf = hdf, csv = csv)\n",
      "C:\\Users\\am\\model_tools.py:1789: PerformanceWarning: \n",
      "your performance may suffer as PyTables will pickle object types that it cannot\n",
      "map directly to c-types [inferred_type->mixed,key->block0_values] [items->Index(['inventories_y', 'unemployment_m', 'unemployment_y',\n",
      "       'vol_unemployed_rate_m', 'vol_unemployed_rate_y', 'price_level_m',\n",
      "       'inflation_m', 'sales_y', 'sales_value_y', 'price_level_y',\n",
      "       'inflation_y', 'vacancy_rates_m', 'vacancies_y', 'labor_demand_y',\n",
      "       'vacancy_rates_y', 'capital_adequacy_ratio_m', 'gross_profits_m',\n",
      "       'total_income_m', 'wage_share_m', 'profits_share_m', 'gross_profits_y',\n",
      "       'total_income_y', 'wages_y', 'wage_share_y', 'profits_share_y',\n",
      "       'mean_real_profits_m', 'mean_real_profits_y', 'mark_ups_m',\n",
      "       'mark_ups_y', 'bankruptcies_y', 'bankruptcy_rate_y',\n",
      "       'capacity_utilization_m', 'capacity_utilization_y', 'mean_real_wage_m',\n",
      "       'median_real_wage_m', 'mean_real_wage_y', 'self_financing_ratio_m',\n",
      "       'targeted_debt_ratio_m', 'targeted_debt_m', 'mean_targeted_debt_m',\n",
      "       'excessive_debt_rate_m', 'hoarding_m', 'unemployment_duration_y',\n",
      "       'money_velocity_y', 'cons_y', 'mean_cons_y', 'cons_value_y',\n",
      "       'mean_cons_value_y', 'forced_savings_rate_m', 'forced_savings_rate_y',\n",
      "       'total_trade_balances_m', 'total_exports_m', 'total_imports_m',\n",
      "       'total_export_rates_m', 'total_import_rates_m',\n",
      "       'detailed_export_rates_m', 'detailed_import_rates_m',\n",
      "       'total_trade_balances_y', 'total_exports_y', 'total_imports_y',\n",
      "       'total_export_rates_y', 'total_import_rates_y'],\n",
      "      dtype='object')]\n",
      "\n",
      "  aa.export_data(note = note, hdf = hdf, csv = csv)\n",
      "C:\\Users\\am\\model_tools.py:1556: RuntimeWarning: invalid value encountered in true_divide\n",
      "  results.append(list(multiply*s1/s2))\n",
      "C:\\Users\\am\\model_tools.py:1542: RuntimeWarning: invalid value encountered in true_divide\n",
      "  results.append(list(diff/s1))\n",
      "C:\\Users\\am\\model_tools.py:1556: RuntimeWarning: divide by zero encountered in true_divide\n",
      "  results.append(list(multiply*s1/s2))\n"
     ]
    }
   ],
   "source": [
    "experiment(rand_seeds[14:17], 900, \"alt_costs_bb_2\", csv = False)  #       # second experiment numbered as 2"
   ]
  },
  {
   "cell_type": "code",
   "execution_count": null,
   "metadata": {},
   "outputs": [],
   "source": []
  },
  {
   "cell_type": "markdown",
   "metadata": {},
   "source": [
    "## BS trade costs"
   ]
  },
  {
   "cell_type": "code",
   "execution_count": 14,
   "metadata": {},
   "outputs": [],
   "source": [
    "model_tools.ns = [8000,2000]    # no HSHs\n",
    "model_tools.ms = [880,220]      # no firms\n",
    "set_base_pars()\n"
   ]
  },
  {
   "cell_type": "markdown",
   "metadata": {},
   "source": [
    "### baseline BS trade costs"
   ]
  },
  {
   "cell_type": "code",
   "execution_count": 15,
   "metadata": {},
   "outputs": [],
   "source": [
    "costs = [0, 0.01, 0.1, 0.2, 0.3, 0.5, 0.7, 1, 1.3]     # 0.05 is the original value\n",
    "grid = [[make_matrix(cost, True)] for cost in costs]"
   ]
  },
  {
   "cell_type": "code",
   "execution_count": 16,
   "metadata": {
    "scrolled": true
   },
   "outputs": [
    {
     "name": "stderr",
     "output_type": "stream",
     "text": [
      "C:\\Users\\am\\Anaconda3\\lib\\site-packages\\numpy\\core\\fromnumeric.py:3118: RuntimeWarning: Mean of empty slice.\n",
      "  out=out, **kwargs)\n",
      "C:\\Users\\am\\Anaconda3\\lib\\site-packages\\numpy\\core\\_methods.py:85: RuntimeWarning: invalid value encountered in double_scalars\n",
      "  ret = ret.dtype.type(ret / rcount)\n"
     ]
    },
    {
     "name": "stdout",
     "output_type": "stream",
     "text": [
      "experiment 0 is finished\n",
      "experiment 1 is finished\n",
      "experiment 2 is finished\n",
      "776:  Bank 1_b_0 is bankrupt!\n",
      "831:  Bank 1_b_0 is bankrupt!\n",
      "734:  Bank 1_b_0 is bankrupt!\n",
      "experiment 3 is finished\n",
      "467:  Bank 1_b_0 is bankrupt!\n",
      "498:  Bank 1_b_0 is bankrupt!\n",
      "471:  Bank 1_b_0 is bankrupt!\n",
      "experiment 4 is finished\n",
      "323:  Bank 1_b_0 is bankrupt!\n",
      "321:  Bank 1_b_0 is bankrupt!\n",
      "325:  Bank 1_b_0 is bankrupt!\n",
      "experiment 5 is finished\n",
      "240:  Bank 1_b_0 is bankrupt!\n",
      "261:  Bank 1_b_0 is bankrupt!\n",
      "264:  Bank 1_b_0 is bankrupt!\n",
      "experiment 6 is finished\n",
      "165:  Bank 1_b_0 is bankrupt!\n",
      "171:  Bank 1_b_0 is bankrupt!\n",
      "120:  Bank 1_b_0 is bankrupt!\n",
      "experiment 7 is finished\n",
      "165:  Bank 1_b_0 is bankrupt!\n",
      "120:  Bank 1_b_0 is bankrupt!\n",
      "120:  Bank 1_b_0 is bankrupt!\n",
      "experiment 8 is finished\n"
     ]
    }
   ],
   "source": [
    "exp_grid( grid , [\"trade_costs\"],  \n",
    "         rand_seeds[14:17], 900, \"base_costs_bs\", csv = False)"
   ]
  },
  {
   "cell_type": "markdown",
   "metadata": {},
   "source": [
    "bs baseline costs experiments:\n",
    "\n",
    "experiment 3:\n",
    "\n",
    "776:  Bank 1_b_0 is bankrupt!\n",
    "\n",
    "831:  Bank 1_b_0 is bankrupt!\n",
    "\n",
    "734:  Bank 1_b_0 is bankrupt!\n",
    "\n",
    "experiment 4:\n",
    "\n",
    "467:  Bank 1_b_0 is bankrupt!\n",
    "\n",
    "498:  Bank 1_b_0 is bankrupt!\n",
    "\n",
    "471:  Bank 1_b_0 is bankrupt!\n",
    "\n",
    "experiment 5:\n",
    "\n",
    "323:  Bank 1_b_0 is bankrupt!\n",
    "\n",
    "321:  Bank 1_b_0 is bankrupt!\n",
    "\n",
    "325:  Bank 1_b_0 is bankrupt!\n",
    "\n",
    "experiment 6:\n",
    "\n",
    "240:  Bank 1_b_0 is bankrupt!\n",
    "\n",
    "261:  Bank 1_b_0 is bankrupt!\n",
    "\n",
    "264:  Bank 1_b_0 is bankrupt!\n",
    "\n",
    "experiment 7:\n",
    "\n",
    "165:  Bank 1_b_0 is bankrupt!\n",
    "\n",
    "171:  Bank 1_b_0 is bankrupt!\n",
    "\n",
    "120:  Bank 1_b_0 is bankrupt!\n",
    "\n",
    "experiment 8:\n",
    "\n",
    "165:  Bank 1_b_0 is bankrupt!\n",
    "\n",
    "120:  Bank 1_b_0 is bankrupt!\n",
    "\n",
    "120:  Bank 1_b_0 is bankrupt!\n",
    " "
   ]
  },
  {
   "cell_type": "code",
   "execution_count": null,
   "metadata": {},
   "outputs": [],
   "source": []
  },
  {
   "cell_type": "markdown",
   "metadata": {},
   "source": [
    "### alternative BS costs"
   ]
  },
  {
   "cell_type": "code",
   "execution_count": 17,
   "metadata": {},
   "outputs": [],
   "source": [
    "model_tools.wage_resist = [8]*model_tools.no_countries             # wage resistance in unemployment; 12 in baseline, 8 in alternative\n",
    "model_tools.wage_flex = [0.08]*model_tools.no_countries             # wage flexibility;                0.05 in baseline, 0.08 or 0.25 in alternative\n"
   ]
  },
  {
   "cell_type": "code",
   "execution_count": 18,
   "metadata": {},
   "outputs": [],
   "source": [
    "costs = [0, 0.01, 0.1, 0.2, 0.3, 0.5, 0.7, 1, 1.3]     # 0.05 is the original value\n",
    "grid = [[make_matrix(cost, True)] for cost in costs]"
   ]
  },
  {
   "cell_type": "code",
   "execution_count": 19,
   "metadata": {
    "scrolled": false
   },
   "outputs": [
    {
     "name": "stdout",
     "output_type": "stream",
     "text": [
      "experiment 0 is finished\n",
      "experiment 1 is finished\n",
      "experiment 2 is finished\n",
      "661:  Bank 1_b_0 is bankrupt!\n",
      "624:  Bank 1_b_0 is bankrupt!\n",
      "723:  Bank 1_b_0 is bankrupt!\n",
      "experiment 3 is finished\n",
      "438:  Bank 1_b_0 is bankrupt!\n",
      "461:  Bank 1_b_0 is bankrupt!\n",
      "441:  Bank 1_b_0 is bankrupt!\n",
      "experiment 4 is finished\n",
      "362:  Bank 1_b_0 is bankrupt!\n",
      "427:  Bank 1_b_0 is bankrupt!\n",
      "410:  Bank 1_b_0 is bankrupt!\n",
      "experiment 5 is finished\n",
      "120:  Bank 1_b_0 is bankrupt!\n",
      "632:  Bank 0_b_0 is bankrupt!\n",
      "120:  Bank 1_b_0 is bankrupt!\n",
      "208:  Bank 0_b_0 is bankrupt!\n",
      "120:  Bank 1_b_0 is bankrupt!\n",
      "211:  Bank 0_b_0 is bankrupt!\n",
      "experiment 6 is finished\n",
      "120:  Bank 1_b_0 is bankrupt!\n",
      "250:  Bank 0_b_0 is bankrupt!\n",
      "120:  Bank 1_b_0 is bankrupt!\n",
      "244:  Bank 0_b_0 is bankrupt!\n",
      "120:  Bank 1_b_0 is bankrupt!\n",
      "468:  Bank 0_b_0 is bankrupt!\n",
      "experiment 7 is finished\n",
      "120:  Bank 1_b_0 is bankrupt!\n",
      "231:  Bank 0_b_0 is bankrupt!\n",
      "120:  Bank 1_b_0 is bankrupt!\n",
      "471:  Bank 0_b_0 is bankrupt!\n",
      "120:  Bank 1_b_0 is bankrupt!\n",
      "261:  Bank 0_b_0 is bankrupt!\n",
      "experiment 8 is finished\n"
     ]
    }
   ],
   "source": [
    "exp_grid( grid , [\"trade_costs\"],  \n",
    "         rand_seeds[14:17], 900, \"alt_costs_bs\", csv = False)"
   ]
  },
  {
   "cell_type": "markdown",
   "metadata": {},
   "source": [
    "BS alternative trade costs experiments:\n",
    "\n",
    "experiment 3:\n",
    "\n",
    "661:  Bank 1_b_0 is bankrupt!\n",
    "\n",
    "624:  Bank 1_b_0 is bankrupt!\n",
    "\n",
    "723:  Bank 1_b_0 is bankrupt!\n",
    "\n",
    "experiment 4:\n",
    "\n",
    "438:  Bank 1_b_0 is bankrupt!\n",
    "\n",
    "461:  Bank 1_b_0 is bankrupt!\n",
    "\n",
    "441:  Bank 1_b_0 is bankrupt!\n",
    "\n",
    "experiment 5:\n",
    "\n",
    "362:  Bank 1_b_0 is bankrupt!\n",
    "\n",
    "427:  Bank 1_b_0 is bankrupt!\n",
    "\n",
    "410:  Bank 1_b_0 is bankrupt!\n",
    "\n",
    "experiment 6:\n",
    "\n",
    "120:  Bank 1_b_0 is bankrupt!\n",
    "\n",
    "632:  Bank 0_b_0 is bankrupt!\n",
    "\n",
    "120:  Bank 1_b_0 is bankrupt!\n",
    "\n",
    "208:  Bank 0_b_0 is bankrupt!\n",
    "\n",
    "120:  Bank 1_b_0 is bankrupt!\n",
    "\n",
    "211:  Bank 0_b_0 is bankrupt!\n",
    "\n",
    "experiment 7:\n",
    "\n",
    "120:  Bank 1_b_0 is bankrupt!\n",
    "\n",
    "250:  Bank 0_b_0 is bankrupt!\n",
    "\n",
    "120:  Bank 1_b_0 is bankrupt!\n",
    "\n",
    "244:  Bank 0_b_0 is bankrupt!\n",
    "\n",
    "120:  Bank 1_b_0 is bankrupt!\n",
    "\n",
    "468:  Bank 0_b_0 is bankrupt!\n",
    "\n",
    "experiment 8:\n",
    "\n",
    "120:  Bank 1_b_0 is bankrupt!\n",
    "\n",
    "231:  Bank 0_b_0 is bankrupt!\n",
    "\n",
    "120:  Bank 1_b_0 is bankrupt!\n",
    "\n",
    "471:  Bank 0_b_0 is bankrupt!\n",
    "\n",
    "120:  Bank 1_b_0 is bankrupt!\n",
    "\n",
    "261:  Bank 0_b_0 is bankrupt!\n"
   ]
  },
  {
   "cell_type": "code",
   "execution_count": null,
   "metadata": {},
   "outputs": [],
   "source": []
  },
  {
   "cell_type": "code",
   "execution_count": null,
   "metadata": {},
   "outputs": [],
   "source": []
  },
  {
   "cell_type": "markdown",
   "metadata": {},
   "source": [
    "# animal spirits experiments"
   ]
  },
  {
   "cell_type": "markdown",
   "metadata": {},
   "source": [
    "##  animal spirits in BB and BS baselines"
   ]
  },
  {
   "cell_type": "code",
   "execution_count": 26,
   "metadata": {},
   "outputs": [],
   "source": [
    "model_tools.ns = [5000,5000]    # no HSHs\n",
    "model_tools.ms = [550,550]      # no firms\n",
    "set_base_pars()"
   ]
  },
  {
   "cell_type": "code",
   "execution_count": 27,
   "metadata": {},
   "outputs": [],
   "source": [
    "grid = make_grid( ([(5000,5000), (550,550)], [(8000,2000), (880, 220)]), \n",
    "                 ([[0], [0.2], [0.4], [0.6], [0.75], [0.8], [0.9], [1]])  )   # 0.7 is original value"
   ]
  },
  {
   "cell_type": "code",
   "execution_count": 30,
   "metadata": {},
   "outputs": [
    {
     "name": "stdout",
     "output_type": "stream",
     "text": [
      "experiment 0 is finished\n",
      "experiment 1 is finished\n",
      "experiment 2 is finished\n",
      "experiment 3 is finished\n",
      "experiment 4 is finished\n",
      "experiment 5 is finished\n",
      "experiment 6 is finished\n",
      "experiment 7 is finished\n",
      "experiment 8 is finished\n",
      "experiment 9 is finished\n",
      "experiment 10 is finished\n",
      "experiment 11 is finished\n",
      "experiment 12 is finished\n",
      "experiment 13 is finished\n",
      "experiment 14 is finished\n",
      "experiment 15 is finished\n"
     ]
    }
   ],
   "source": [
    "exp_grid( grid , [\"ns\", \"ms\", \"p\"],  \n",
    "         rand_seeds[28:31], 1200, \"spirits_base\", csv = False)"
   ]
  },
  {
   "cell_type": "code",
   "execution_count": null,
   "metadata": {},
   "outputs": [],
   "source": []
  },
  {
   "cell_type": "code",
   "execution_count": null,
   "metadata": {},
   "outputs": [],
   "source": []
  },
  {
   "cell_type": "markdown",
   "metadata": {},
   "source": [
    "# (almost) perfect union with quotas - pegged rates, 0 trade costs"
   ]
  },
  {
   "cell_type": "code",
   "execution_count": 45,
   "metadata": {},
   "outputs": [],
   "source": [
    "model_tools.ns = [5000,5000]    # no HSHs\n",
    "model_tools.ms = [550,550]      # no firms\n",
    "set_base_pars()\n",
    "model_tools.free_market = False                 # all quotas are 1?\n",
    "model_tools.trade_costs = make_matrix(0, True)\n",
    "model_tools.pegged_rates = [-1,0]"
   ]
  },
  {
   "cell_type": "code",
   "execution_count": 10,
   "metadata": {},
   "outputs": [],
   "source": [
    "quotas = [0.01, 0.03, 0.05, 0.1, 0.3, 0.5, 0.75, 1]"
   ]
  },
  {
   "cell_type": "code",
   "execution_count": 11,
   "metadata": {},
   "outputs": [],
   "source": [
    "grid = make_grid( ([[5000,5000], [550,550]], [[8000,2000], [880,220]]), \n",
    "                  ([make_matrix(quota, False)] for quota in quotas) )      "
   ]
  },
  {
   "cell_type": "code",
   "execution_count": 48,
   "metadata": {},
   "outputs": [
    {
     "name": "stdout",
     "output_type": "stream",
     "text": [
      "experiment 0 is finished\n",
      "experiment 1 is finished\n",
      "experiment 2 is finished\n",
      "experiment 3 is finished\n",
      "experiment 4 is finished\n",
      "experiment 5 is finished\n",
      "experiment 6 is finished\n",
      "experiment 7 is finished\n",
      "experiment 8 is finished\n",
      "experiment 9 is finished\n",
      "experiment 10 is finished\n",
      "experiment 11 is finished\n",
      "experiment 12 is finished\n",
      "experiment 13 is finished\n",
      "experiment 14 is finished\n",
      "experiment 15 is finished\n"
     ]
    }
   ],
   "source": [
    "exp_grid( grid , [\"ns\", \"ms\", \"trade_quotas\"],  \n",
    "         rand_seeds[23:26], 900, \"perfect_union\", csv = False)"
   ]
  },
  {
   "cell_type": "code",
   "execution_count": null,
   "metadata": {},
   "outputs": [],
   "source": []
  }
 ],
 "metadata": {
  "kernelspec": {
   "display_name": "Python 3",
   "language": "python",
   "name": "python3"
  },
  "language_info": {
   "codemirror_mode": {
    "name": "ipython",
    "version": 3
   },
   "file_extension": ".py",
   "mimetype": "text/x-python",
   "name": "python",
   "nbconvert_exporter": "python",
   "pygments_lexer": "ipython3",
   "version": "3.7.3"
  }
 },
 "nbformat": 4,
 "nbformat_minor": 2
}
