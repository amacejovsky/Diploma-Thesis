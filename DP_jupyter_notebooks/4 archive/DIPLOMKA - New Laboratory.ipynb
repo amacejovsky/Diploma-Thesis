{
 "cells": [
  {
   "cell_type": "markdown",
   "metadata": {},
   "source": [
    "# Laboratory"
   ]
  },
  {
   "cell_type": "markdown",
   "metadata": {},
   "source": [
    "<div id=\"toc\"></div>"
   ]
  },
  {
   "cell_type": "code",
   "execution_count": 1,
   "metadata": {},
   "outputs": [
    {
     "data": {
      "application/javascript": [
       "$.getScript('https://kmahelona.github.io/ipython_notebook_goodies/ipython_notebook_toc.js')\n",
       "// https://github.com/kmahelona/ipython_notebook_goodies          ...interactive table of contents\n"
      ],
      "text/plain": [
       "<IPython.core.display.Javascript object>"
      ]
     },
     "metadata": {},
     "output_type": "display_data"
    }
   ],
   "source": [
    "%%javascript\n",
    "$.getScript('https://kmahelona.github.io/ipython_notebook_goodies/ipython_notebook_toc.js')\n",
    "// https://github.com/kmahelona/ipython_notebook_goodies          ...interactive table of contents"
   ]
  },
  {
   "cell_type": "code",
   "execution_count": 2,
   "metadata": {},
   "outputs": [
    {
     "name": "stdout",
     "output_type": "stream",
     "text": [
      "d:\\moje_dokumenty\\Desktop\\diplomka\\model\\data\\hdf_new\n"
     ]
    }
   ],
   "source": [
    "%cd \"d:\\moje_dokumenty\\Desktop\\diplomka\\model\\data\\hdf_new\\\" "
   ]
  },
  {
   "cell_type": "code",
   "execution_count": 3,
   "metadata": {},
   "outputs": [],
   "source": [
    "import model_tools "
   ]
  },
  {
   "cell_type": "code",
   "execution_count": 4,
   "metadata": {},
   "outputs": [],
   "source": [
    "Sim = model_tools.Simulation\n",
    "experiment = model_tools.experiment\n",
    "random = model_tools.random\n",
    "np = model_tools.np\n",
    "exp_grid = model_tools.exp_grid\n",
    "make_matrix = model_tools.make_matrix\n",
    "make_grid = model_tools.make_grid\n",
    "set_base_pars = model_tools.set_base_pars"
   ]
  },
  {
   "cell_type": "code",
   "execution_count": 5,
   "metadata": {},
   "outputs": [],
   "source": [
    "#rand_seeds = [[24, 24]] + [[random.randrange(10**5), random.randrange(10**5)] for i in range(30) ]   # for 31 runs"
   ]
  },
  {
   "cell_type": "code",
   "execution_count": 6,
   "metadata": {},
   "outputs": [],
   "source": [
    "rand_seeds = [[24, 24],\n",
    " [57705, 84477],\n",
    " [21235, 79339],\n",
    " [72193, 63946],\n",
    " [41209, 89019],\n",
    " [78694, 83426],\n",
    " [71793, 98870],\n",
    " [52518, 26074],\n",
    " [96107, 49709],\n",
    " [26813, 89835],\n",
    " [42384, 58898],\n",
    " [23077, 29772],\n",
    " [75905, 1768],\n",
    " [54715, 58905],\n",
    " [39040, 79913],\n",
    " [79944, 42114],\n",
    " [76822, 52962],\n",
    " [14277, 8719],\n",
    " [71510, 32894],\n",
    " [94253, 43188],\n",
    " [16195, 43158],\n",
    " [10706, 35992],\n",
    " [92209, 64592],\n",
    " [4414, 36487],\n",
    " [37706, 44597],\n",
    " [5180, 75662],\n",
    " [71206, 9908],\n",
    " [49354, 2217],\n",
    " [46671, 39293],\n",
    " [91634, 58719],\n",
    " [51505, 84003]]"
   ]
  },
  {
   "cell_type": "code",
   "execution_count": null,
   "metadata": {},
   "outputs": [],
   "source": []
  },
  {
   "cell_type": "markdown",
   "metadata": {},
   "source": [
    "# 1 country - final"
   ]
  },
  {
   "cell_type": "code",
   "execution_count": 7,
   "metadata": {},
   "outputs": [],
   "source": [
    "model_tools.ns = [5000]    # no HSHs\n",
    "model_tools.ms = [550]      # no firms\n",
    "set_base_pars()\n"
   ]
  },
  {
   "cell_type": "code",
   "execution_count": 8,
   "metadata": {},
   "outputs": [],
   "source": [
    "grid = [([12], [0.05]), ([8], [0.08])]   # wage resistance and wage flexibility"
   ]
  },
  {
   "cell_type": "code",
   "execution_count": 9,
   "metadata": {},
   "outputs": [
    {
     "name": "stdout",
     "output_type": "stream",
     "text": [
      "d:\\moje_dokumenty\\Desktop\\diplomka\\model\\data\\hdf_final\n"
     ]
    }
   ],
   "source": [
    "%cd \"d:\\moje_dokumenty\\Desktop\\diplomka\\model\\data\\hdf_final\\\" "
   ]
  },
  {
   "cell_type": "code",
   "execution_count": null,
   "metadata": {
    "scrolled": true
   },
   "outputs": [
    {
     "name": "stdout",
     "output_type": "stream",
     "text": [
      "start of exp_grid: 1C_final\n"
     ]
    },
    {
     "name": "stderr",
     "output_type": "stream",
     "text": [
      "C:\\Users\\am\\model_tools.py:1876: RuntimeWarning: invalid value encountered in true_divide\n",
      "  results.append(list(multiply*s1/s2))\n",
      "C:\\Users\\am\\model_tools.py:1856: RuntimeWarning: invalid value encountered in true_divide\n",
      "  results.append(list(diff/s1))\n",
      "C:\\Users\\am\\model_tools.py:1876: RuntimeWarning: divide by zero encountered in true_divide\n",
      "  results.append(list(multiply*s1/s2))\n",
      "C:\\Users\\am\\model_tools.py:2150: PerformanceWarning: \n",
      "your performance may suffer as PyTables will pickle object types that it cannot\n",
      "map directly to c-types [inferred_type->mixed,key->block0_values] [items->Index(['employment', 'wages', 'working_wages', 'vol_unemployed', 'months_u',\n",
      "       'unemployed_months_u', 'hsh_sentiment', 'hsh_income', 'savings_T',\n",
      "       'budget', 'cons', 'cons_value', 'forced_savings', 'hsh_deposits',\n",
      "       'prices', 'offered_wages', 'production', 'production_value',\n",
      "       'labor_demand', 'labor', 'job_offers', 'vacancies', 'inventories',\n",
      "       'sales', 'sales_value', 'sales_costs', 'firm_assets',\n",
      "       'firm_capital_target', 'firm_capital', 'firm_dividends',\n",
      "       'firm_sentiment', 'firm_deposits', 'loans', 'bank_capital',\n",
      "       'bank_deposit', 'deposits', 'doubtful_loans', 'doubtful_ratio',\n",
      "       'bankruptcies', 'bank_dividend', 'spec_no_of_firms', 'spec_exch_rates',\n",
      "       'spec_natural_exch_rates', 'spec_export_details', 'spec_import_details',\n",
      "       'spec_trade_balances', 'spec_bank_accounts', 'spec_trade_fees'],\n",
      "      dtype='object')]\n",
      "\n",
      "  aa.export_data(note = note, hdf = hdf, csv = csv)\n",
      "C:\\Users\\am\\model_tools.py:2150: PerformanceWarning: \n",
      "your performance may suffer as PyTables will pickle object types that it cannot\n",
      "map directly to c-types [inferred_type->mixed,key->block0_values] [items->Index(['inventories_y', 'unemployment_m', 'unemployment_y',\n",
      "       'vol_unemployed_rate_m', 'vol_unemployed_rate_y', 'price_level_m',\n",
      "       'inflation_m', 'sales_y', 'sales_value_y', 'price_level_y',\n",
      "       'inflation_y', 'vacancy_rates_m', 'vacancies_y', 'labor_demand_y',\n",
      "       'vacancy_rates_y', 'capital_adequacy_ratio_m', 'gross_profits_m',\n",
      "       'total_income_m', 'wage_share_m', 'profits_share_m', 'gross_profits_y',\n",
      "       'total_income_y', 'wages_y', 'wage_share_y', 'profits_share_y',\n",
      "       'mean_real_profits_m', 'mean_real_profits_y', 'mark_ups_m',\n",
      "       'mark_ups_y', 'bankruptcies_y', 'bankruptcy_rate_y',\n",
      "       'capacity_utilization_m', 'capacity_utilization_y', 'mean_real_wage_m',\n",
      "       'median_real_wage_m', 'mean_real_wage_y', 'self_financing_ratio_m',\n",
      "       'targeted_debt_ratio_m', 'targeted_debt_m', 'mean_targeted_debt_m',\n",
      "       'excessive_debt_rate_m', 'hoarding_m', 'unemployment_duration_y',\n",
      "       'money_velocity_y', 'cons_y', 'mean_cons_y', 'cons_value_y',\n",
      "       'mean_cons_value_y', 'forced_savings_rate_m', 'forced_savings_rate_y',\n",
      "       'total_trade_balances_m', 'total_exports_m', 'total_imports_m',\n",
      "       'total_export_rates_m', 'total_import_rates_m',\n",
      "       'detailed_export_rates_m', 'detailed_import_rates_m',\n",
      "       'total_trade_balances_y', 'total_exports_y', 'total_imports_y',\n",
      "       'total_export_rates_y', 'total_import_rates_y', 'bank_bankruptcies'],\n",
      "      dtype='object')]\n",
      "\n",
      "  aa.export_data(note = note, hdf = hdf, csv = csv)\n",
      "C:\\Users\\am\\model_tools.py:1876: RuntimeWarning: invalid value encountered in true_divide\n",
      "  results.append(list(multiply*s1/s2))\n",
      "C:\\Users\\am\\model_tools.py:1856: RuntimeWarning: invalid value encountered in true_divide\n",
      "  results.append(list(diff/s1))\n",
      "C:\\Users\\am\\model_tools.py:1876: RuntimeWarning: divide by zero encountered in true_divide\n",
      "  results.append(list(multiply*s1/s2))\n"
     ]
    }
   ],
   "source": [
    "exp_grid( grid , [\"wage_resist\", \"wage_flex\"],  \n",
    "         rand_seeds, 1500, \"1C_final\", csv = False)"
   ]
  },
  {
   "cell_type": "code",
   "execution_count": 10,
   "metadata": {},
   "outputs": [
    {
     "name": "stdout",
     "output_type": "stream",
     "text": [
      "start of exp_grid: 1C_final\n"
     ]
    },
    {
     "name": "stderr",
     "output_type": "stream",
     "text": [
      "C:\\Users\\am\\model_tools.py:1876: RuntimeWarning: invalid value encountered in true_divide\n",
      "  results.append(list(multiply*s1/s2))\n",
      "C:\\Users\\am\\model_tools.py:1856: RuntimeWarning: invalid value encountered in true_divide\n",
      "  results.append(list(diff/s1))\n",
      "C:\\Users\\am\\model_tools.py:1876: RuntimeWarning: divide by zero encountered in true_divide\n",
      "  results.append(list(multiply*s1/s2))\n",
      "C:\\Users\\am\\model_tools.py:2150: PerformanceWarning: \n",
      "your performance may suffer as PyTables will pickle object types that it cannot\n",
      "map directly to c-types [inferred_type->mixed,key->block0_values] [items->Index(['employment', 'wages', 'working_wages', 'vol_unemployed', 'months_u',\n",
      "       'unemployed_months_u', 'hsh_sentiment', 'hsh_income', 'savings_T',\n",
      "       'budget', 'cons', 'cons_value', 'forced_savings', 'hsh_deposits',\n",
      "       'prices', 'offered_wages', 'production', 'production_value',\n",
      "       'labor_demand', 'labor', 'job_offers', 'vacancies', 'inventories',\n",
      "       'sales', 'sales_value', 'sales_costs', 'firm_assets',\n",
      "       'firm_capital_target', 'firm_capital', 'firm_dividends',\n",
      "       'firm_sentiment', 'firm_deposits', 'loans', 'bank_capital',\n",
      "       'bank_deposit', 'deposits', 'doubtful_loans', 'doubtful_ratio',\n",
      "       'bankruptcies', 'bank_dividend', 'spec_no_of_firms', 'spec_exch_rates',\n",
      "       'spec_natural_exch_rates', 'spec_export_details', 'spec_import_details',\n",
      "       'spec_trade_balances', 'spec_bank_accounts', 'spec_trade_fees'],\n",
      "      dtype='object')]\n",
      "\n",
      "  aa.export_data(note = note, hdf = hdf, csv = csv)\n",
      "C:\\Users\\am\\model_tools.py:2150: PerformanceWarning: \n",
      "your performance may suffer as PyTables will pickle object types that it cannot\n",
      "map directly to c-types [inferred_type->mixed,key->block0_values] [items->Index(['inventories_y', 'unemployment_m', 'unemployment_y',\n",
      "       'vol_unemployed_rate_m', 'vol_unemployed_rate_y', 'price_level_m',\n",
      "       'inflation_m', 'sales_y', 'sales_value_y', 'price_level_y',\n",
      "       'inflation_y', 'vacancy_rates_m', 'vacancies_y', 'labor_demand_y',\n",
      "       'vacancy_rates_y', 'capital_adequacy_ratio_m', 'gross_profits_m',\n",
      "       'total_income_m', 'wage_share_m', 'profits_share_m', 'gross_profits_y',\n",
      "       'total_income_y', 'wages_y', 'wage_share_y', 'profits_share_y',\n",
      "       'mean_real_profits_m', 'mean_real_profits_y', 'mark_ups_m',\n",
      "       'mark_ups_y', 'bankruptcies_y', 'bankruptcy_rate_y',\n",
      "       'capacity_utilization_m', 'capacity_utilization_y', 'mean_real_wage_m',\n",
      "       'median_real_wage_m', 'mean_real_wage_y', 'self_financing_ratio_m',\n",
      "       'targeted_debt_ratio_m', 'targeted_debt_m', 'mean_targeted_debt_m',\n",
      "       'excessive_debt_rate_m', 'hoarding_m', 'unemployment_duration_y',\n",
      "       'money_velocity_y', 'cons_y', 'mean_cons_y', 'cons_value_y',\n",
      "       'mean_cons_value_y', 'forced_savings_rate_m', 'forced_savings_rate_y',\n",
      "       'total_trade_balances_m', 'total_exports_m', 'total_imports_m',\n",
      "       'total_export_rates_m', 'total_import_rates_m',\n",
      "       'detailed_export_rates_m', 'detailed_import_rates_m',\n",
      "       'total_trade_balances_y', 'total_exports_y', 'total_imports_y',\n",
      "       'total_export_rates_y', 'total_import_rates_y', 'bank_bankruptcies'],\n",
      "      dtype='object')]\n",
      "\n",
      "  aa.export_data(note = note, hdf = hdf, csv = csv)\n"
     ]
    },
    {
     "name": "stdout",
     "output_type": "stream",
     "text": [
      "291:  Bank 0_b_0 is bankrupt!\n"
     ]
    },
    {
     "name": "stderr",
     "output_type": "stream",
     "text": [
      "C:\\Users\\am\\model_tools.py:1876: RuntimeWarning: invalid value encountered in true_divide\n",
      "  results.append(list(multiply*s1/s2))\n",
      "C:\\Users\\am\\model_tools.py:1856: RuntimeWarning: invalid value encountered in true_divide\n",
      "  results.append(list(diff/s1))\n",
      "C:\\Users\\am\\model_tools.py:1876: RuntimeWarning: divide by zero encountered in true_divide\n",
      "  results.append(list(multiply*s1/s2))\n"
     ]
    },
    {
     "name": "stdout",
     "output_type": "stream",
     "text": [
      "298:  Bank 0_b_0 is bankrupt!\n",
      "320:  Bank 0_b_0 is bankrupt!\n",
      "257:  Bank 0_b_0 is bankrupt!\n",
      "271:  Bank 0_b_0 is bankrupt!\n",
      "317:  Bank 0_b_0 is bankrupt!\n",
      "272:  Bank 0_b_0 is bankrupt!\n",
      "873:  Bank 0_b_0 is bankrupt!\n",
      "237:  Bank 0_b_0 is bankrupt!\n",
      "313:  Bank 0_b_0 is bankrupt!\n",
      "296:  Bank 0_b_0 is bankrupt!\n",
      "252:  Bank 0_b_0 is bankrupt!\n",
      "276:  Bank 0_b_0 is bankrupt!\n",
      "314:  Bank 0_b_0 is bankrupt!\n",
      "790:  Bank 0_b_0 is bankrupt!\n",
      "320:  Bank 0_b_0 is bankrupt!\n",
      "845:  Bank 0_b_0 is bankrupt!\n",
      "329:  Bank 0_b_0 is bankrupt!\n",
      "563:  Bank 0_b_0 is bankrupt!\n",
      "312:  Bank 0_b_0 is bankrupt!\n",
      "532:  Bank 0_b_0 is bankrupt!\n",
      "579:  Bank 0_b_0 is bankrupt!\n",
      "618:  Bank 0_b_0 is bankrupt!\n",
      "273:  Bank 0_b_0 is bankrupt!\n",
      "260:  Bank 0_b_0 is bankrupt!\n"
     ]
    },
    {
     "name": "stderr",
     "output_type": "stream",
     "text": [
      "C:\\Users\\am\\Anaconda3\\lib\\site-packages\\numpy\\core\\fromnumeric.py:3118: RuntimeWarning: Mean of empty slice.\n",
      "  out=out, **kwargs)\n",
      "C:\\Users\\am\\Anaconda3\\lib\\site-packages\\numpy\\core\\_methods.py:85: RuntimeWarning: invalid value encountered in double_scalars\n",
      "  ret = ret.dtype.type(ret / rcount)\n"
     ]
    },
    {
     "name": "stdout",
     "output_type": "stream",
     "text": [
      "295:  Bank 0_b_0 is bankrupt!\n",
      "313:  Bank 0_b_0 is bankrupt!\n",
      "experiment 2 is finished\n",
      "end of exp_grid: 1C_final\n"
     ]
    }
   ],
   "source": [
    "grid = [([12], [0.05]), ([8], [0.08]), ([8], [0.25])]   # wage resistance and wage flexibility\n",
    "exp_grid( grid , [\"wage_resist\", \"wage_flex\"],  \n",
    "         rand_seeds, 900, \"1C_final\", start = 2,csv = False)"
   ]
  },
  {
   "cell_type": "code",
   "execution_count": null,
   "metadata": {},
   "outputs": [],
   "source": []
  },
  {
   "cell_type": "markdown",
   "metadata": {},
   "source": [
    "# 2 large countries"
   ]
  },
  {
   "cell_type": "code",
   "execution_count": 15,
   "metadata": {},
   "outputs": [],
   "source": [
    "model_tools.ns = [5000,5000]    # no HSHs\n",
    "model_tools.ms = [550,550]      # no firms\n",
    "set_base_pars()\n"
   ]
  },
  {
   "cell_type": "markdown",
   "metadata": {},
   "source": [
    "## BB closed economies (for comfortable comparisons)"
   ]
  },
  {
   "cell_type": "code",
   "execution_count": null,
   "metadata": {},
   "outputs": [],
   "source": [
    "model_tools.free_market = False\n",
    "model_tools.trade_quotas = make_matrix(0)"
   ]
  },
  {
   "cell_type": "code",
   "execution_count": null,
   "metadata": {},
   "outputs": [],
   "source": [
    "experiment(rand_seeds[7:10], 1200, note = \"closed_base_bb\", csv = False)"
   ]
  },
  {
   "cell_type": "code",
   "execution_count": null,
   "metadata": {},
   "outputs": [],
   "source": []
  },
  {
   "cell_type": "code",
   "execution_count": null,
   "metadata": {},
   "outputs": [],
   "source": [
    "model_tools.wage_resist = [8]*model_tools.no_countries             # wage resistance in unemployment; 12 in baseline, 8 in alternative\n",
    "model_tools.wage_flex = [0.08, 0.25]             # wage flexibility;                0.05 in baseline, 0.08 or 0.25 in alternative"
   ]
  },
  {
   "cell_type": "code",
   "execution_count": null,
   "metadata": {},
   "outputs": [],
   "source": [
    "experiment(rand_seeds[7:10], 1200, note = \"closed_alts_bb\", csv = False)"
   ]
  },
  {
   "cell_type": "code",
   "execution_count": null,
   "metadata": {},
   "outputs": [],
   "source": []
  },
  {
   "cell_type": "markdown",
   "metadata": {},
   "source": [
    "## BB experiments"
   ]
  },
  {
   "cell_type": "markdown",
   "metadata": {},
   "source": [
    "Free trade, baseline wage and exchange rates flexibility."
   ]
  },
  {
   "cell_type": "code",
   "execution_count": null,
   "metadata": {},
   "outputs": [],
   "source": [
    "set_base_pars()"
   ]
  },
  {
   "cell_type": "code",
   "execution_count": 16,
   "metadata": {},
   "outputs": [],
   "source": [
    "grid = [ ([12]*model_tools.no_countries ,[0.05]*model_tools.no_countries),   # baseline\n",
    "       ([8]*model_tools.no_countries ,[0.08]*model_tools.no_countries),      # alt 1\n",
    "       ([12, 8]   ,[0.05, 0.08] ),                                           # alt 2\n",
    "       ([12, 8]   ,[0.05, 0.25] )]                                           # extr_alt 2"
   ]
  },
  {
   "cell_type": "code",
   "execution_count": 17,
   "metadata": {},
   "outputs": [
    {
     "name": "stdout",
     "output_type": "stream",
     "text": [
      "experiment 0 is finished\n",
      "experiment 1 is finished\n",
      "experiment 2 is finished\n",
      "experiment 3 is finished\n"
     ]
    }
   ],
   "source": [
    "exp_grid( grid , [\"wage_resist\", \"wage_flex\"],  \n",
    "         rand_seeds[7:14], 1200, \"BB\", csv = False)"
   ]
  },
  {
   "cell_type": "markdown",
   "metadata": {},
   "source": [
    "### extreme alternative 1 bb\n",
    "\n",
    "Free trade, baseline exchange rates flexibility, extreme alternative wage flexibility in both countries.\n",
    "\n",
    "* Collapse happens before period 200, 350 periods should be enough."
   ]
  },
  {
   "cell_type": "code",
   "execution_count": 18,
   "metadata": {},
   "outputs": [],
   "source": [
    "model_tools.wage_resist = [8]*model_tools.no_countries             # wage resistance in unemployment; 12 in baseline, 8 in alternative\n",
    "model_tools.wage_flex = [0.25]*model_tools.no_countries             # wage flexibility;                0.05 in baseline, 0.08 or 0.25 in alternative"
   ]
  },
  {
   "cell_type": "code",
   "execution_count": 19,
   "metadata": {},
   "outputs": [
    {
     "name": "stdout",
     "output_type": "stream",
     "text": [
      "182:  Bank 1_b_0 is bankrupt!\n",
      "183:  Bank 0_b_0 is bankrupt!\n",
      "158:  Bank 1_b_0 is bankrupt!\n",
      "159:  Bank 0_b_0 is bankrupt!\n",
      "148:  Bank 0_b_0 is bankrupt!\n",
      "150:  Bank 1_b_0 is bankrupt!\n",
      "160:  Bank 1_b_0 is bankrupt!\n",
      "163:  Bank 0_b_0 is bankrupt!\n",
      "176:  Bank 1_b_0 is bankrupt!\n",
      "180:  Bank 0_b_0 is bankrupt!\n",
      "163:  Bank 1_b_0 is bankrupt!\n",
      "166:  Bank 0_b_0 is bankrupt!\n",
      "154:  Bank 1_b_0 is bankrupt!\n",
      "159:  Bank 0_b_0 is bankrupt!\n"
     ]
    }
   ],
   "source": [
    "experiment(rand_seeds[7:14], 350, \"BB_5\", csv = False)"
   ]
  },
  {
   "cell_type": "code",
   "execution_count": null,
   "metadata": {},
   "outputs": [],
   "source": []
  },
  {
   "cell_type": "markdown",
   "metadata": {},
   "source": [
    "## symmetrical BB alternatives"
   ]
  },
  {
   "cell_type": "code",
   "execution_count": null,
   "metadata": {},
   "outputs": [],
   "source": [
    "model_tools.wage_resist = [8]*model_tools.no_countries             # wage resistance in unemployment; 12 in baseline, 8 in alternative\n",
    "model_tools.wage_flex = [0.08]*model_tools.no_countries             # wage flexibility;                0.05 in baseline, 0.08 or 0.25 in alternative"
   ]
  },
  {
   "cell_type": "code",
   "execution_count": null,
   "metadata": {},
   "outputs": [],
   "source": [
    "experiment(rand_seeds[7:10], 1200, \"Alt_sym_BB\", csv = False)"
   ]
  },
  {
   "cell_type": "code",
   "execution_count": null,
   "metadata": {},
   "outputs": [],
   "source": [
    "model_tools.wage_resist = [8]*model_tools.no_countries             # wage resistance in unemployment; 12 in baseline, 8 in alternative\n",
    "model_tools.wage_flex = [0.25]*model_tools.no_countries             # wage flexibility;                0.05 in baseline, 0.08 or 0.25 in alternative\n",
    "experiment(rand_seeds[7:10], 600, \"Alt_extr_sym_BB\", csv = False)   # 50 years only"
   ]
  },
  {
   "cell_type": "code",
   "execution_count": null,
   "metadata": {},
   "outputs": [],
   "source": []
  },
  {
   "cell_type": "code",
   "execution_count": null,
   "metadata": {},
   "outputs": [],
   "source": []
  },
  {
   "cell_type": "markdown",
   "metadata": {},
   "source": [
    "# 1 big 1 small country\n"
   ]
  },
  {
   "cell_type": "code",
   "execution_count": 20,
   "metadata": {},
   "outputs": [],
   "source": [
    "model_tools.ns = [8000,2000]    # no HSHs\n",
    "model_tools.ms = [880,220]      # no firms\n",
    "set_base_pars()"
   ]
  },
  {
   "cell_type": "markdown",
   "metadata": {},
   "source": [
    "## BS closed economies (for comfortable comparisons)"
   ]
  },
  {
   "cell_type": "code",
   "execution_count": null,
   "metadata": {},
   "outputs": [],
   "source": [
    "model_tools.free_market = False\n",
    "model_tools.trade_quotas = make_matrix(0)"
   ]
  },
  {
   "cell_type": "code",
   "execution_count": null,
   "metadata": {},
   "outputs": [],
   "source": [
    "experiment(rand_seeds[14:17], 1200, note = \"closed_base_bs\", csv = False)"
   ]
  },
  {
   "cell_type": "code",
   "execution_count": null,
   "metadata": {},
   "outputs": [],
   "source": []
  },
  {
   "cell_type": "code",
   "execution_count": null,
   "metadata": {},
   "outputs": [],
   "source": [
    "model_tools.wage_resist = [8]*model_tools.no_countries             # wage resistance in unemployment; 12 in baseline, 8 in alternative\n",
    "model_tools.wage_flex = [0.08, 0.08]             # wage flexibility;                0.05 in baseline, 0.08 or 0.25 in alternative"
   ]
  },
  {
   "cell_type": "code",
   "execution_count": null,
   "metadata": {},
   "outputs": [],
   "source": [
    "experiment(rand_seeds[14:17], 1200, note = \"closed_alt_bs\", csv = False)"
   ]
  },
  {
   "cell_type": "code",
   "execution_count": null,
   "metadata": {},
   "outputs": [],
   "source": []
  },
  {
   "cell_type": "code",
   "execution_count": null,
   "metadata": {},
   "outputs": [],
   "source": [
    "model_tools.wage_resist = [8]*model_tools.no_countries             # wage resistance in unemployment; 12 in baseline, 8 in alternative\n",
    "model_tools.wage_flex = [0.25, 0.25]             # wage flexibility;                0.05 in baseline, 0.08 or 0.25 in alternative"
   ]
  },
  {
   "cell_type": "code",
   "execution_count": null,
   "metadata": {},
   "outputs": [],
   "source": [
    "experiment(rand_seeds[14:17], 1200, note = \"closed_extr_alt_bs\", csv = False)"
   ]
  },
  {
   "cell_type": "code",
   "execution_count": null,
   "metadata": {},
   "outputs": [],
   "source": []
  },
  {
   "cell_type": "markdown",
   "metadata": {},
   "source": [
    "## BS experiments"
   ]
  },
  {
   "cell_type": "code",
   "execution_count": null,
   "metadata": {},
   "outputs": [],
   "source": [
    "set_base_pars()"
   ]
  },
  {
   "cell_type": "code",
   "execution_count": 21,
   "metadata": {},
   "outputs": [],
   "source": [
    "grid = [ ([12]*model_tools.no_countries ,[0.05]*model_tools.no_countries),    # baseline\n",
    "        ([12, 8]   ,[0.05, 0.08] ),                                           # alt 1\n",
    "        ([8, 12] ,[0.08, 0.05] ),                                             # alt 2\n",
    "        ([12, 8]   ,[0.05, 0.25] ),                                           # extr_alt 1\n",
    "        ([8, 12]    ,[0.25, 0.05] )]                                          # extr_alt 2      "
   ]
  },
  {
   "cell_type": "code",
   "execution_count": 22,
   "metadata": {},
   "outputs": [
    {
     "name": "stdout",
     "output_type": "stream",
     "text": [
      "experiment 0 is finished\n",
      "experiment 1 is finished\n",
      "894:  Bank 1_b_0 is bankrupt!\n",
      "911:  Bank 1_b_0 is bankrupt!\n",
      "906:  Bank 1_b_0 is bankrupt!\n",
      "864:  Bank 1_b_0 is bankrupt!\n",
      "874:  Bank 1_b_0 is bankrupt!\n",
      "850:  Bank 1_b_0 is bankrupt!\n",
      "1082:  Bank 1_b_0 is bankrupt!\n",
      "experiment 2 is finished\n",
      "experiment 3 is finished\n",
      "594:  Bank 1_b_0 is bankrupt!\n",
      "499:  Bank 1_b_0 is bankrupt!\n",
      "474:  Bank 1_b_0 is bankrupt!\n",
      "432:  Bank 1_b_0 is bankrupt!\n",
      "386:  Bank 1_b_0 is bankrupt!\n",
      "328:  Bank 1_b_0 is bankrupt!\n",
      "354:  Bank 1_b_0 is bankrupt!\n",
      "experiment 4 is finished\n"
     ]
    }
   ],
   "source": [
    "exp_grid( grid , [\"wage_resist\", \"wage_flex\"],  \n",
    "         rand_seeds[14:21], 1200, \"BS\", csv = False)"
   ]
  },
  {
   "cell_type": "code",
   "execution_count": null,
   "metadata": {},
   "outputs": [],
   "source": []
  },
  {
   "cell_type": "markdown",
   "metadata": {},
   "source": [
    "## symmetrical BS alternatives"
   ]
  },
  {
   "cell_type": "code",
   "execution_count": null,
   "metadata": {},
   "outputs": [],
   "source": [
    "model_tools.wage_resist = [8]*model_tools.no_countries             # wage resistance in unemployment; 12 in baseline, 8 in alternative\n",
    "model_tools.wage_flex = [0.08]*model_tools.no_countries             # wage flexibility;                0.05 in baseline, 0.08 or 0.25 in alternative\n",
    "experiment(rand_seeds[14:17], 1200, \"Alt_sym_big_small_corrected\", csv = False)"
   ]
  },
  {
   "cell_type": "code",
   "execution_count": null,
   "metadata": {},
   "outputs": [],
   "source": [
    "model_tools.wage_resist = [8]*model_tools.no_countries             # wage resistance in unemployment; 12 in baseline, 8 in alternative\n",
    "model_tools.wage_flex = [0.25]*model_tools.no_countries             # wage flexibility;                0.05 in baseline, 0.08 or 0.25 in alternative\n",
    "experiment(rand_seeds[14:17], 1200, \"Alt_extr_sym_big_small_corrected\", csv = False)"
   ]
  },
  {
   "cell_type": "code",
   "execution_count": null,
   "metadata": {},
   "outputs": [],
   "source": []
  },
  {
   "cell_type": "code",
   "execution_count": null,
   "metadata": {},
   "outputs": [],
   "source": []
  },
  {
   "cell_type": "markdown",
   "metadata": {},
   "source": [
    "# 6 countries"
   ]
  },
  {
   "cell_type": "code",
   "execution_count": 27,
   "metadata": {},
   "outputs": [],
   "source": [
    "model_tools.ns = [6000, 6000, 2000, 2000, 2000, 2000]    # no HSHs\n",
    "model_tools.ms = [660, 660, 220, 220, 220, 220]      # no firms\n",
    "set_base_pars()\n"
   ]
  },
  {
   "cell_type": "code",
   "execution_count": 28,
   "metadata": {},
   "outputs": [],
   "source": [
    "grid = [ ([12]*6 ,[0.05]*6),                     # baseline   \n",
    "        ([8] + [12]*5   ,[0.25] + [0.05]*5  )]   # extr_alt in 1 large country"
   ]
  },
  {
   "cell_type": "code",
   "execution_count": 29,
   "metadata": {},
   "outputs": [
    {
     "name": "stdout",
     "output_type": "stream",
     "text": [
      "experiment 0 is finished\n",
      "802:  Bank 4_b_0 is bankrupt!\n",
      "866:  Bank 5_b_0 is bankrupt!\n",
      "877:  Bank 2_b_0 is bankrupt!\n",
      "1056:  Bank 3_b_0 is bankrupt!\n",
      "1147:  Bank 1_b_0 is bankrupt!\n",
      "673:  Bank 4_b_0 is bankrupt!\n",
      "822:  Bank 3_b_0 is bankrupt!\n",
      "1059:  Bank 5_b_0 is bankrupt!\n",
      "1086:  Bank 1_b_0 is bankrupt!\n",
      "1089:  Bank 2_b_0 is bankrupt!\n",
      "728:  Bank 2_b_0 is bankrupt!\n",
      "842:  Bank 3_b_0 is bankrupt!\n",
      "855:  Bank 5_b_0 is bankrupt!\n",
      "1077:  Bank 4_b_0 is bankrupt!\n",
      "1133:  Bank 1_b_0 is bankrupt!\n",
      "719:  Bank 3_b_0 is bankrupt!\n",
      "927:  Bank 2_b_0 is bankrupt!\n",
      "948:  Bank 5_b_0 is bankrupt!\n",
      "1074:  Bank 4_b_0 is bankrupt!\n",
      "experiment 1 is finished\n"
     ]
    }
   ],
   "source": [
    "exp_grid( grid , [\"wage_resist\", \"wage_flex\"],  \n",
    "         rand_seeds[:4], 1200, \"6C\", csv = False)"
   ]
  },
  {
   "cell_type": "markdown",
   "metadata": {},
   "source": [
    "## alternative 1b 6C\n",
    "in order to draw comparison with Large-Small country model aletrnative 2b, what happens when 1 large country has extremely flexible wages, is allowed to export to and import from one small country , and others are under baseline conditions?"
   ]
  },
  {
   "cell_type": "code",
   "execution_count": 30,
   "metadata": {},
   "outputs": [],
   "source": [
    "model_tools.wage_resist = [8] + [12]*(model_tools.no_countries-1)             # wage resistance in unemployment; 12 in baseline, 8 in alternative\n",
    "model_tools.wage_flex = [0.25] + [0.05]*(model_tools.no_countries-1)          # wage flexibility;                0.05 in baseline, 0.08 or 0.25 in alternative\n",
    "\n",
    "model_tools.free_market = False                 # all quotas are 1?\n",
    "mm = np.array([[1]*model_tools.no_countries]*model_tools.no_countries)                                     \n",
    "mm[0], mm.T[0] = [1,0,1,0,0,0], [1,0,1,0,0,0]     # country 0 trades only with country 2\n",
    "model_tools.trade_quotas = [list(country) for country in mm] "
   ]
  },
  {
   "cell_type": "code",
   "execution_count": 31,
   "metadata": {},
   "outputs": [],
   "source": [
    "experiment(rand_seeds[:4], 1200, \"6C_3\", csv = False)   "
   ]
  },
  {
   "cell_type": "markdown",
   "metadata": {},
   "source": [
    "## 6 countries with 8000 households in large ones"
   ]
  },
  {
   "cell_type": "code",
   "execution_count": 32,
   "metadata": {},
   "outputs": [],
   "source": [
    "model_tools.ns = [8000, 8000, 2000, 2000, 2000, 2000]    # no HSHs\n",
    "model_tools.ms = [880, 880, 220, 220, 220, 220]      # no firms\n",
    "set_base_pars()\n"
   ]
  },
  {
   "cell_type": "markdown",
   "metadata": {},
   "source": [
    "## alternative 1b 6C\n",
    "in order to draw comparison with Large-Small country model aletrnative 2b (which had 8000 - 2000 households), what happens when 1 large country has extremely flexible wages, is allowed to export to and import from one small country , and others are under baseline conditions?"
   ]
  },
  {
   "cell_type": "code",
   "execution_count": 33,
   "metadata": {},
   "outputs": [],
   "source": [
    "model_tools.wage_resist = [8] + [12]*(model_tools.no_countries-1)             # wage resistance in unemployment; 12 in baseline, 8 in alternative\n",
    "model_tools.wage_flex = [0.25] + [0.05]*(model_tools.no_countries-1)          # wage flexibility;                0.05 in baseline, 0.08 or 0.25 in alternative\n",
    "\n",
    "model_tools.free_market = False                 # all quotas are 1?\n",
    "mm = np.array([[1]*model_tools.no_countries]*model_tools.no_countries)                                     \n",
    "mm[0], mm.T[0] = [1,0,1,0,0,0], [1,0,1,0,0,0]     # country 0 trades only with country 2\n",
    "model_tools.trade_quotas = [list(country) for country in mm] "
   ]
  },
  {
   "cell_type": "code",
   "execution_count": 35,
   "metadata": {},
   "outputs": [],
   "source": [
    "experiment(rand_seeds[:4], 1200, \"6C_8k\", csv = False)  "
   ]
  },
  {
   "cell_type": "code",
   "execution_count": null,
   "metadata": {},
   "outputs": [],
   "source": []
  },
  {
   "cell_type": "code",
   "execution_count": null,
   "metadata": {},
   "outputs": [],
   "source": []
  },
  {
   "cell_type": "markdown",
   "metadata": {},
   "source": [
    "# Experiments with exchange rate sensitivities"
   ]
  },
  {
   "cell_type": "markdown",
   "metadata": {},
   "source": [
    "## 2 large countries experiments"
   ]
  },
  {
   "cell_type": "code",
   "execution_count": 23,
   "metadata": {},
   "outputs": [],
   "source": [
    "model_tools.ns = [5000,5000]    # no HSHs\n",
    "model_tools.ms = [550,550]      # no firms\n",
    "set_base_pars()\n"
   ]
  },
  {
   "cell_type": "markdown",
   "metadata": {},
   "source": [
    "#### pegged rates"
   ]
  },
  {
   "cell_type": "code",
   "execution_count": null,
   "metadata": {},
   "outputs": [],
   "source": [
    "model_tools.pegged_rates = [-1,0]            # which currencies are pegged together, -1 if to none\n",
    "model_tools.trade_sensitivity = 0.1              # sensitivity in exchange factors updating    ## gamma\n",
    "model_tools.normal_variance = 0.002"
   ]
  },
  {
   "cell_type": "code",
   "execution_count": null,
   "metadata": {},
   "outputs": [],
   "source": [
    "experiment(rand_seeds[21:24], 1200, \"exch_0\", csv = False)"
   ]
  },
  {
   "cell_type": "markdown",
   "metadata": {},
   "source": [
    "### exch_rate experiments"
   ]
  },
  {
   "cell_type": "code",
   "execution_count": null,
   "metadata": {},
   "outputs": [],
   "source": [
    "model_tools.pegged_rates = [-1,-1] \n",
    "grid = [ [0], [0.05], [0.15], [0.2], [0.4], [0.7], [1] ]"
   ]
  },
  {
   "cell_type": "code",
   "execution_count": null,
   "metadata": {},
   "outputs": [],
   "source": [
    "exp_grid( grid , [\"trade_sensitivity\"],  \n",
    "         rand_seeds[21:24], 1200, \"exch\", csv = False)"
   ]
  },
  {
   "cell_type": "code",
   "execution_count": null,
   "metadata": {},
   "outputs": [],
   "source": []
  },
  {
   "cell_type": "markdown",
   "metadata": {},
   "source": [
    "### more detail on 0.2 - 0.4"
   ]
  },
  {
   "cell_type": "code",
   "execution_count": 24,
   "metadata": {},
   "outputs": [],
   "source": [
    "model_tools.pegged_rates = [-1,-1] \n",
    "grid = [[0.28], [0.30], [0.32], [0.34], [0.36]]"
   ]
  },
  {
   "cell_type": "code",
   "execution_count": 25,
   "metadata": {},
   "outputs": [
    {
     "name": "stdout",
     "output_type": "stream",
     "text": [
      "experiment 0 is finished\n",
      "experiment 1 is finished\n",
      "experiment 2 is finished\n",
      "experiment 3 is finished\n",
      "experiment 4 is finished\n"
     ]
    }
   ],
   "source": [
    "exp_grid(grid, [\"trade_sensitivity\"], rand_seeds[21:28], 1200, \"exch_detailed\", csv = False)"
   ]
  },
  {
   "cell_type": "code",
   "execution_count": null,
   "metadata": {},
   "outputs": [],
   "source": []
  },
  {
   "cell_type": "code",
   "execution_count": null,
   "metadata": {},
   "outputs": [],
   "source": []
  },
  {
   "cell_type": "markdown",
   "metadata": {},
   "source": [
    "# Experiments with trade quotas"
   ]
  },
  {
   "cell_type": "markdown",
   "metadata": {},
   "source": [
    "##  BB quotas experiments"
   ]
  },
  {
   "cell_type": "code",
   "execution_count": 36,
   "metadata": {},
   "outputs": [],
   "source": [
    "model_tools.ns = [5000,5000]    # no HSHs\n",
    "model_tools.ms = [550,550]      # no firms\n",
    "set_base_pars()\n",
    "model_tools.free_market = False "
   ]
  },
  {
   "cell_type": "code",
   "execution_count": 37,
   "metadata": {},
   "outputs": [],
   "source": [
    "quotas = [0.01, 0.03, 0.05, 0.1, 0.2, 0.3, 0.5, 0.7, 0.85]"
   ]
  },
  {
   "cell_type": "code",
   "execution_count": 38,
   "metadata": {},
   "outputs": [],
   "source": [
    "grid = make_grid( ([[12]*2, [0.05]*2], [[8]*2, [0.08]*2]), \n",
    "                  ([make_matrix(quota, False)] for quota in quotas) )   "
   ]
  },
  {
   "cell_type": "code",
   "execution_count": 39,
   "metadata": {},
   "outputs": [
    {
     "name": "stdout",
     "output_type": "stream",
     "text": [
      "experiment 0 is finished\n",
      "experiment 1 is finished\n",
      "experiment 2 is finished\n",
      "experiment 3 is finished\n",
      "experiment 4 is finished\n",
      "experiment 5 is finished\n",
      "experiment 6 is finished\n",
      "experiment 7 is finished\n",
      "experiment 8 is finished\n",
      "experiment 9 is finished\n",
      "experiment 10 is finished\n",
      "experiment 11 is finished\n",
      "experiment 12 is finished\n",
      "experiment 13 is finished\n",
      "experiment 14 is finished\n",
      "experiment 15 is finished\n",
      "experiment 16 is finished\n",
      "experiment 17 is finished\n"
     ]
    }
   ],
   "source": [
    "exp_grid( grid , [\"wage_resist\", \"wage_flex\", \"trade_quotas\"],  \n",
    "         rand_seeds[12:15], 900, \"quotas_BB\", csv = False)"
   ]
  },
  {
   "cell_type": "code",
   "execution_count": null,
   "metadata": {},
   "outputs": [],
   "source": []
  },
  {
   "cell_type": "markdown",
   "metadata": {},
   "source": [
    "##  BS quotas experiments"
   ]
  },
  {
   "cell_type": "code",
   "execution_count": 40,
   "metadata": {},
   "outputs": [],
   "source": [
    "model_tools.ns = [8000,2000]    # no HSHs\n",
    "model_tools.ms = [880,220]      # no firms\n",
    "set_base_pars()\n",
    "model_tools.free_market = False                 # all quotas are 1?\n"
   ]
  },
  {
   "cell_type": "code",
   "execution_count": 41,
   "metadata": {},
   "outputs": [],
   "source": [
    "quotas = [0.01, 0.03, 0.05, 0.1, 0.2, 0.3, 0.5, 0.7, 0.85]"
   ]
  },
  {
   "cell_type": "code",
   "execution_count": 42,
   "metadata": {},
   "outputs": [],
   "source": [
    "grid = make_grid( ([[12]*2, [0.05]*2], [[8]*2, [0.08]*2]), \n",
    "                  ([make_matrix(quota, False)] for quota in quotas) )      "
   ]
  },
  {
   "cell_type": "code",
   "execution_count": 43,
   "metadata": {},
   "outputs": [
    {
     "name": "stdout",
     "output_type": "stream",
     "text": [
      "experiment 0 is finished\n",
      "experiment 1 is finished\n",
      "experiment 2 is finished\n",
      "experiment 3 is finished\n",
      "experiment 4 is finished\n",
      "experiment 5 is finished\n",
      "experiment 6 is finished\n",
      "experiment 7 is finished\n",
      "experiment 8 is finished\n",
      "262:  Bank 1_b_0 is bankrupt!\n",
      "experiment 9 is finished\n",
      "experiment 10 is finished\n",
      "experiment 11 is finished\n",
      "experiment 12 is finished\n",
      "experiment 13 is finished\n",
      "experiment 14 is finished\n",
      "experiment 15 is finished\n",
      "experiment 16 is finished\n",
      "experiment 17 is finished\n"
     ]
    }
   ],
   "source": [
    "exp_grid( grid , [\"wage_resist\", \"wage_flex\", \"trade_quotas\"],  \n",
    "         rand_seeds[12:15], 900, \"quotas_BS\", csv = False)"
   ]
  },
  {
   "cell_type": "code",
   "execution_count": null,
   "metadata": {},
   "outputs": [],
   "source": []
  },
  {
   "cell_type": "code",
   "execution_count": null,
   "metadata": {},
   "outputs": [],
   "source": []
  },
  {
   "cell_type": "markdown",
   "metadata": {},
   "source": [
    "# Trade costs experiments"
   ]
  },
  {
   "cell_type": "markdown",
   "metadata": {},
   "source": [
    "## BB trade costs"
   ]
  },
  {
   "cell_type": "code",
   "execution_count": null,
   "metadata": {},
   "outputs": [],
   "source": [
    "model_tools.ns = [5000,5000]    # no HSHs\n",
    "model_tools.ms = [550,550]      # no firms\n",
    "set_base_pars()\n"
   ]
  },
  {
   "cell_type": "code",
   "execution_count": null,
   "metadata": {},
   "outputs": [],
   "source": [
    "costs = [0, 0.01, 0.1, 0.2, 0.3, 0.5, 0.7, 1, 1.3] \n",
    "grid = make_grid( ([[12]*2, [0.05]*2], [[8]*2, [0.08]*2]), \n",
    "                  ([make_matrix(cost, True)] for cost in costs) )      "
   ]
  },
  {
   "cell_type": "code",
   "execution_count": null,
   "metadata": {},
   "outputs": [],
   "source": [
    "exp_grid( grid , [\"wage_resist\", \"wage_flex\", \"trade_costs\"],  \n",
    "         rand_seeds[14:17], 900, \"costs_BB\", csv = False)"
   ]
  },
  {
   "cell_type": "code",
   "execution_count": null,
   "metadata": {},
   "outputs": [],
   "source": []
  },
  {
   "cell_type": "markdown",
   "metadata": {},
   "source": [
    "## BS trade costs"
   ]
  },
  {
   "cell_type": "code",
   "execution_count": null,
   "metadata": {},
   "outputs": [],
   "source": [
    "model_tools.ns = [8000,2000]    # no HSHs\n",
    "model_tools.ms = [880,220]      # no firms\n",
    "set_base_pars()\n"
   ]
  },
  {
   "cell_type": "code",
   "execution_count": null,
   "metadata": {},
   "outputs": [],
   "source": [
    "costs = [0, 0.01, 0.1, 0.2, 0.3, 0.5, 0.7, 1, 1.3] \n",
    "grid = make_grid( ([[12]*2, [0.05]*2], [[8]*2, [0.08]*2]), \n",
    "                  ([make_matrix(cost, True)] for cost in costs) )     "
   ]
  },
  {
   "cell_type": "code",
   "execution_count": null,
   "metadata": {},
   "outputs": [],
   "source": [
    "exp_grid( grid , [\"wage_resist\", \"wage_flex\", \"trade_costs\"],  \n",
    "         rand_seeds[14:17], 900, \"costs_BS\", csv = False)"
   ]
  },
  {
   "cell_type": "code",
   "execution_count": null,
   "metadata": {},
   "outputs": [],
   "source": []
  },
  {
   "cell_type": "markdown",
   "metadata": {},
   "source": [
    "## 6 countries experiments"
   ]
  },
  {
   "cell_type": "code",
   "execution_count": 50,
   "metadata": {},
   "outputs": [],
   "source": [
    "set_base_pars([8000]*2 + [2000]*4)\n"
   ]
  },
  {
   "cell_type": "code",
   "execution_count": 52,
   "metadata": {},
   "outputs": [],
   "source": [
    "costs = [0, 0.01, 0.1, 0.25, 0.5, 1] \n",
    "grid = make_grid( ([[12]*6, [0.05]*6], [[8]*6, [0.08]*6]), \n",
    "                  ([make_matrix(cost, True)] for cost in costs) ) "
   ]
  },
  {
   "cell_type": "code",
   "execution_count": 54,
   "metadata": {
    "scrolled": false
   },
   "outputs": [
    {
     "name": "stdout",
     "output_type": "stream",
     "text": [
      "experiment 0 is finished\n",
      "experiment 1 is finished\n",
      "experiment 2 is finished\n",
      "422:  Bank 4_b_0 is bankrupt!\n",
      "557:  Bank 3_b_0 is bankrupt!\n",
      "678:  Bank 2_b_0 is bankrupt!\n",
      "experiment 3 is finished\n",
      "264:  Bank 3_b_0 is bankrupt!\n",
      "326:  Bank 2_b_0 is bankrupt!\n",
      "369:  Bank 4_b_0 is bankrupt!\n",
      "374:  Bank 5_b_0 is bankrupt!\n",
      "308:  Bank 2_b_0 is bankrupt!\n",
      "313:  Bank 5_b_0 is bankrupt!\n",
      "334:  Bank 4_b_0 is bankrupt!\n",
      "350:  Bank 3_b_0 is bankrupt!\n",
      "303:  Bank 3_b_0 is bankrupt!\n",
      "312:  Bank 2_b_0 is bankrupt!\n",
      "353:  Bank 5_b_0 is bankrupt!\n",
      "409:  Bank 4_b_0 is bankrupt!\n",
      "experiment 4 is finished\n",
      "120:  Bank 2_b_0 is bankrupt!\n",
      "120:  Bank 4_b_0 is bankrupt!\n",
      "129:  Bank 3_b_0 is bankrupt!\n",
      "143:  Bank 5_b_0 is bankrupt!\n",
      "644:  Bank 1_b_0 is bankrupt!\n",
      "664:  Bank 0_b_0 is bankrupt!\n",
      "120:  Bank 3_b_0 is bankrupt!\n",
      "121:  Bank 5_b_0 is bankrupt!\n",
      "134:  Bank 4_b_0 is bankrupt!\n",
      "149:  Bank 2_b_0 is bankrupt!\n",
      "679:  Bank 1_b_0 is bankrupt!\n",
      "682:  Bank 0_b_0 is bankrupt!\n",
      "120:  Bank 4_b_0 is bankrupt!\n",
      "122:  Bank 5_b_0 is bankrupt!\n",
      "134:  Bank 3_b_0 is bankrupt!\n",
      "139:  Bank 2_b_0 is bankrupt!\n",
      "680:  Bank 0_b_0 is bankrupt!\n",
      "681:  Bank 1_b_0 is bankrupt!\n",
      "experiment 5 is finished\n",
      "experiment 6 is finished\n",
      "experiment 7 is finished\n",
      "351:  Bank 2_b_0 is bankrupt!\n",
      "355:  Bank 5_b_0 is bankrupt!\n",
      "368:  Bank 4_b_0 is bankrupt!\n",
      "654:  Bank 3_b_0 is bankrupt!\n",
      "800:  Bank 0_b_0 is bankrupt!\n",
      "868:  Bank 1_b_0 is bankrupt!\n",
      "336:  Bank 2_b_0 is bankrupt!\n",
      "483:  Bank 5_b_0 is bankrupt!\n",
      "770:  Bank 1_b_0 is bankrupt!\n",
      "878:  Bank 0_b_0 is bankrupt!\n",
      "292:  Bank 5_b_0 is bankrupt!\n",
      "730:  Bank 4_b_0 is bankrupt!\n",
      "891:  Bank 0_b_0 is bankrupt!\n",
      "experiment 8 is finished\n",
      "332:  Bank 2_b_0 is bankrupt!\n",
      "409:  Bank 4_b_0 is bankrupt!\n",
      "478:  Bank 3_b_0 is bankrupt!\n",
      "525:  Bank 5_b_0 is bankrupt!\n",
      "766:  Bank 0_b_0 is bankrupt!\n",
      "818:  Bank 1_b_0 is bankrupt!\n",
      "343:  Bank 3_b_0 is bankrupt!\n",
      "413:  Bank 5_b_0 is bankrupt!\n",
      "518:  Bank 2_b_0 is bankrupt!\n",
      "598:  Bank 4_b_0 is bankrupt!\n",
      "809:  Bank 1_b_0 is bankrupt!\n",
      "813:  Bank 0_b_0 is bankrupt!\n",
      "317:  Bank 5_b_0 is bankrupt!\n",
      "357:  Bank 2_b_0 is bankrupt!\n",
      "365:  Bank 3_b_0 is bankrupt!\n",
      "493:  Bank 4_b_0 is bankrupt!\n",
      "784:  Bank 1_b_0 is bankrupt!\n",
      "796:  Bank 0_b_0 is bankrupt!\n",
      "experiment 9 is finished\n",
      "120:  Bank 2_b_0 is bankrupt!\n",
      "120:  Bank 4_b_0 is bankrupt!\n",
      "121:  Bank 3_b_0 is bankrupt!\n",
      "123:  Bank 5_b_0 is bankrupt!\n",
      "164:  Bank 1_b_0 is bankrupt!\n",
      "166:  Bank 0_b_0 is bankrupt!\n",
      "174:  Bank 2_b_0 is bankrupt!\n",
      "181:  Bank 3_b_0 is bankrupt!\n",
      "240:  Bank 1_b_0 is bankrupt!\n",
      "263:  Bank 0_b_0 is bankrupt!\n",
      "325:  Bank 5_b_0 is bankrupt!\n",
      "450:  Bank 4_b_0 is bankrupt!\n",
      "209:  Bank 2_b_0 is bankrupt!\n",
      "255:  Bank 5_b_0 is bankrupt!\n",
      "408:  Bank 1_b_0 is bankrupt!\n",
      "466:  Bank 0_b_0 is bankrupt!\n",
      "521:  Bank 4_b_0 is bankrupt!\n",
      "613:  Bank 3_b_0 is bankrupt!\n",
      "experiment 10 is finished\n",
      "120:  Bank 2_b_0 is bankrupt!\n",
      "120:  Bank 3_b_0 is bankrupt!\n",
      "120:  Bank 4_b_0 is bankrupt!\n",
      "120:  Bank 5_b_0 is bankrupt!\n",
      "240:  Bank 1_b_0 is bankrupt!\n",
      "251:  Bank 0_b_0 is bankrupt!\n",
      "120:  Bank 2_b_0 is bankrupt!\n",
      "120:  Bank 3_b_0 is bankrupt!\n",
      "120:  Bank 4_b_0 is bankrupt!\n",
      "120:  Bank 5_b_0 is bankrupt!\n",
      "177:  Bank 0_b_0 is bankrupt!\n",
      "189:  Bank 1_b_0 is bankrupt!\n",
      "120:  Bank 2_b_0 is bankrupt!\n",
      "120:  Bank 3_b_0 is bankrupt!\n",
      "120:  Bank 4_b_0 is bankrupt!\n",
      "120:  Bank 5_b_0 is bankrupt!\n",
      "187:  Bank 0_b_0 is bankrupt!\n",
      "189:  Bank 1_b_0 is bankrupt!\n",
      "experiment 11 is finished\n"
     ]
    }
   ],
   "source": [
    "exp_grid( grid , [\"wage_resist\", \"wage_flex\", \"trade_costs\"],  \n",
    "         rand_seeds[5:8], 900, \"costs_6C\", csv = False)"
   ]
  },
  {
   "cell_type": "code",
   "execution_count": null,
   "metadata": {},
   "outputs": [],
   "source": []
  },
  {
   "cell_type": "markdown",
   "metadata": {},
   "source": [
    "# Experiments with global bank"
   ]
  },
  {
   "cell_type": "markdown",
   "metadata": {},
   "source": [
    "## BB bank experiments"
   ]
  },
  {
   "cell_type": "code",
   "execution_count": null,
   "metadata": {},
   "outputs": [],
   "source": [
    "model_tools.ns = [5000,5000]    # no HSHs\n",
    "model_tools.ms = [550,550]      # no firms\n",
    "set_base_pars()\n",
    "model_tools.global_bank = True"
   ]
  },
  {
   "cell_type": "code",
   "execution_count": null,
   "metadata": {},
   "outputs": [],
   "source": [
    "grid = [ ([12]*model_tools.no_countries, [0.05]*model_tools.no_countries ),   # baseline\n",
    "       ([12, 8], [0.05, 0.08]),                                               # alternative in periphery\n",
    "       ([8, 12], [0.08, 0.05]),                                               # alternative in centre\n",
    "       ([12, 8], [0.05, 0.25]),                                               # extr_alt in periphery\n",
    "       ([8, 12], [0.25, 0.05])]                                               # extr_alt in centre"
   ]
  },
  {
   "cell_type": "code",
   "execution_count": null,
   "metadata": {},
   "outputs": [],
   "source": [
    "exp_grid(grid, [\"wage_resist\", \"wage_flex\"], \n",
    "         rand_seeds[24:27], 1200, \"glob_bank\", csv = False)"
   ]
  },
  {
   "cell_type": "code",
   "execution_count": null,
   "metadata": {},
   "outputs": [],
   "source": []
  },
  {
   "cell_type": "code",
   "execution_count": null,
   "metadata": {},
   "outputs": [],
   "source": []
  },
  {
   "cell_type": "markdown",
   "metadata": {},
   "source": [
    "# animal spirits experiments"
   ]
  },
  {
   "cell_type": "markdown",
   "metadata": {},
   "source": [
    "##  animal spirits in BB and BS baselines"
   ]
  },
  {
   "cell_type": "code",
   "execution_count": null,
   "metadata": {},
   "outputs": [],
   "source": [
    "model_tools.ns = [5000,5000]    # no HSHs\n",
    "model_tools.ms = [550,550]      # no firms\n",
    "set_base_pars()"
   ]
  },
  {
   "cell_type": "code",
   "execution_count": null,
   "metadata": {},
   "outputs": [],
   "source": [
    "grid = make_grid( ([(5000,5000), (550,550)], [(8000,2000), (880, 220)]), \n",
    "                 ([[0], [0.2], [0.4], [0.6], [0.75], [0.8], [0.9], [1]])  )   # 0.7 is original value"
   ]
  },
  {
   "cell_type": "code",
   "execution_count": null,
   "metadata": {},
   "outputs": [],
   "source": [
    "exp_grid( grid , [\"ns\", \"ms\", \"p\"],  \n",
    "         rand_seeds[28:31], 1200, \"spirits_base\", csv = False)"
   ]
  },
  {
   "cell_type": "code",
   "execution_count": null,
   "metadata": {},
   "outputs": [],
   "source": []
  },
  {
   "cell_type": "code",
   "execution_count": null,
   "metadata": {},
   "outputs": [],
   "source": []
  },
  {
   "cell_type": "markdown",
   "metadata": {},
   "source": [
    "# (almost) perfect union with quotas - pegged rates, 0 trade costs"
   ]
  },
  {
   "cell_type": "code",
   "execution_count": null,
   "metadata": {},
   "outputs": [],
   "source": [
    "model_tools.ns = [5000,5000]    # no HSHs\n",
    "model_tools.ms = [550,550]      # no firms\n",
    "set_base_pars()\n",
    "model_tools.free_market = False                 # all quotas are 1?\n",
    "model_tools.trade_costs = make_matrix(0, True)\n",
    "model_tools.pegged_rates = [-1,0]"
   ]
  },
  {
   "cell_type": "code",
   "execution_count": null,
   "metadata": {},
   "outputs": [],
   "source": [
    "quotas = [0.01, 0.03, 0.05, 0.1, 0.3, 0.5, 0.75, 1]"
   ]
  },
  {
   "cell_type": "code",
   "execution_count": null,
   "metadata": {},
   "outputs": [],
   "source": [
    "grid = make_grid( ([[5000,5000], [550,550]], [[8000,2000], [880,220]]), \n",
    "                  ([make_matrix(quota, False)] for quota in quotas) )      "
   ]
  },
  {
   "cell_type": "code",
   "execution_count": null,
   "metadata": {},
   "outputs": [],
   "source": [
    "exp_grid( grid , [\"ns\", \"ms\", \"trade_quotas\"],  \n",
    "         rand_seeds[23:26], 900, \"perfect_union\", csv = False)"
   ]
  },
  {
   "cell_type": "code",
   "execution_count": null,
   "metadata": {},
   "outputs": [],
   "source": []
  },
  {
   "cell_type": "code",
   "execution_count": null,
   "metadata": {},
   "outputs": [],
   "source": []
  },
  {
   "cell_type": "markdown",
   "metadata": {},
   "source": [
    "# 0 trade costs"
   ]
  },
  {
   "cell_type": "code",
   "execution_count": 72,
   "metadata": {},
   "outputs": [],
   "source": [
    "set_base_pars([5000,5000])\n",
    "model_tools.trade_costs = make_matrix(0, True)"
   ]
  },
  {
   "cell_type": "code",
   "execution_count": 65,
   "metadata": {},
   "outputs": [],
   "source": [
    "grid = make_grid( ([[5000,5000], [550,550]], [[8000,2000], [880,220]]), \n",
    "                  ([[12, 12], [0.05, 0.05]], [[8, 8], [0.08, 0.08]], [[12, 8], [0.05, 0.08]], [[12, 8], [0.05, 0.25]] ))   "
   ]
  },
  {
   "cell_type": "code",
   "execution_count": null,
   "metadata": {},
   "outputs": [
    {
     "name": "stdout",
     "output_type": "stream",
     "text": [
      "experiment 0 is finished\n"
     ]
    }
   ],
   "source": [
    "exp_grid( grid , [\"ns\", \"ms\", \"wage_resist\", \"wage_flex\"],  \n",
    "         rand_seeds[:7], 1200, \"new_2C\", csv = False)"
   ]
  },
  {
   "cell_type": "code",
   "execution_count": 73,
   "metadata": {},
   "outputs": [],
   "source": [
    "set_base_pars([5000,5000])\n",
    "model_tools.trade_costs = make_matrix(0, True)\n",
    "model_tools.wage_flex = [0.25]*2\n",
    "model_tools.wage_resist = [8]*2"
   ]
  },
  {
   "cell_type": "code",
   "execution_count": 74,
   "metadata": {},
   "outputs": [
    {
     "name": "stdout",
     "output_type": "stream",
     "text": [
      "434:  Bank 0_b_0 is bankrupt!\n",
      "464:  Bank 1_b_0 is bankrupt!\n",
      "409:  Bank 1_b_0 is bankrupt!\n",
      "570:  Bank 0_b_0 is bankrupt!\n",
      "378:  Bank 1_b_0 is bankrupt!\n",
      "446:  Bank 0_b_0 is bankrupt!\n",
      "323:  Bank 1_b_0 is bankrupt!\n",
      "368:  Bank 0_b_0 is bankrupt!\n",
      "509:  Bank 1_b_0 is bankrupt!\n",
      "342:  Bank 0_b_0 is bankrupt!\n",
      "474:  Bank 1_b_0 is bankrupt!\n",
      "358:  Bank 0_b_0 is bankrupt!\n",
      "387:  Bank 1_b_0 is bankrupt!\n"
     ]
    }
   ],
   "source": [
    "experiment(rand_seeds[:7], 600, note = \"new_BB_extr\", csv = False)"
   ]
  },
  {
   "cell_type": "code",
   "execution_count": 75,
   "metadata": {},
   "outputs": [],
   "source": [
    "set_base_pars([8000,2000])\n",
    "model_tools.trade_costs = make_matrix(0, True)\n",
    "model_tools.wage_flex = [0.25]*2\n",
    "model_tools.wage_resist = [8]*2"
   ]
  },
  {
   "cell_type": "code",
   "execution_count": 76,
   "metadata": {},
   "outputs": [
    {
     "name": "stdout",
     "output_type": "stream",
     "text": [
      "287:  Bank 1_b_0 is bankrupt!\n",
      "359:  Bank 0_b_0 is bankrupt!\n",
      "270:  Bank 1_b_0 is bankrupt!\n",
      "348:  Bank 0_b_0 is bankrupt!\n",
      "319:  Bank 1_b_0 is bankrupt!\n",
      "364:  Bank 0_b_0 is bankrupt!\n",
      "338:  Bank 1_b_0 is bankrupt!\n",
      "374:  Bank 0_b_0 is bankrupt!\n",
      "328:  Bank 0_b_0 is bankrupt!\n",
      "366:  Bank 1_b_0 is bankrupt!\n"
     ]
    }
   ],
   "source": [
    "experiment(rand_seeds[:7], 600, note = \"new_BS_extr\", csv = False)"
   ]
  },
  {
   "cell_type": "code",
   "execution_count": null,
   "metadata": {},
   "outputs": [],
   "source": []
  }
 ],
 "metadata": {
  "kernelspec": {
   "display_name": "Python 3",
   "language": "python",
   "name": "python3"
  },
  "language_info": {
   "codemirror_mode": {
    "name": "ipython",
    "version": 3
   },
   "file_extension": ".py",
   "mimetype": "text/x-python",
   "name": "python",
   "nbconvert_exporter": "python",
   "pygments_lexer": "ipython3",
   "version": "3.8.8"
  }
 },
 "nbformat": 4,
 "nbformat_minor": 2
}
