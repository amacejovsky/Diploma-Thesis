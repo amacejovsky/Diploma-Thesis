{
 "cells": [
  {
   "cell_type": "markdown",
   "metadata": {},
   "source": [
    "# Laboratory"
   ]
  },
  {
   "cell_type": "markdown",
   "metadata": {},
   "source": [
    "<div id=\"toc\"></div>"
   ]
  },
  {
   "cell_type": "code",
   "execution_count": 1,
   "metadata": {},
   "outputs": [
    {
     "data": {
      "application/javascript": [
       "$.getScript('https://kmahelona.github.io/ipython_notebook_goodies/ipython_notebook_toc.js')\n",
       "// https://github.com/kmahelona/ipython_notebook_goodies          ...interactive table of contents\n"
      ],
      "text/plain": [
       "<IPython.core.display.Javascript object>"
      ]
     },
     "metadata": {},
     "output_type": "display_data"
    }
   ],
   "source": [
    "%%javascript\n",
    "$.getScript('https://kmahelona.github.io/ipython_notebook_goodies/ipython_notebook_toc.js')\n",
    "// https://github.com/kmahelona/ipython_notebook_goodies          ...interactive table of contents"
   ]
  },
  {
   "cell_type": "code",
   "execution_count": 2,
   "metadata": {
    "scrolled": true
   },
   "outputs": [
    {
     "name": "stdout",
     "output_type": "stream",
     "text": [
      "d:\\moje_dokumenty\\Desktop\\diplomka\\model\\data\\hdf_tarrifs\n"
     ]
    }
   ],
   "source": [
    "%cd \"d:\\moje_dokumenty\\Desktop\\diplomka\\model\\data\\hdf_tarrifs\\\" "
   ]
  },
  {
   "cell_type": "code",
   "execution_count": 3,
   "metadata": {},
   "outputs": [],
   "source": [
    "import model_tools "
   ]
  },
  {
   "cell_type": "code",
   "execution_count": 4,
   "metadata": {},
   "outputs": [],
   "source": [
    "Sim = model_tools.Simulation\n",
    "experiment = model_tools.experiment\n",
    "random = model_tools.random\n",
    "np = model_tools.np\n",
    "exp_grid = model_tools.exp_grid\n",
    "make_matrix = model_tools.make_matrix\n",
    "make_grid = model_tools.make_grid\n",
    "set_base_pars = model_tools.set_base_pars"
   ]
  },
  {
   "cell_type": "code",
   "execution_count": 6,
   "metadata": {},
   "outputs": [],
   "source": [
    "#rand_seeds = [[24, 24]] + [[random.randrange(10**5), random.randrange(10**5)] for i in range(30) ]   # for 31 runs"
   ]
  },
  {
   "cell_type": "code",
   "execution_count": 8,
   "metadata": {},
   "outputs": [],
   "source": [
    "rand_seeds = [[24, 24],\n",
    " [54369, 28859],\n",
    " [15584, 3908],\n",
    " [96080, 78869],\n",
    " [96917, 86267],\n",
    " [18165, 7192],\n",
    " [38416, 49765],\n",
    " [92278, 86824],\n",
    " [57964, 33407],\n",
    " [5189, 20391],\n",
    " [27137, 61335],\n",
    " [9775, 30765],\n",
    " [31455, 59772],\n",
    " [65968, 54754],\n",
    " [50863, 67854],\n",
    " [97478, 67886],\n",
    " [55345, 88123],\n",
    " [89208, 60365],\n",
    " [22288, 66824],\n",
    " [84694, 39366],\n",
    " [7962, 95043],\n",
    " [82299, 25514],\n",
    " [86899, 82606],\n",
    " [15379, 90218],\n",
    " [29085, 98904],\n",
    " [31432, 29754],\n",
    " [95068, 79919],\n",
    " [3946, 99762],\n",
    " [6746, 22011],\n",
    " [16739, 27246],\n",
    " [66794, 58252]]"
   ]
  },
  {
   "cell_type": "code",
   "execution_count": null,
   "metadata": {},
   "outputs": [],
   "source": []
  },
  {
   "cell_type": "markdown",
   "metadata": {},
   "source": [
    "# Trade costs space establishment"
   ]
  },
  {
   "cell_type": "markdown",
   "metadata": {},
   "source": [
    "goal of parameter space estimation: choose (max) 3 values of parameters with which experiments will be made, eg no trade costs, medium costs, high costs"
   ]
  },
  {
   "cell_type": "markdown",
   "metadata": {},
   "source": [
    "## BB trade costs"
   ]
  },
  {
   "cell_type": "code",
   "execution_count": 14,
   "metadata": {},
   "outputs": [],
   "source": [
    "model_tools.ns = [5000,5000]    # no HSHs\n",
    "model_tools.ms = [550,550]      # no firms\n",
    "set_base_pars()\n"
   ]
  },
  {
   "cell_type": "code",
   "execution_count": 28,
   "metadata": {},
   "outputs": [],
   "source": [
    "costs = [0, 0.01, 0.05, 0.1, 0.2, 0.3, 0.5, 0.7, 1, 1.3]    "
   ]
  },
  {
   "cell_type": "code",
   "execution_count": 29,
   "metadata": {},
   "outputs": [],
   "source": [
    "grid = [ [make_matrix(cost, True)] for cost in costs ]"
   ]
  },
  {
   "cell_type": "code",
   "execution_count": 30,
   "metadata": {
    "scrolled": true
   },
   "outputs": [
    {
     "name": "stdout",
     "output_type": "stream",
     "text": [
      "start of exp_grid: costs_BB_est\n"
     ]
    },
    {
     "name": "stderr",
     "output_type": "stream",
     "text": [
      "C:\\Users\\am\\model_tools.py:1876: RuntimeWarning: invalid value encountered in true_divide\n",
      "  results.append(list(multiply*s1/s2))\n",
      "C:\\Users\\am\\model_tools.py:1856: RuntimeWarning: invalid value encountered in true_divide\n",
      "  results.append(list(diff/s1))\n",
      "C:\\Users\\am\\model_tools.py:1876: RuntimeWarning: divide by zero encountered in true_divide\n",
      "  results.append(list(multiply*s1/s2))\n",
      "C:\\Users\\am\\Anaconda3\\lib\\site-packages\\numpy\\core\\fromnumeric.py:3118: RuntimeWarning: Mean of empty slice.\n",
      "  out=out, **kwargs)\n",
      "C:\\Users\\am\\Anaconda3\\lib\\site-packages\\numpy\\core\\_methods.py:85: RuntimeWarning: invalid value encountered in double_scalars\n",
      "  ret = ret.dtype.type(ret / rcount)\n"
     ]
    },
    {
     "name": "stdout",
     "output_type": "stream",
     "text": [
      "experiment 0 is finished\n",
      "experiment 1 is finished\n",
      "experiment 2 is finished\n",
      "experiment 3 is finished\n",
      "experiment 4 is finished\n",
      "experiment 5 is finished\n",
      "experiment 6 is finished\n",
      "experiment 7 is finished\n",
      "experiment 8 is finished\n",
      "experiment 9 is finished\n",
      "end of exp_grid: costs_BB_est\n"
     ]
    }
   ],
   "source": [
    "exp_grid( grid, [\"trade_costs\"],  \n",
    "         rand_seeds[14:17], 900, \"costs_BB_est\", csv = False)"
   ]
  },
  {
   "cell_type": "code",
   "execution_count": null,
   "metadata": {},
   "outputs": [],
   "source": []
  },
  {
   "cell_type": "markdown",
   "metadata": {},
   "source": [
    "## BS trade costs"
   ]
  },
  {
   "cell_type": "code",
   "execution_count": 38,
   "metadata": {},
   "outputs": [],
   "source": [
    "model_tools.ns = [8000,2000]    # no HSHs\n",
    "model_tools.ms = [880,220]      # no firms\n",
    "set_base_pars()\n"
   ]
  },
  {
   "cell_type": "code",
   "execution_count": 32,
   "metadata": {},
   "outputs": [],
   "source": [
    "costs = [0, 0.01, 0.05, 0.1, 0.2, 0.3, 0.5, 0.7, 1, 1.3] \n",
    "grid = [ [make_matrix(cost, True)] for cost in costs ] "
   ]
  },
  {
   "cell_type": "code",
   "execution_count": 33,
   "metadata": {},
   "outputs": [
    {
     "name": "stdout",
     "output_type": "stream",
     "text": [
      "start of exp_grid: costs_BS_est\n",
      "experiment 0 is finished\n",
      "experiment 1 is finished\n",
      "experiment 2 is finished\n",
      "experiment 3 is finished\n",
      "experiment 4 is finished\n",
      "experiment 5 is finished\n",
      "experiment 6 is finished\n",
      "experiment 7 is finished\n",
      "642:  Bank 1_b_0 is bankrupt!\n",
      "876:  Bank 1_b_0 is bankrupt!\n",
      "724:  Bank 1_b_0 is bankrupt!\n",
      "experiment 8 is finished\n",
      "545:  Bank 1_b_0 is bankrupt!\n",
      "599:  Bank 1_b_0 is bankrupt!\n",
      "597:  Bank 1_b_0 is bankrupt!\n",
      "experiment 9 is finished\n",
      "end of exp_grid: costs_BS_est\n"
     ]
    }
   ],
   "source": [
    "exp_grid( grid , [\"trade_costs\"],  \n",
    "         rand_seeds[14:17], 900, \"costs_BS_est\", csv = False)"
   ]
  },
  {
   "cell_type": "code",
   "execution_count": null,
   "metadata": {},
   "outputs": [],
   "source": []
  },
  {
   "cell_type": "code",
   "execution_count": 39,
   "metadata": {},
   "outputs": [],
   "source": [
    "costs = [0.35, 0.4, 0.45] \n",
    "grid = [ [make_matrix(cost, True)] for cost in costs ] "
   ]
  },
  {
   "cell_type": "code",
   "execution_count": 40,
   "metadata": {},
   "outputs": [
    {
     "name": "stdout",
     "output_type": "stream",
     "text": [
      "start of exp_grid: costs_BS_est_det\n",
      "experiment 0 is finished\n",
      "experiment 1 is finished\n",
      "experiment 2 is finished\n",
      "end of exp_grid: costs_BS_est_det\n"
     ]
    }
   ],
   "source": [
    "exp_grid( grid , [\"trade_costs\"],  \n",
    "         rand_seeds[14:17], 900, \"costs_BS_est_det\", csv = False)"
   ]
  },
  {
   "cell_type": "code",
   "execution_count": null,
   "metadata": {},
   "outputs": [],
   "source": []
  },
  {
   "cell_type": "code",
   "execution_count": null,
   "metadata": {},
   "outputs": [],
   "source": []
  },
  {
   "cell_type": "markdown",
   "metadata": {},
   "source": [
    "# Establishment of trade quotas"
   ]
  },
  {
   "cell_type": "code",
   "execution_count": null,
   "metadata": {},
   "outputs": [],
   "source": []
  },
  {
   "cell_type": "markdown",
   "metadata": {},
   "source": [
    "## choose baseline trade costs first ! - 0.2"
   ]
  },
  {
   "cell_type": "markdown",
   "metadata": {},
   "source": [
    "##  BB quotas "
   ]
  },
  {
   "cell_type": "code",
   "execution_count": 48,
   "metadata": {},
   "outputs": [],
   "source": [
    "model_tools.ns = [5000,5000]    # no HSHs\n",
    "model_tools.ms = [550,550]      # no firms\n",
    "set_base_pars()\n",
    "model_tools.free_market = False \n",
    "model_tools.trade_costs = make_matrix(0.2, True)"
   ]
  },
  {
   "cell_type": "code",
   "execution_count": 49,
   "metadata": {},
   "outputs": [],
   "source": [
    "quotas = [0.01, 0.03, 0.05, 0.1, 0.2, 0.3, 0.5, 0.7, 1]"
   ]
  },
  {
   "cell_type": "code",
   "execution_count": 50,
   "metadata": {},
   "outputs": [],
   "source": [
    "grid = [[make_matrix(quota, False)] for quota in quotas]  "
   ]
  },
  {
   "cell_type": "code",
   "execution_count": 44,
   "metadata": {},
   "outputs": [
    {
     "name": "stdout",
     "output_type": "stream",
     "text": [
      "start of exp_grid: quotas_BB_est\n",
      "experiment 2 is finished\n",
      "experiment 3 is finished\n",
      "experiment 4 is finished\n",
      "experiment 5 is finished\n",
      "experiment 6 is finished\n",
      "experiment 7 is finished\n",
      "experiment 8 is finished\n",
      "end of exp_grid: quotas_BB_est\n"
     ]
    }
   ],
   "source": [
    "exp_grid( grid , [\"trade_quotas\"],  \n",
    "         rand_seeds[12:15], 900, \"quotas_BB_est\", start = 2, csv = False)"
   ]
  },
  {
   "cell_type": "code",
   "execution_count": null,
   "metadata": {},
   "outputs": [],
   "source": []
  },
  {
   "cell_type": "code",
   "execution_count": 52,
   "metadata": {},
   "outputs": [],
   "source": [
    "model_tools.wage_resist = [12 , 8]\n",
    "model_tools.wage_flex = [0.05, 0.08]"
   ]
  },
  {
   "cell_type": "code",
   "execution_count": null,
   "metadata": {},
   "outputs": [
    {
     "name": "stdout",
     "output_type": "stream",
     "text": [
      "start of exp_grid: quotas_2_BB_est\n",
      "experiment 0 is finished\n",
      "experiment 1 is finished\n",
      "experiment 2 is finished\n"
     ]
    }
   ],
   "source": [
    "exp_grid( grid , [\"trade_quotas\"],  \n",
    "         rand_seeds[12:15], 900, \"quotas_2_BB_est\", csv = False)"
   ]
  },
  {
   "cell_type": "markdown",
   "metadata": {},
   "source": [
    "##  BS quotas experiments"
   ]
  },
  {
   "cell_type": "code",
   "execution_count": 45,
   "metadata": {},
   "outputs": [],
   "source": [
    "model_tools.ns = [8000,2000]    # no HSHs\n",
    "model_tools.ms = [880,220]      # no firms\n",
    "set_base_pars()\n",
    "model_tools.free_market = False                 # all quotas are 1?\n",
    "model_tools.trade_costs = make_matrix(0.2, True)"
   ]
  },
  {
   "cell_type": "code",
   "execution_count": 46,
   "metadata": {},
   "outputs": [],
   "source": [
    "quotas = [0.01, 0.03, 0.05, 0.1, 0.2, 0.3, 0.5, 0.7, 1]\n",
    "grid = [[make_matrix(quota, False)] for quota in quotas]  "
   ]
  },
  {
   "cell_type": "code",
   "execution_count": 47,
   "metadata": {},
   "outputs": [
    {
     "name": "stdout",
     "output_type": "stream",
     "text": [
      "start of exp_grid: quotas_BS_est\n",
      "experiment 0 is finished\n",
      "experiment 1 is finished\n",
      "experiment 2 is finished\n",
      "experiment 3 is finished\n",
      "experiment 4 is finished\n",
      "experiment 5 is finished\n",
      "experiment 6 is finished\n",
      "experiment 7 is finished\n",
      "experiment 8 is finished\n",
      "end of exp_grid: quotas_BS_est\n"
     ]
    }
   ],
   "source": [
    "exp_grid( grid , [ \"trade_quotas\"],  \n",
    "         rand_seeds[12:15], 900, \"quotas_BS_est\", csv = False)"
   ]
  },
  {
   "cell_type": "code",
   "execution_count": null,
   "metadata": {},
   "outputs": [],
   "source": []
  },
  {
   "cell_type": "code",
   "execution_count": null,
   "metadata": {},
   "outputs": [],
   "source": []
  },
  {
   "cell_type": "markdown",
   "metadata": {},
   "source": [
    "# Establishment of exchange rate sensitivities"
   ]
  },
  {
   "cell_type": "markdown",
   "metadata": {},
   "source": [
    "## 2 large countries experiments"
   ]
  },
  {
   "cell_type": "code",
   "execution_count": null,
   "metadata": {},
   "outputs": [],
   "source": [
    "model_tools.ns = [5000,5000]    # no HSHs\n",
    "model_tools.ms = [550,550]      # no firms\n",
    "set_base_pars()\n"
   ]
  },
  {
   "cell_type": "markdown",
   "metadata": {},
   "source": [
    "#### pegged rates"
   ]
  },
  {
   "cell_type": "code",
   "execution_count": null,
   "metadata": {},
   "outputs": [],
   "source": [
    "model_tools.pegged_rates = [-1,0]            # which currencies are pegged together, -1 if to none\n",
    "model_tools.trade_sensitivity = 0.1              # sensitivity in exchange factors updating    ## gamma\n",
    "model_tools.normal_variance = 0.002"
   ]
  },
  {
   "cell_type": "code",
   "execution_count": null,
   "metadata": {},
   "outputs": [],
   "source": [
    "experiment(rand_seeds[21:24], 1200, \"exch_est_0\", csv = False)"
   ]
  },
  {
   "cell_type": "markdown",
   "metadata": {},
   "source": [
    "### exch_rate experiments"
   ]
  },
  {
   "cell_type": "code",
   "execution_count": null,
   "metadata": {},
   "outputs": [],
   "source": [
    "model_tools.pegged_rates = [-1,-1] \n",
    "grid = [ [0], [0.05], [0.15], [0.2], [0.4], [0.7], [1] ]"
   ]
  },
  {
   "cell_type": "code",
   "execution_count": null,
   "metadata": {},
   "outputs": [],
   "source": [
    "exp_grid( grid , [\"trade_sensitivity\"],  \n",
    "         rand_seeds[21:24], 1200, \"exch_est\", csv = False)"
   ]
  },
  {
   "cell_type": "code",
   "execution_count": null,
   "metadata": {},
   "outputs": [],
   "source": []
  },
  {
   "cell_type": "markdown",
   "metadata": {},
   "source": [
    "### more detail on 0.2 - 0.4"
   ]
  },
  {
   "cell_type": "code",
   "execution_count": null,
   "metadata": {},
   "outputs": [],
   "source": [
    "model_tools.pegged_rates = [-1,-1] \n",
    "grid = [[0.28], [0.30], [0.32], [0.34], [0.36]]"
   ]
  },
  {
   "cell_type": "code",
   "execution_count": null,
   "metadata": {},
   "outputs": [],
   "source": [
    "exp_grid(grid, [\"trade_sensitivity\"], rand_seeds[21:28], 1200, \"exch_est_detailed\", csv = False)"
   ]
  },
  {
   "cell_type": "code",
   "execution_count": null,
   "metadata": {},
   "outputs": [],
   "source": []
  },
  {
   "cell_type": "code",
   "execution_count": null,
   "metadata": {},
   "outputs": [],
   "source": []
  }
 ],
 "metadata": {
  "kernelspec": {
   "display_name": "Python 3",
   "language": "python",
   "name": "python3"
  },
  "language_info": {
   "codemirror_mode": {
    "name": "ipython",
    "version": 3
   },
   "file_extension": ".py",
   "mimetype": "text/x-python",
   "name": "python",
   "nbconvert_exporter": "python",
   "pygments_lexer": "ipython3",
   "version": "3.7.3"
  }
 },
 "nbformat": 4,
 "nbformat_minor": 2
}
