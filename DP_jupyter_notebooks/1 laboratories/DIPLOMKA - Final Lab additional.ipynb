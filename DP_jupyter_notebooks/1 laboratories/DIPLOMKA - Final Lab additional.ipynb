{
 "cells": [
  {
   "cell_type": "code",
   "execution_count": 1,
   "id": "2d5e8b36",
   "metadata": {},
   "outputs": [
    {
     "data": {
      "application/javascript": [
       "$.getScript('https://kmahelona.github.io/ipython_notebook_goodies/ipython_notebook_toc.js')\n",
       "// https://github.com/kmahelona/ipython_notebook_goodies          ...interactive table of contents\n"
      ],
      "text/plain": [
       "<IPython.core.display.Javascript object>"
      ]
     },
     "metadata": {},
     "output_type": "display_data"
    }
   ],
   "source": [
    "%%javascript\n",
    "$.getScript('https://kmahelona.github.io/ipython_notebook_goodies/ipython_notebook_toc.js')\n",
    "// https://github.com/kmahelona/ipython_notebook_goodies          ...interactive table of contents"
   ]
  },
  {
   "cell_type": "code",
   "execution_count": 2,
   "id": "2d2b98c3",
   "metadata": {
    "scrolled": true
   },
   "outputs": [
    {
     "name": "stdout",
     "output_type": "stream",
     "text": [
      "d:\\moje_dokumenty\\Desktop\\diplomka\\model\\data\\hdf_final\n"
     ]
    }
   ],
   "source": [
    "%cd \"d:\\moje_dokumenty\\Desktop\\diplomka\\model\\data\\hdf_final\\\" "
   ]
  },
  {
   "cell_type": "code",
   "execution_count": 3,
   "id": "98966b27",
   "metadata": {},
   "outputs": [],
   "source": [
    "import model_tools "
   ]
  },
  {
   "cell_type": "code",
   "execution_count": 4,
   "id": "85b19892",
   "metadata": {},
   "outputs": [],
   "source": [
    "Sim = model_tools.Simulation\n",
    "experiment = model_tools.experiment\n",
    "random = model_tools.random\n",
    "np = model_tools.np\n",
    "exp_grid = model_tools.exp_grid\n",
    "make_matrix = model_tools.make_matrix\n",
    "make_grid = model_tools.make_grid\n",
    "set_base_pars = model_tools.set_base_pars"
   ]
  },
  {
   "cell_type": "code",
   "execution_count": 5,
   "id": "9ad1533b",
   "metadata": {},
   "outputs": [],
   "source": [
    "#rand_seeds = [[24, 24]] + [[random.randrange(10**5), random.randrange(10**5)] for i in range(30) ]   # for 31 runs"
   ]
  },
  {
   "cell_type": "code",
   "execution_count": 6,
   "id": "b34852dc",
   "metadata": {},
   "outputs": [],
   "source": [
    "rand_seeds = [[24, 24],\n",
    " [54369, 28859],\n",
    " [15584, 3908],\n",
    " [96080, 78869],\n",
    " [96917, 86267],\n",
    " [18165, 7192],\n",
    " [38416, 49765],\n",
    " [92278, 86824],\n",
    " [57964, 33407],\n",
    " [5189, 20391],\n",
    " [27137, 61335],\n",
    " [9775, 30765],\n",
    " [31455, 59772],\n",
    " [65968, 54754],\n",
    " [50863, 67854],\n",
    " [97478, 67886],\n",
    " [55345, 88123],\n",
    " [89208, 60365],\n",
    " [22288, 66824],\n",
    " [84694, 39366],\n",
    " [7962, 95043],\n",
    " [82299, 25514],\n",
    " [86899, 82606],\n",
    " [15379, 90218],\n",
    " [29085, 98904],\n",
    " [31432, 29754],\n",
    " [95068, 79919],\n",
    " [3946, 99762],\n",
    " [6746, 22011],\n",
    " [16739, 27246],\n",
    " [66794, 58252]]"
   ]
  },
  {
   "cell_type": "code",
   "execution_count": null,
   "id": "a123e17d",
   "metadata": {},
   "outputs": [],
   "source": []
  },
  {
   "cell_type": "markdown",
   "id": "d889843c",
   "metadata": {},
   "source": [
    "# large 1C"
   ]
  },
  {
   "cell_type": "code",
   "execution_count": 8,
   "id": "6267e0a4",
   "metadata": {},
   "outputs": [],
   "source": [
    "set_base_pars([10000])   \n",
    "\n",
    "\n",
    "grid = [ ([12]*model_tools.no_countries ,[0.05]*model_tools.no_countries),   # baseline\n",
    "       ([8]*model_tools.no_countries ,[0.08]*model_tools.no_countries)     # alt 1\n",
    "       ]                                   "
   ]
  },
  {
   "cell_type": "code",
   "execution_count": 10,
   "id": "d0377e2c",
   "metadata": {
    "scrolled": true
   },
   "outputs": [
    {
     "name": "stdout",
     "output_type": "stream",
     "text": [
      "start of exp_grid: 1C_final_large\n"
     ]
    },
    {
     "name": "stderr",
     "output_type": "stream",
     "text": [
      "C:\\Users\\am\\model_tools.py:1909: RuntimeWarning: invalid value encountered in true_divide\n",
      "  results.append(list(multiply*s1/s2))\n",
      "C:\\Users\\am\\model_tools.py:1887: RuntimeWarning: invalid value encountered in true_divide\n",
      "  results.append(list(diff/s1))\n",
      "C:\\Users\\am\\model_tools.py:1909: RuntimeWarning: divide by zero encountered in true_divide\n",
      "  results.append(list(multiply*s1/s2))\n",
      "C:\\Users\\am\\model_tools.py:2221: PerformanceWarning: \n",
      "your performance may suffer as PyTables will pickle object types that it cannot\n",
      "map directly to c-types [inferred_type->mixed,key->block0_values] [items->Index(['employment', 'wages', 'working_wages', 'vol_unemployed', 'months_u',\n",
      "       'unemployed_months_u', 'hsh_sentiment', 'hsh_income', 'savings_T',\n",
      "       'budget', 'cons', 'cons_value', 'forced_savings', 'hsh_deposits',\n",
      "       'prices', 'offered_wages', 'production', 'production_value',\n",
      "       'labor_demand', 'labor', 'job_offers', 'vacancies', 'inventories',\n",
      "       'sales', 'sales_value', 'sales_costs', 'firm_assets',\n",
      "       'firm_capital_target', 'firm_capital', 'firm_dividends',\n",
      "       'firm_sentiment', 'firm_deposits', 'loans', 'bank_capital',\n",
      "       'bank_deposit', 'deposits', 'doubtful_loans', 'doubtful_ratio',\n",
      "       'bankruptcies', 'bank_dividend', 'spec_no_of_firms', 'spec_exch_rates',\n",
      "       'spec_natural_exch_rates', 'spec_export_details', 'spec_import_details',\n",
      "       'spec_trade_balances', 'spec_bank_accounts', 'spec_trade_fees'],\n",
      "      dtype='object')]\n",
      "\n",
      "  aa.export_data(note = note, hdf = hdf, csv = csv)\n",
      "C:\\Users\\am\\model_tools.py:2221: PerformanceWarning: \n",
      "your performance may suffer as PyTables will pickle object types that it cannot\n",
      "map directly to c-types [inferred_type->mixed,key->block0_values] [items->Index(['inventories_y', 'unemployment_m', 'unemployment_y',\n",
      "       'vol_unemployed_rate_m', 'vol_unemployed_rate_y', 'price_level_m',\n",
      "       'inflation_m', 'sales_y', 'sales_value_y', 'price_level_y',\n",
      "       'inflation_y', 'vacancy_rates_m', 'vacancies_y', 'labor_demand_y',\n",
      "       'vacancy_rates_y', 'capital_adequacy_ratio_m', 'gross_profits_m',\n",
      "       'total_income_m', 'wage_share_m', 'profits_share_m', 'gross_profits_y',\n",
      "       'total_income_y', 'wages_y', 'wage_share_y', 'profits_share_y',\n",
      "       'mean_real_profits_m', 'mean_real_profits_y', 'mark_ups_m',\n",
      "       'mark_ups_y', 'bankruptcies_y', 'bankruptcy_rate_y',\n",
      "       'capacity_utilization_m', 'capacity_utilization_y', 'mean_real_wage_m',\n",
      "       'median_real_wage_m', 'mean_real_wage_y', 'self_financing_ratio_m',\n",
      "       'targeted_debt_ratio_m', 'targeted_debt_m', 'mean_targeted_debt_m',\n",
      "       'excessive_debt_rate_m', 'hoarding_m', 'unemployment_duration_y',\n",
      "       'money_velocity_y', 'cons_y', 'mean_cons_y', 'cons_value_y',\n",
      "       'mean_cons_value_y', 'forced_savings_rate_m', 'forced_savings_rate_y',\n",
      "       'total_trade_balances_m', 'total_exports_m', 'total_imports_m',\n",
      "       'total_export_rates_m', 'total_import_rates_m',\n",
      "       'detailed_export_rates_m', 'detailed_import_rates_m',\n",
      "       'total_trade_balances_y', 'total_exports_y', 'total_imports_y',\n",
      "       'total_export_rates_y', 'total_import_rates_y', 'bank_bankruptcies'],\n",
      "      dtype='object')]\n",
      "\n",
      "  aa.export_data(note = note, hdf = hdf, csv = csv)\n",
      "C:\\Users\\am\\model_tools.py:1909: RuntimeWarning: invalid value encountered in true_divide\n",
      "  results.append(list(multiply*s1/s2))\n",
      "C:\\Users\\am\\model_tools.py:1887: RuntimeWarning: invalid value encountered in true_divide\n",
      "  results.append(list(diff/s1))\n",
      "C:\\Users\\am\\model_tools.py:1909: RuntimeWarning: divide by zero encountered in true_divide\n",
      "  results.append(list(multiply*s1/s2))\n"
     ]
    },
    {
     "name": "stdout",
     "output_type": "stream",
     "text": [
      "experiment 0 is finished\n",
      "experiment 1 is finished\n",
      "end of exp_grid: 1C_final_large\n"
     ]
    }
   ],
   "source": [
    "exp_grid( grid , [\"wage_resist\", \"wage_flex\"],  \n",
    "         rand_seeds, 1500, \"1C_final_large\", csv = False)"
   ]
  },
  {
   "cell_type": "code",
   "execution_count": null,
   "id": "cf004911",
   "metadata": {},
   "outputs": [],
   "source": []
  },
  {
   "cell_type": "markdown",
   "id": "aacc4d58",
   "metadata": {},
   "source": [
    "# 1C price flexibility experiments"
   ]
  },
  {
   "cell_type": "code",
   "execution_count": 11,
   "id": "a5b08fed",
   "metadata": {},
   "outputs": [],
   "source": [
    "set_base_pars([5000])   \n",
    "\n",
    "#        in baseline  price_flex = 0.05     \n",
    "grid = [ ([0.02] ),   # lower price flex\n",
    "       ([0.8]),      # higher price flex\n",
    "       ([0.24])]     # very high price flex"
   ]
  },
  {
   "cell_type": "code",
   "execution_count": 12,
   "id": "fc5b4512",
   "metadata": {},
   "outputs": [
    {
     "name": "stdout",
     "output_type": "stream",
     "text": [
      "start of exp_grid: 1C_final_price_exp\n"
     ]
    },
    {
     "name": "stderr",
     "output_type": "stream",
     "text": [
      "C:\\Users\\am\\AppData\\Roaming\\Python\\Python38\\site-packages\\numpy\\core\\fromnumeric.py:3334: RuntimeWarning: Mean of empty slice.\n",
      "  return _methods._mean(a, axis=axis, dtype=dtype,\n",
      "C:\\Users\\am\\AppData\\Roaming\\Python\\Python38\\site-packages\\numpy\\core\\_methods.py:161: RuntimeWarning: invalid value encountered in double_scalars\n",
      "  ret = ret.dtype.type(ret / rcount)\n"
     ]
    },
    {
     "name": "stdout",
     "output_type": "stream",
     "text": [
      "experiment 0 is finished\n",
      "experiment 1 is finished\n",
      "experiment 2 is finished\n",
      "end of exp_grid: 1C_final_price_exp\n"
     ]
    }
   ],
   "source": [
    "exp_grid( grid , [\"price_flex\"],  \n",
    "         rand_seeds, 1500, \"1C_final_price_exp\", csv = False)"
   ]
  },
  {
   "cell_type": "code",
   "execution_count": null,
   "id": "1c0e5917",
   "metadata": {},
   "outputs": [],
   "source": []
  },
  {
   "cell_type": "code",
   "execution_count": null,
   "id": "713693c2",
   "metadata": {},
   "outputs": [],
   "source": []
  },
  {
   "cell_type": "markdown",
   "id": "a549d09a",
   "metadata": {},
   "source": [
    "# MM base-base price flexibility experiments"
   ]
  },
  {
   "cell_type": "code",
   "execution_count": null,
   "id": "b67566d9",
   "metadata": {},
   "outputs": [],
   "source": [
    "set_base_pars([5000,5000])   \n",
    "\n",
    "#        in baseline  price_flex = 0.05     \n",
    "grid = [ ([0.02] ),   # lower price flex\n",
    "       ([0.8]),      # higher price flex\n",
    "       ([0.24])]     # very high price flex"
   ]
  },
  {
   "cell_type": "code",
   "execution_count": null,
   "id": "d1226d56",
   "metadata": {},
   "outputs": [],
   "source": [
    "exp_grid( grid , [\"price_flex\"],  \n",
    "         rand_seeds, 1500, \"BB_final_price_exp\", csv = False)"
   ]
  },
  {
   "cell_type": "code",
   "execution_count": null,
   "id": "4b14fafb",
   "metadata": {},
   "outputs": [],
   "source": []
  },
  {
   "cell_type": "markdown",
   "id": "401e7651",
   "metadata": {},
   "source": [
    "# animal spirits experiments"
   ]
  },
  {
   "cell_type": "code",
   "execution_count": 9,
   "id": "f33585b2",
   "metadata": {},
   "outputs": [],
   "source": [
    "set_base_pars([5000,5000])   \n",
    "\n",
    "#        in baseline  p = 0.7  , p2 = 0.7    \n",
    "grid = [ ([0.5] )]     # weaker firm animal spirits"
   ]
  },
  {
   "cell_type": "code",
   "execution_count": 10,
   "id": "c48e02fd",
   "metadata": {
    "scrolled": true
   },
   "outputs": [
    {
     "name": "stdout",
     "output_type": "stream",
     "text": [
      "start of exp_grid: BB_final_weak_anim_spirits\n"
     ]
    },
    {
     "name": "stderr",
     "output_type": "stream",
     "text": [
      "C:\\Users\\am\\model_tools.py:1909: RuntimeWarning: invalid value encountered in true_divide\n",
      "  results.append(list(multiply*s1/s2))\n",
      "C:\\Users\\am\\model_tools.py:1887: RuntimeWarning: invalid value encountered in true_divide\n",
      "  results.append(list(diff/s1))\n",
      "C:\\Users\\am\\model_tools.py:1909: RuntimeWarning: divide by zero encountered in true_divide\n",
      "  results.append(list(multiply*s1/s2))\n",
      "C:\\Users\\am\\model_tools.py:2221: PerformanceWarning: \n",
      "your performance may suffer as PyTables will pickle object types that it cannot\n",
      "map directly to c-types [inferred_type->mixed,key->block0_values] [items->Index(['employment', 'wages', 'working_wages', 'vol_unemployed', 'months_u',\n",
      "       'unemployed_months_u', 'hsh_sentiment', 'hsh_income', 'savings_T',\n",
      "       'budget', 'cons', 'cons_value', 'forced_savings', 'hsh_deposits',\n",
      "       'prices', 'offered_wages', 'production', 'production_value',\n",
      "       'labor_demand', 'labor', 'job_offers', 'vacancies', 'inventories',\n",
      "       'sales', 'sales_value', 'sales_costs', 'firm_assets',\n",
      "       'firm_capital_target', 'firm_capital', 'firm_dividends',\n",
      "       'firm_sentiment', 'firm_deposits', 'loans', 'bank_capital',\n",
      "       'bank_deposit', 'deposits', 'doubtful_loans', 'doubtful_ratio',\n",
      "       'bankruptcies', 'bank_dividend', 'spec_no_of_firms', 'spec_exch_rates',\n",
      "       'spec_natural_exch_rates', 'spec_export_details', 'spec_import_details',\n",
      "       'spec_trade_balances', 'spec_bank_accounts', 'spec_trade_fees'],\n",
      "      dtype='object')]\n",
      "\n",
      "  aa.export_data(note = note, hdf = hdf, csv = csv)\n",
      "C:\\Users\\am\\model_tools.py:2221: PerformanceWarning: \n",
      "your performance may suffer as PyTables will pickle object types that it cannot\n",
      "map directly to c-types [inferred_type->mixed,key->block0_values] [items->Index(['inventories_y', 'unemployment_m', 'unemployment_y',\n",
      "       'vol_unemployed_rate_m', 'vol_unemployed_rate_y', 'price_level_m',\n",
      "       'inflation_m', 'sales_y', 'sales_value_y', 'price_level_y',\n",
      "       'inflation_y', 'vacancy_rates_m', 'vacancies_y', 'labor_demand_y',\n",
      "       'vacancy_rates_y', 'capital_adequacy_ratio_m', 'gross_profits_m',\n",
      "       'total_income_m', 'wage_share_m', 'profits_share_m', 'gross_profits_y',\n",
      "       'total_income_y', 'wages_y', 'wage_share_y', 'profits_share_y',\n",
      "       'mean_real_profits_m', 'mean_real_profits_y', 'mark_ups_m',\n",
      "       'mark_ups_y', 'bankruptcies_y', 'bankruptcy_rate_y',\n",
      "       'capacity_utilization_m', 'capacity_utilization_y', 'mean_real_wage_m',\n",
      "       'median_real_wage_m', 'mean_real_wage_y', 'self_financing_ratio_m',\n",
      "       'targeted_debt_ratio_m', 'targeted_debt_m', 'mean_targeted_debt_m',\n",
      "       'excessive_debt_rate_m', 'hoarding_m', 'unemployment_duration_y',\n",
      "       'money_velocity_y', 'cons_y', 'mean_cons_y', 'cons_value_y',\n",
      "       'mean_cons_value_y', 'forced_savings_rate_m', 'forced_savings_rate_y',\n",
      "       'total_trade_balances_m', 'total_exports_m', 'total_imports_m',\n",
      "       'total_export_rates_m', 'total_import_rates_m',\n",
      "       'detailed_export_rates_m', 'detailed_import_rates_m',\n",
      "       'total_trade_balances_y', 'total_exports_y', 'total_imports_y',\n",
      "       'total_export_rates_y', 'total_import_rates_y', 'bank_bankruptcies'],\n",
      "      dtype='object')]\n",
      "\n",
      "  aa.export_data(note = note, hdf = hdf, csv = csv)\n",
      "C:\\Users\\am\\model_tools.py:1909: RuntimeWarning: invalid value encountered in true_divide\n",
      "  results.append(list(multiply*s1/s2))\n",
      "C:\\Users\\am\\model_tools.py:1887: RuntimeWarning: invalid value encountered in true_divide\n",
      "  results.append(list(diff/s1))\n",
      "C:\\Users\\am\\model_tools.py:1909: RuntimeWarning: divide by zero encountered in true_divide\n",
      "  results.append(list(multiply*s1/s2))\n",
      "C:\\Users\\am\\AppData\\Roaming\\Python\\Python38\\site-packages\\numpy\\core\\fromnumeric.py:3334: RuntimeWarning: Mean of empty slice.\n",
      "  return _methods._mean(a, axis=axis, dtype=dtype,\n",
      "C:\\Users\\am\\AppData\\Roaming\\Python\\Python38\\site-packages\\numpy\\core\\_methods.py:161: RuntimeWarning: invalid value encountered in double_scalars\n",
      "  ret = ret.dtype.type(ret / rcount)\n"
     ]
    },
    {
     "name": "stdout",
     "output_type": "stream",
     "text": [
      "experiment 0 is finished\n",
      "end of exp_grid: BB_final_weak_anim_spirits\n"
     ]
    }
   ],
   "source": [
    "exp_grid( grid , [\"p\"],  \n",
    "         rand_seeds[:10], 1500, \"BB_final_weak_anim_spirits\", csv = False)"
   ]
  },
  {
   "cell_type": "code",
   "execution_count": null,
   "id": "93ec9556",
   "metadata": {},
   "outputs": [],
   "source": []
  },
  {
   "cell_type": "code",
   "execution_count": 11,
   "id": "d35a0d05",
   "metadata": {},
   "outputs": [],
   "source": [
    "set_base_pars([8000,2000])   \n",
    "\n",
    "#        in baseline  p = 0.7  , p2 = 0.7    \n",
    "grid = [ ([0.5] )]     # weaker firm animal spirits"
   ]
  },
  {
   "cell_type": "code",
   "execution_count": 12,
   "id": "b0379a52",
   "metadata": {},
   "outputs": [
    {
     "name": "stdout",
     "output_type": "stream",
     "text": [
      "start of exp_grid: BS_final_weak_anim_spirits\n",
      "experiment 0 is finished\n",
      "end of exp_grid: BS_final_weak_anim_spirits\n"
     ]
    }
   ],
   "source": [
    "exp_grid( grid , [\"p\"],  \n",
    "         rand_seeds[:10], 1500, \"BS_final_weak_anim_spirits\", csv = False)"
   ]
  },
  {
   "cell_type": "code",
   "execution_count": null,
   "id": "2a37301a",
   "metadata": {},
   "outputs": [],
   "source": []
  },
  {
   "cell_type": "code",
   "execution_count": null,
   "id": "f69a62a3",
   "metadata": {},
   "outputs": [],
   "source": []
  },
  {
   "cell_type": "code",
   "execution_count": null,
   "id": "b9f68c87",
   "metadata": {},
   "outputs": [],
   "source": [
    "set_base_pars([5000,5000])   \n",
    "\n",
    "#        in baseline  p = 0.7  , p2 = 0.7    \n",
    "grid = [ ([0,0])]     # no animal spirits"
   ]
  },
  {
   "cell_type": "code",
   "execution_count": null,
   "id": "cf5db478",
   "metadata": {},
   "outputs": [],
   "source": [
    "exp_grid( grid , [\"p\", \"p2\"],  \n",
    "         rand_seeds[:10], 1500, \"BB_final_no_anim_spirits\", csv = False)"
   ]
  },
  {
   "cell_type": "code",
   "execution_count": null,
   "id": "5d829e2a",
   "metadata": {},
   "outputs": [],
   "source": []
  },
  {
   "cell_type": "code",
   "execution_count": null,
   "id": "1c7c775d",
   "metadata": {},
   "outputs": [],
   "source": [
    "set_base_pars([8000,2000])   \n",
    "\n",
    "#        in baseline  p = 0.7  , p2 = 0.7    \n",
    "grid = [ ([0,0])]     # no animal spirits"
   ]
  },
  {
   "cell_type": "code",
   "execution_count": null,
   "id": "0ded7fea",
   "metadata": {},
   "outputs": [],
   "source": [
    "exp_grid( grid , [\"p\", \"p2\"],  \n",
    "         rand_seeds[:10], 1500, \"BS_final_no_anim_spirits\", csv = False)"
   ]
  },
  {
   "cell_type": "code",
   "execution_count": null,
   "id": "6391730a",
   "metadata": {},
   "outputs": [],
   "source": []
  }
 ],
 "metadata": {
  "kernelspec": {
   "display_name": "Python 3",
   "language": "python",
   "name": "python3"
  },
  "language_info": {
   "codemirror_mode": {
    "name": "ipython",
    "version": 3
   },
   "file_extension": ".py",
   "mimetype": "text/x-python",
   "name": "python",
   "nbconvert_exporter": "python",
   "pygments_lexer": "ipython3",
   "version": "3.8.8"
  }
 },
 "nbformat": 4,
 "nbformat_minor": 5
}
