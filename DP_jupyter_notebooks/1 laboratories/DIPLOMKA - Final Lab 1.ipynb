{
 "cells": [
  {
   "cell_type": "markdown",
   "metadata": {},
   "source": [
    "# Final Lab 1 - BB"
   ]
  },
  {
   "cell_type": "markdown",
   "metadata": {},
   "source": [
    "<div id=\"toc\"></div>"
   ]
  },
  {
   "cell_type": "code",
   "execution_count": 18,
   "metadata": {},
   "outputs": [
    {
     "data": {
      "application/javascript": [
       "$.getScript('https://kmahelona.github.io/ipython_notebook_goodies/ipython_notebook_toc.js')\n",
       "// https://github.com/kmahelona/ipython_notebook_goodies          ...interactive table of contents\n"
      ],
      "text/plain": [
       "<IPython.core.display.Javascript object>"
      ]
     },
     "metadata": {},
     "output_type": "display_data"
    }
   ],
   "source": [
    "%%javascript\n",
    "$.getScript('https://kmahelona.github.io/ipython_notebook_goodies/ipython_notebook_toc.js')\n",
    "// https://github.com/kmahelona/ipython_notebook_goodies          ...interactive table of contents"
   ]
  },
  {
   "cell_type": "code",
   "execution_count": 19,
   "metadata": {
    "scrolled": true
   },
   "outputs": [
    {
     "name": "stdout",
     "output_type": "stream",
     "text": [
      "d:\\moje_dokumenty\\Desktop\\diplomka\\model\\data\\hdf_final\n"
     ]
    }
   ],
   "source": [
    "%cd \"d:\\moje_dokumenty\\Desktop\\diplomka\\model\\data\\hdf_final\\\" "
   ]
  },
  {
   "cell_type": "code",
   "execution_count": 20,
   "metadata": {},
   "outputs": [],
   "source": [
    "import model_tools "
   ]
  },
  {
   "cell_type": "code",
   "execution_count": 21,
   "metadata": {},
   "outputs": [],
   "source": [
    "Sim = model_tools.Simulation\n",
    "experiment = model_tools.experiment\n",
    "random = model_tools.random\n",
    "np = model_tools.np\n",
    "exp_grid = model_tools.exp_grid\n",
    "make_matrix = model_tools.make_matrix\n",
    "make_grid = model_tools.make_grid\n",
    "set_base_pars = model_tools.set_base_pars"
   ]
  },
  {
   "cell_type": "code",
   "execution_count": 22,
   "metadata": {},
   "outputs": [],
   "source": [
    "#rand_seeds = [[24, 24]] + [[random.randrange(10**5), random.randrange(10**5)] for i in range(30) ]   # for 31 runs"
   ]
  },
  {
   "cell_type": "code",
   "execution_count": 23,
   "metadata": {},
   "outputs": [],
   "source": [
    "rand_seeds = [[24, 24],\n",
    " [54369, 28859],\n",
    " [15584, 3908],\n",
    " [96080, 78869],\n",
    " [96917, 86267],\n",
    " [18165, 7192],\n",
    " [38416, 49765],\n",
    " [92278, 86824],\n",
    " [57964, 33407],\n",
    " [5189, 20391],\n",
    " [27137, 61335],\n",
    " [9775, 30765],\n",
    " [31455, 59772],\n",
    " [65968, 54754],\n",
    " [50863, 67854],\n",
    " [97478, 67886],\n",
    " [55345, 88123],\n",
    " [89208, 60365],\n",
    " [22288, 66824],\n",
    " [84694, 39366],\n",
    " [7962, 95043],\n",
    " [82299, 25514],\n",
    " [86899, 82606],\n",
    " [15379, 90218],\n",
    " [29085, 98904],\n",
    " [31432, 29754],\n",
    " [95068, 79919],\n",
    " [3946, 99762],\n",
    " [6746, 22011],\n",
    " [16739, 27246],\n",
    " [66794, 58252]]"
   ]
  },
  {
   "cell_type": "code",
   "execution_count": 24,
   "metadata": {},
   "outputs": [],
   "source": [
    "#rand_seeds2 = [[random.randrange(10**5), random.randrange(10**5)] for i in range(30) ] "
   ]
  },
  {
   "cell_type": "code",
   "execution_count": 25,
   "metadata": {},
   "outputs": [],
   "source": [
    "rand_seeds2 = [[48893, 95278],\n",
    " [26314, 21957],\n",
    " [92578, 25803],\n",
    " [46703, 27201],\n",
    " [12487, 96329],\n",
    " [84270, 73903],\n",
    " [13297, 5255],\n",
    " [50786, 24209],\n",
    " [74780, 4618],\n",
    " [82725, 57949],\n",
    " [79900, 32908],\n",
    " [58589, 95467],\n",
    " [26132, 4129],\n",
    " [5426, 8567],\n",
    " [25086, 65313],\n",
    " [96120, 89559],\n",
    " [79423, 68721],\n",
    " [73063, 1439],\n",
    " [25289, 48750],\n",
    " [22716, 48578],\n",
    " [84727, 32148],\n",
    " [98301, 18601],\n",
    " [29971, 47002],\n",
    " [42084, 56274],\n",
    " [77420, 51931],\n",
    " [58000, 47773],\n",
    " [92046, 31066],\n",
    " [48144, 61018],\n",
    " [34453, 78253],\n",
    " [40329, 92087]]"
   ]
  },
  {
   "cell_type": "code",
   "execution_count": 26,
   "metadata": {},
   "outputs": [],
   "source": [
    "#rand_seeds3 = [[random.randrange(10**5), random.randrange(10**5)] for i in range(40) ] "
   ]
  },
  {
   "cell_type": "code",
   "execution_count": 27,
   "metadata": {},
   "outputs": [],
   "source": [
    "rand_seeds3 = [[31466, 55146],\n",
    " [25798, 62078],\n",
    " [11329, 68470],\n",
    " [72154, 17665],\n",
    " [54229, 74096],\n",
    " [62921, 44445],\n",
    " [45906, 88953],\n",
    " [59972, 67458],\n",
    " [20644, 96612],\n",
    " [88266, 69978],\n",
    " [61830, 50012],\n",
    " [86399, 23218],\n",
    " [28885, 20850],\n",
    " [68449, 76232],\n",
    " [41016, 35236],\n",
    " [16344, 1228],\n",
    " [87356, 79065],\n",
    " [56974, 77621],\n",
    " [93454, 25903],\n",
    " [25575, 96515],\n",
    " [50253, 27540],\n",
    " [90667, 23695],\n",
    " [27082, 73027],\n",
    " [84544, 86881],\n",
    " [93327, 27482],\n",
    " [39598, 99004],\n",
    " [26336, 19788],\n",
    " [43957, 41297],\n",
    " [12201, 96435],\n",
    " [94566, 19036],\n",
    " [85604, 86459],\n",
    " [25122, 40528],\n",
    " [4362, 68632],\n",
    " [9168, 31451],\n",
    " [63796, 43067],\n",
    " [58375, 10554],\n",
    " [81729, 65040],\n",
    " [3446, 24674],\n",
    " [49551, 65401],\n",
    " [11834, 7548]]"
   ]
  },
  {
   "cell_type": "code",
   "execution_count": 28,
   "metadata": {},
   "outputs": [],
   "source": [
    "chosen_seeds = [[96917, 86267],\n",
    " [15584, 3908],\n",
    " [57964, 33407],\n",
    " [38416, 49765],\n",
    " [96080, 78869],\n",
    " [54369, 28859],\n",
    " [24, 24],\n",
    " [18165, 7192],\n",
    " [5189, 20391],\n",
    " [92278, 86824]]"
   ]
  },
  {
   "cell_type": "markdown",
   "metadata": {},
   "source": [
    "# baseline"
   ]
  },
  {
   "cell_type": "code",
   "execution_count": 12,
   "metadata": {},
   "outputs": [],
   "source": [
    "set_base_pars([5000,5000])   \n",
    "\n",
    "\n",
    "grid = [ ([12]*model_tools.no_countries ,[0.05]*model_tools.no_countries),   # baseline\n",
    "       ([8]*model_tools.no_countries ,[0.08]*model_tools.no_countries),      # alt 1\n",
    "       ([12, 8]   ,[0.05, 0.08] ),                                           # base - alt 1\n",
    "       ([12, 8]   ,[0.05, 0.25] )]                                           # base - alt 2"
   ]
  },
  {
   "cell_type": "markdown",
   "metadata": {},
   "source": [
    "## baseline free trade"
   ]
  },
  {
   "cell_type": "code",
   "execution_count": 22,
   "metadata": {},
   "outputs": [
    {
     "data": {
      "text/plain": [
       "True"
      ]
     },
     "execution_count": 22,
     "metadata": {},
     "output_type": "execute_result"
    }
   ],
   "source": [
    "model_tools.free_market = True\n",
    "\"free_market\" in model_tools.parameters()"
   ]
  },
  {
   "cell_type": "code",
   "execution_count": 24,
   "metadata": {
    "scrolled": true
   },
   "outputs": [
    {
     "name": "stdout",
     "output_type": "stream",
     "text": [
      "start of exp_grid: BB_final_base_free\n"
     ]
    },
    {
     "name": "stderr",
     "output_type": "stream",
     "text": [
      "C:\\Users\\am\\model_tools.py:1862: RuntimeWarning: invalid value encountered in true_divide\n",
      "  results.append(list(multiply*s1/s2))\n",
      "C:\\Users\\am\\model_tools.py:1842: RuntimeWarning: invalid value encountered in true_divide\n",
      "  results.append(list(diff/s1))\n",
      "C:\\Users\\am\\model_tools.py:1862: RuntimeWarning: divide by zero encountered in true_divide\n",
      "  results.append(list(multiply*s1/s2))\n",
      "C:\\Users\\am\\model_tools.py:2149: PerformanceWarning: \n",
      "your performance may suffer as PyTables will pickle object types that it cannot\n",
      "map directly to c-types [inferred_type->mixed,key->block0_values] [items->Index(['employment', 'wages', 'working_wages', 'vol_unemployed', 'months_u',\n",
      "       'unemployed_months_u', 'hsh_sentiment', 'hsh_income', 'savings_T',\n",
      "       'budget', 'cons', 'cons_value', 'forced_savings', 'hsh_deposits',\n",
      "       'prices', 'offered_wages', 'production', 'production_value',\n",
      "       'labor_demand', 'labor', 'job_offers', 'vacancies', 'inventories',\n",
      "       'sales', 'sales_value', 'sales_costs', 'firm_assets',\n",
      "       'firm_capital_target', 'firm_capital', 'firm_dividends',\n",
      "       'firm_sentiment', 'firm_deposits', 'loans', 'bank_capital',\n",
      "       'bank_deposit', 'deposits', 'doubtful_loans', 'doubtful_ratio',\n",
      "       'bankruptcies', 'bank_dividend', 'spec_no_of_firms', 'spec_exch_rates',\n",
      "       'spec_natural_exch_rates', 'spec_export_details', 'spec_import_details',\n",
      "       'spec_trade_balances', 'spec_bank_accounts', 'spec_trade_fees'],\n",
      "      dtype='object')]\n",
      "\n",
      "  aa.export_data(note = note, hdf = hdf, csv = csv)\n",
      "C:\\Users\\am\\model_tools.py:2149: PerformanceWarning: \n",
      "your performance may suffer as PyTables will pickle object types that it cannot\n",
      "map directly to c-types [inferred_type->mixed,key->block0_values] [items->Index(['inventories_y', 'unemployment_m', 'unemployment_y',\n",
      "       'vol_unemployed_rate_m', 'vol_unemployed_rate_y', 'price_level_m',\n",
      "       'inflation_m', 'sales_y', 'sales_value_y', 'price_level_y',\n",
      "       'inflation_y', 'vacancy_rates_m', 'vacancies_y', 'labor_demand_y',\n",
      "       'vacancy_rates_y', 'capital_adequacy_ratio_m', 'gross_profits_m',\n",
      "       'total_income_m', 'wage_share_m', 'profits_share_m', 'gross_profits_y',\n",
      "       'total_income_y', 'wages_y', 'wage_share_y', 'profits_share_y',\n",
      "       'mean_real_profits_m', 'mean_real_profits_y', 'mark_ups_m',\n",
      "       'mark_ups_y', 'bankruptcies_y', 'bankruptcy_rate_y',\n",
      "       'capacity_utilization_m', 'capacity_utilization_y', 'mean_real_wage_m',\n",
      "       'median_real_wage_m', 'mean_real_wage_y', 'self_financing_ratio_m',\n",
      "       'targeted_debt_ratio_m', 'targeted_debt_m', 'mean_targeted_debt_m',\n",
      "       'excessive_debt_rate_m', 'hoarding_m', 'unemployment_duration_y',\n",
      "       'money_velocity_y', 'cons_y', 'mean_cons_y', 'cons_value_y',\n",
      "       'mean_cons_value_y', 'forced_savings_rate_m', 'forced_savings_rate_y',\n",
      "       'total_trade_balances_m', 'total_exports_m', 'total_imports_m',\n",
      "       'total_export_rates_m', 'total_import_rates_m',\n",
      "       'detailed_export_rates_m', 'detailed_import_rates_m',\n",
      "       'total_trade_balances_y', 'total_exports_y', 'total_imports_y',\n",
      "       'total_export_rates_y', 'total_import_rates_y', 'bank_bankruptcies'],\n",
      "      dtype='object')]\n",
      "\n",
      "  aa.export_data(note = note, hdf = hdf, csv = csv)\n",
      "C:\\Users\\am\\model_tools.py:1862: RuntimeWarning: invalid value encountered in true_divide\n",
      "  results.append(list(multiply*s1/s2))\n",
      "C:\\Users\\am\\model_tools.py:1842: RuntimeWarning: invalid value encountered in true_divide\n",
      "  results.append(list(diff/s1))\n",
      "C:\\Users\\am\\model_tools.py:1862: RuntimeWarning: divide by zero encountered in true_divide\n",
      "  results.append(list(multiply*s1/s2))\n",
      "C:\\Users\\am\\AppData\\Roaming\\Python\\Python38\\site-packages\\numpy\\core\\fromnumeric.py:3334: RuntimeWarning: Mean of empty slice.\n",
      "  return _methods._mean(a, axis=axis, dtype=dtype,\n",
      "C:\\Users\\am\\AppData\\Roaming\\Python\\Python38\\site-packages\\numpy\\core\\_methods.py:161: RuntimeWarning: invalid value encountered in double_scalars\n",
      "  ret = ret.dtype.type(ret / rcount)\n"
     ]
    },
    {
     "name": "stdout",
     "output_type": "stream",
     "text": [
      "experiment 0 is finished\n",
      "experiment 1 is finished\n",
      "experiment 2 is finished\n",
      "experiment 3 is finished\n",
      "end of exp_grid: BB_final_base_free\n"
     ]
    }
   ],
   "source": [
    "exp_grid( grid , [\"wage_resist\", \"wage_flex\"],  \n",
    "         rand_seeds2, 1500, \"BB_final_base_free\", csv = False)"
   ]
  },
  {
   "cell_type": "code",
   "execution_count": null,
   "metadata": {},
   "outputs": [],
   "source": []
  },
  {
   "cell_type": "code",
   "execution_count": 24,
   "metadata": {
    "scrolled": true
   },
   "outputs": [
    {
     "name": "stdout",
     "output_type": "stream",
     "text": [
      "start of exp_grid: BB_final_base_free\n"
     ]
    },
    {
     "name": "stderr",
     "output_type": "stream",
     "text": [
      "C:\\Users\\am\\AppData\\Roaming\\Python\\Python38\\site-packages\\numpy\\core\\fromnumeric.py:3334: RuntimeWarning: Mean of empty slice.\n",
      "  return _methods._mean(a, axis=axis, dtype=dtype,\n",
      "C:\\Users\\am\\AppData\\Roaming\\Python\\Python38\\site-packages\\numpy\\core\\_methods.py:161: RuntimeWarning: invalid value encountered in double_scalars\n",
      "  ret = ret.dtype.type(ret / rcount)\n",
      "C:\\Users\\am\\model_tools.py:1863: RuntimeWarning: invalid value encountered in true_divide\n",
      "  results.append(list(multiply*s1/s2))\n",
      "C:\\Users\\am\\model_tools.py:1843: RuntimeWarning: invalid value encountered in true_divide\n",
      "  results.append(list(diff/s1))\n",
      "C:\\Users\\am\\model_tools.py:1863: RuntimeWarning: divide by zero encountered in true_divide\n",
      "  results.append(list(multiply*s1/s2))\n",
      "C:\\Users\\am\\model_tools.py:2162: PerformanceWarning: \n",
      "your performance may suffer as PyTables will pickle object types that it cannot\n",
      "map directly to c-types [inferred_type->mixed,key->block0_values] [items->Index(['employment', 'wages', 'working_wages', 'vol_unemployed', 'months_u',\n",
      "       'unemployed_months_u', 'hsh_sentiment', 'hsh_income', 'savings_T',\n",
      "       'budget', 'cons', 'cons_value', 'forced_savings', 'hsh_deposits',\n",
      "       'prices', 'offered_wages', 'production', 'production_value',\n",
      "       'labor_demand', 'labor', 'job_offers', 'vacancies', 'inventories',\n",
      "       'sales', 'sales_value', 'sales_costs', 'firm_assets',\n",
      "       'firm_capital_target', 'firm_capital', 'firm_dividends',\n",
      "       'firm_sentiment', 'firm_deposits', 'loans', 'bank_capital',\n",
      "       'bank_deposit', 'deposits', 'doubtful_loans', 'doubtful_ratio',\n",
      "       'bankruptcies', 'bank_dividend', 'spec_no_of_firms', 'spec_exch_rates',\n",
      "       'spec_natural_exch_rates', 'spec_export_details', 'spec_import_details',\n",
      "       'spec_trade_balances', 'spec_bank_accounts', 'spec_trade_fees'],\n",
      "      dtype='object')]\n",
      "\n",
      "  aa.export_data(note = note, hdf = hdf, csv = csv)\n",
      "C:\\Users\\am\\model_tools.py:2162: PerformanceWarning: \n",
      "your performance may suffer as PyTables will pickle object types that it cannot\n",
      "map directly to c-types [inferred_type->mixed,key->block0_values] [items->Index(['inventories_y', 'unemployment_m', 'unemployment_y',\n",
      "       'vol_unemployed_rate_m', 'vol_unemployed_rate_y', 'price_level_m',\n",
      "       'inflation_m', 'sales_y', 'sales_value_y', 'price_level_y',\n",
      "       'inflation_y', 'vacancy_rates_m', 'vacancies_y', 'labor_demand_y',\n",
      "       'vacancy_rates_y', 'capital_adequacy_ratio_m', 'gross_profits_m',\n",
      "       'total_income_m', 'wage_share_m', 'profits_share_m', 'gross_profits_y',\n",
      "       'total_income_y', 'wages_y', 'wage_share_y', 'profits_share_y',\n",
      "       'mean_real_profits_m', 'mean_real_profits_y', 'mark_ups_m',\n",
      "       'mark_ups_y', 'bankruptcies_y', 'bankruptcy_rate_y',\n",
      "       'capacity_utilization_m', 'capacity_utilization_y', 'mean_real_wage_m',\n",
      "       'median_real_wage_m', 'mean_real_wage_y', 'self_financing_ratio_m',\n",
      "       'targeted_debt_ratio_m', 'targeted_debt_m', 'mean_targeted_debt_m',\n",
      "       'excessive_debt_rate_m', 'hoarding_m', 'unemployment_duration_y',\n",
      "       'money_velocity_y', 'cons_y', 'mean_cons_y', 'cons_value_y',\n",
      "       'mean_cons_value_y', 'forced_savings_rate_m', 'forced_savings_rate_y',\n",
      "       'total_trade_balances_m', 'total_exports_m', 'total_imports_m',\n",
      "       'total_export_rates_m', 'total_import_rates_m',\n",
      "       'detailed_export_rates_m', 'detailed_import_rates_m',\n",
      "       'total_trade_balances_y', 'total_exports_y', 'total_imports_y',\n",
      "       'total_export_rates_y', 'total_import_rates_y', 'bank_bankruptcies'],\n",
      "      dtype='object')]\n",
      "\n",
      "  aa.export_data(note = note, hdf = hdf, csv = csv)\n",
      "C:\\Users\\am\\model_tools.py:1863: RuntimeWarning: invalid value encountered in true_divide\n",
      "  results.append(list(multiply*s1/s2))\n",
      "C:\\Users\\am\\model_tools.py:1843: RuntimeWarning: invalid value encountered in true_divide\n",
      "  results.append(list(diff/s1))\n",
      "C:\\Users\\am\\model_tools.py:1863: RuntimeWarning: divide by zero encountered in true_divide\n",
      "  results.append(list(multiply*s1/s2))\n",
      "C:\\Users\\am\\AppData\\Roaming\\Python\\Python38\\site-packages\\numpy\\core\\fromnumeric.py:3334: RuntimeWarning: Mean of empty slice.\n",
      "  return _methods._mean(a, axis=axis, dtype=dtype,\n",
      "C:\\Users\\am\\AppData\\Roaming\\Python\\Python38\\site-packages\\numpy\\core\\_methods.py:161: RuntimeWarning: invalid value encountered in double_scalars\n",
      "  ret = ret.dtype.type(ret / rcount)\n"
     ]
    },
    {
     "name": "stdout",
     "output_type": "stream",
     "text": [
      "experiment 0 is finished\n",
      "experiment 1 is finished\n",
      "experiment 2 is finished\n",
      "experiment 3 is finished\n",
      "end of exp_grid: BB_final_base_free\n"
     ]
    }
   ],
   "source": [
    "exp_grid( grid , [\"wage_resist\", \"wage_flex\"],  \n",
    "         rand_seeds3, 1500, \"BB_final_base_free\", csv = False)"
   ]
  },
  {
   "cell_type": "code",
   "execution_count": null,
   "metadata": {},
   "outputs": [],
   "source": []
  },
  {
   "cell_type": "code",
   "execution_count": 23,
   "metadata": {
    "scrolled": true
   },
   "outputs": [
    {
     "name": "stdout",
     "output_type": "stream",
     "text": [
      "start of exp_grid: BB_final_base_free\n"
     ]
    },
    {
     "name": "stderr",
     "output_type": "stream",
     "text": [
      "C:\\Users\\am\\AppData\\Roaming\\Python\\Python38\\site-packages\\numpy\\core\\fromnumeric.py:3334: RuntimeWarning: Mean of empty slice.\n",
      "  return _methods._mean(a, axis=axis, dtype=dtype,\n",
      "C:\\Users\\am\\AppData\\Roaming\\Python\\Python38\\site-packages\\numpy\\core\\_methods.py:161: RuntimeWarning: invalid value encountered in double_scalars\n",
      "  ret = ret.dtype.type(ret / rcount)\n",
      "C:\\Users\\am\\AppData\\Roaming\\Python\\Python38\\site-packages\\numpy\\core\\_methods.py:216: RuntimeWarning: Degrees of freedom <= 0 for slice\n",
      "  ret = _var(a, axis=axis, dtype=dtype, out=out, ddof=ddof,\n",
      "C:\\Users\\am\\AppData\\Roaming\\Python\\Python38\\site-packages\\numpy\\core\\_methods.py:185: RuntimeWarning: invalid value encountered in true_divide\n",
      "  arrmean = um.true_divide(\n",
      "C:\\Users\\am\\AppData\\Roaming\\Python\\Python38\\site-packages\\numpy\\core\\_methods.py:209: RuntimeWarning: invalid value encountered in double_scalars\n",
      "  ret = ret.dtype.type(ret / rcount)\n",
      "C:\\Users\\am\\model_tools.py:1903: RuntimeWarning: invalid value encountered in true_divide\n",
      "  results.append(list(multiply*s1/s2))\n",
      "C:\\Users\\am\\model_tools.py:1881: RuntimeWarning: invalid value encountered in true_divide\n",
      "  results.append(list(diff/s1))\n",
      "C:\\Users\\am\\model_tools.py:1903: RuntimeWarning: divide by zero encountered in true_divide\n",
      "  results.append(list(multiply*s1/s2))\n",
      "C:\\Users\\am\\model_tools.py:2215: PerformanceWarning: \n",
      "your performance may suffer as PyTables will pickle object types that it cannot\n",
      "map directly to c-types [inferred_type->mixed,key->block0_values] [items->Index(['employment', 'wages', 'working_wages', 'vol_unemployed', 'months_u',\n",
      "       'unemployed_months_u', 'hsh_sentiment', 'hsh_income', 'savings_T',\n",
      "       'budget', 'cons', 'cons_value', 'forced_savings', 'hsh_deposits',\n",
      "       'prices', 'offered_wages', 'production', 'production_value',\n",
      "       'labor_demand', 'labor', 'job_offers', 'vacancies', 'inventories',\n",
      "       'sales', 'sales_value', 'sales_costs', 'firm_assets',\n",
      "       'firm_capital_target', 'firm_capital', 'firm_dividends',\n",
      "       'firm_sentiment', 'firm_deposits', 'loans', 'exporting_firms',\n",
      "       'exporting_prices', 'exporting_received_prices', 'exporting_assets',\n",
      "       'exporting_capital', 'exporting_capital_target', 'exporting_loans',\n",
      "       'bank_capital', 'bank_deposit', 'deposits', 'doubtful_loans',\n",
      "       'doubtful_ratio', 'bankruptcies', 'bank_dividend', 'spec_no_of_firms',\n",
      "       'spec_exch_rates', 'spec_natural_exch_rates', 'spec_export_details',\n",
      "       'spec_import_details', 'spec_trade_balances', 'spec_bank_accounts',\n",
      "       'spec_trade_fees'],\n",
      "      dtype='object')]\n",
      "\n",
      "  aa.export_data(note = note, hdf = hdf, csv = csv)\n",
      "C:\\Users\\am\\model_tools.py:2215: PerformanceWarning: \n",
      "your performance may suffer as PyTables will pickle object types that it cannot\n",
      "map directly to c-types [inferred_type->mixed,key->block0_values] [items->Index(['inventories_y', 'unemployment_m', 'unemployment_y',\n",
      "       'vol_unemployed_rate_m', 'vol_unemployed_rate_y', 'price_level_m',\n",
      "       'inflation_m', 'sales_y', 'sales_value_y', 'price_level_y',\n",
      "       'inflation_y', 'vacancy_rates_m', 'vacancies_y', 'labor_demand_y',\n",
      "       'vacancy_rates_y', 'capital_adequacy_ratio_m', 'gross_profits_m',\n",
      "       'total_income_m', 'wage_share_m', 'profits_share_m', 'gross_profits_y',\n",
      "       'total_income_y', 'wages_y', 'wage_share_y', 'profits_share_y',\n",
      "       'mean_real_profits_m', 'mean_real_profits_y', 'mark_ups_m',\n",
      "       'mark_ups_y', 'bankruptcies_y', 'bankruptcy_rate_y',\n",
      "       'capacity_utilization_m', 'capacity_utilization_y', 'mean_real_wage_m',\n",
      "       'median_real_wage_m', 'mean_real_wage_y', 'self_financing_ratio_m',\n",
      "       'targeted_debt_ratio_m', 'targeted_debt_m', 'mean_targeted_debt_m',\n",
      "       'excessive_debt_rate_m', 'exporting_self_financing_ratio_m',\n",
      "       'exporting_targeted_debt_m', 'exporting_excessive_debt_rate_m',\n",
      "       'hoarding_m', 'unemployment_duration_y', 'money_velocity_y', 'cons_y',\n",
      "       'mean_cons_y', 'cons_value_y', 'mean_cons_value_y',\n",
      "       'forced_savings_rate_m', 'forced_savings_rate_y',\n",
      "       'total_trade_balances_m', 'total_exports_m', 'total_imports_m',\n",
      "       'total_export_rates_m', 'total_import_rates_m',\n",
      "       'detailed_export_rates_m', 'detailed_import_rates_m',\n",
      "       'total_trade_balances_y', 'total_exports_y', 'total_imports_y',\n",
      "       'total_export_rates_y', 'total_import_rates_y', 'bank_bankruptcies'],\n",
      "      dtype='object')]\n",
      "\n",
      "  aa.export_data(note = note, hdf = hdf, csv = csv)\n",
      "C:\\Users\\am\\AppData\\Roaming\\Python\\Python38\\site-packages\\numpy\\core\\fromnumeric.py:3334: RuntimeWarning: Mean of empty slice.\n",
      "  return _methods._mean(a, axis=axis, dtype=dtype,\n",
      "C:\\Users\\am\\AppData\\Roaming\\Python\\Python38\\site-packages\\numpy\\core\\_methods.py:161: RuntimeWarning: invalid value encountered in double_scalars\n",
      "  ret = ret.dtype.type(ret / rcount)\n",
      "C:\\Users\\am\\AppData\\Roaming\\Python\\Python38\\site-packages\\numpy\\core\\_methods.py:216: RuntimeWarning: Degrees of freedom <= 0 for slice\n",
      "  ret = _var(a, axis=axis, dtype=dtype, out=out, ddof=ddof,\n",
      "C:\\Users\\am\\AppData\\Roaming\\Python\\Python38\\site-packages\\numpy\\core\\_methods.py:185: RuntimeWarning: invalid value encountered in true_divide\n",
      "  arrmean = um.true_divide(\n",
      "C:\\Users\\am\\AppData\\Roaming\\Python\\Python38\\site-packages\\numpy\\core\\_methods.py:209: RuntimeWarning: invalid value encountered in double_scalars\n",
      "  ret = ret.dtype.type(ret / rcount)\n",
      "C:\\Users\\am\\model_tools.py:1903: RuntimeWarning: invalid value encountered in true_divide\n",
      "  results.append(list(multiply*s1/s2))\n",
      "C:\\Users\\am\\model_tools.py:1881: RuntimeWarning: invalid value encountered in true_divide\n",
      "  results.append(list(diff/s1))\n",
      "C:\\Users\\am\\model_tools.py:1903: RuntimeWarning: divide by zero encountered in true_divide\n",
      "  results.append(list(multiply*s1/s2))\n"
     ]
    },
    {
     "name": "stdout",
     "output_type": "stream",
     "text": [
      "experiment 0 is finished\n",
      "experiment 1 is finished\n",
      "experiment 2 is finished\n",
      "experiment 3 is finished\n",
      "end of exp_grid: BB_final_base_free\n"
     ]
    }
   ],
   "source": [
    "exp_grid( grid , [\"wage_resist\", \"wage_flex\"],  \n",
    "         chosen_seeds, 1500, \"BB_final_base_free\", csv = False)"
   ]
  },
  {
   "cell_type": "markdown",
   "metadata": {},
   "source": [
    "## baseline medium trade"
   ]
  },
  {
   "cell_type": "code",
   "execution_count": 13,
   "metadata": {},
   "outputs": [],
   "source": [
    "model_tools.free_market = False\n",
    "model_tools.trade_quotas = make_matrix(0.3, False)"
   ]
  },
  {
   "cell_type": "code",
   "execution_count": 14,
   "metadata": {},
   "outputs": [
    {
     "data": {
      "text/plain": [
       "True"
      ]
     },
     "execution_count": 14,
     "metadata": {},
     "output_type": "execute_result"
    }
   ],
   "source": [
    "\"trade_quotas\" in model_tools.parameters()"
   ]
  },
  {
   "cell_type": "code",
   "execution_count": 17,
   "metadata": {
    "scrolled": true
   },
   "outputs": [
    {
     "name": "stdout",
     "output_type": "stream",
     "text": [
      "start of exp_grid: BB_final_base_med\n",
      "experiment 1 is finished\n",
      "end of exp_grid: BB_final_base_med\n"
     ]
    }
   ],
   "source": [
    "## correcting bad simulations for base-base scenario\n",
    "grid_1 = grid[:2]\n",
    "\n",
    "exp_grid( grid_1 , [\"wage_resist\", \"wage_flex\"],  \n",
    "         rand_seeds2[-10:], 1500, \"BB_final_base_med\", csv = False, start = 1)"
   ]
  },
  {
   "cell_type": "code",
   "execution_count": null,
   "metadata": {},
   "outputs": [],
   "source": []
  },
  {
   "cell_type": "code",
   "execution_count": 16,
   "metadata": {
    "scrolled": true
   },
   "outputs": [
    {
     "name": "stdout",
     "output_type": "stream",
     "text": [
      "start of exp_grid: BB_final_base_med\n"
     ]
    },
    {
     "name": "stderr",
     "output_type": "stream",
     "text": [
      "C:\\Users\\am\\AppData\\Roaming\\Python\\Python38\\site-packages\\numpy\\core\\fromnumeric.py:3334: RuntimeWarning: Mean of empty slice.\n",
      "  return _methods._mean(a, axis=axis, dtype=dtype,\n",
      "C:\\Users\\am\\AppData\\Roaming\\Python\\Python38\\site-packages\\numpy\\core\\_methods.py:161: RuntimeWarning: invalid value encountered in double_scalars\n",
      "  ret = ret.dtype.type(ret / rcount)\n",
      "C:\\Users\\am\\AppData\\Roaming\\Python\\Python38\\site-packages\\numpy\\core\\_methods.py:216: RuntimeWarning: Degrees of freedom <= 0 for slice\n",
      "  ret = _var(a, axis=axis, dtype=dtype, out=out, ddof=ddof,\n",
      "C:\\Users\\am\\AppData\\Roaming\\Python\\Python38\\site-packages\\numpy\\core\\_methods.py:185: RuntimeWarning: invalid value encountered in true_divide\n",
      "  arrmean = um.true_divide(\n",
      "C:\\Users\\am\\AppData\\Roaming\\Python\\Python38\\site-packages\\numpy\\core\\_methods.py:209: RuntimeWarning: invalid value encountered in double_scalars\n",
      "  ret = ret.dtype.type(ret / rcount)\n",
      "C:\\Users\\am\\model_tools.py:1909: RuntimeWarning: invalid value encountered in true_divide\n",
      "  results.append(list(multiply*s1/s2))\n",
      "C:\\Users\\am\\model_tools.py:1887: RuntimeWarning: invalid value encountered in true_divide\n",
      "  results.append(list(diff/s1))\n",
      "C:\\Users\\am\\model_tools.py:1909: RuntimeWarning: divide by zero encountered in true_divide\n",
      "  results.append(list(multiply*s1/s2))\n",
      "C:\\Users\\am\\model_tools.py:2221: PerformanceWarning: \n",
      "your performance may suffer as PyTables will pickle object types that it cannot\n",
      "map directly to c-types [inferred_type->mixed,key->block0_values] [items->Index(['employment', 'wages', 'working_wages', 'vol_unemployed', 'months_u',\n",
      "       'unemployed_months_u', 'hsh_sentiment', 'hsh_income', 'savings_T',\n",
      "       'budget', 'cons', 'cons_value', 'forced_savings', 'hsh_deposits',\n",
      "       'prices', 'offered_wages', 'production', 'production_value',\n",
      "       'labor_demand', 'labor', 'job_offers', 'vacancies', 'inventories',\n",
      "       'sales', 'sales_value', 'sales_costs', 'firm_assets',\n",
      "       'firm_capital_target', 'firm_capital', 'firm_dividends',\n",
      "       'firm_sentiment', 'firm_deposits', 'loans', 'exporting_firms',\n",
      "       'exporting_prices', 'exporting_received_prices', 'exporting_assets',\n",
      "       'exporting_capital', 'exporting_capital_target', 'exporting_loans',\n",
      "       'nom_supply', 'supply', 'unsold_supply', 'bank_capital', 'bank_deposit',\n",
      "       'deposits', 'doubtful_loans', 'doubtful_ratio', 'bankruptcies',\n",
      "       'bank_dividend', 'spec_no_of_firms', 'spec_exch_rates',\n",
      "       'spec_natural_exch_rates', 'spec_export_details', 'spec_import_details',\n",
      "       'spec_trade_balances', 'spec_bank_accounts', 'spec_trade_fees'],\n",
      "      dtype='object')]\n",
      "\n",
      "  aa.export_data(note = note, hdf = hdf, csv = csv)\n",
      "C:\\Users\\am\\model_tools.py:2221: PerformanceWarning: \n",
      "your performance may suffer as PyTables will pickle object types that it cannot\n",
      "map directly to c-types [inferred_type->mixed,key->block0_values] [items->Index(['inventories_y', 'unemployment_m', 'unemployment_y',\n",
      "       'vol_unemployed_rate_m', 'vol_unemployed_rate_y', 'price_level_m',\n",
      "       'inflation_m', 'sales_y', 'sales_value_y', 'price_level_y',\n",
      "       'inflation_y', 'vacancy_rates_m', 'vacancies_y', 'labor_demand_y',\n",
      "       'vacancy_rates_y', 'capital_adequacy_ratio_m', 'gross_profits_m',\n",
      "       'total_income_m', 'wage_share_m', 'profits_share_m', 'gross_profits_y',\n",
      "       'total_income_y', 'wages_y', 'wage_share_y', 'profits_share_y',\n",
      "       'mean_real_profits_m', 'mean_real_profits_y', 'mark_ups_m',\n",
      "       'mark_ups_y', 'bankruptcies_y', 'bankruptcy_rate_y',\n",
      "       'capacity_utilization_m', 'capacity_utilization_y', 'mean_real_wage_m',\n",
      "       'median_real_wage_m', 'mean_real_wage_y', 'self_financing_ratio_m',\n",
      "       'targeted_debt_ratio_m', 'targeted_debt_m', 'mean_targeted_debt_m',\n",
      "       'excessive_debt_rate_m', 'exporting_self_financing_ratio_m',\n",
      "       'exporting_targeted_debt_m', 'exporting_excessive_debt_rate_m',\n",
      "       'hoarding_m', 'unemployment_duration_y', 'money_velocity_y', 'cons_y',\n",
      "       'mean_cons_y', 'cons_value_y', 'mean_cons_value_y',\n",
      "       'forced_savings_rate_m', 'forced_savings_rate_y',\n",
      "       'total_trade_balances_m', 'total_exports_m', 'total_imports_m',\n",
      "       'total_export_rates_m', 'total_import_rates_m',\n",
      "       'detailed_export_rates_m', 'detailed_import_rates_m',\n",
      "       'total_trade_balances_y', 'total_exports_y', 'total_imports_y',\n",
      "       'total_export_rates_y', 'total_import_rates_y', 'bank_bankruptcies'],\n",
      "      dtype='object')]\n",
      "\n",
      "  aa.export_data(note = note, hdf = hdf, csv = csv)\n",
      "C:\\Users\\am\\AppData\\Roaming\\Python\\Python38\\site-packages\\numpy\\core\\fromnumeric.py:3334: RuntimeWarning: Mean of empty slice.\n",
      "  return _methods._mean(a, axis=axis, dtype=dtype,\n",
      "C:\\Users\\am\\AppData\\Roaming\\Python\\Python38\\site-packages\\numpy\\core\\_methods.py:161: RuntimeWarning: invalid value encountered in double_scalars\n",
      "  ret = ret.dtype.type(ret / rcount)\n",
      "C:\\Users\\am\\AppData\\Roaming\\Python\\Python38\\site-packages\\numpy\\core\\_methods.py:216: RuntimeWarning: Degrees of freedom <= 0 for slice\n",
      "  ret = _var(a, axis=axis, dtype=dtype, out=out, ddof=ddof,\n",
      "C:\\Users\\am\\AppData\\Roaming\\Python\\Python38\\site-packages\\numpy\\core\\_methods.py:185: RuntimeWarning: invalid value encountered in true_divide\n",
      "  arrmean = um.true_divide(\n",
      "C:\\Users\\am\\AppData\\Roaming\\Python\\Python38\\site-packages\\numpy\\core\\_methods.py:209: RuntimeWarning: invalid value encountered in double_scalars\n",
      "  ret = ret.dtype.type(ret / rcount)\n",
      "C:\\Users\\am\\model_tools.py:1909: RuntimeWarning: invalid value encountered in true_divide\n",
      "  results.append(list(multiply*s1/s2))\n",
      "C:\\Users\\am\\model_tools.py:1887: RuntimeWarning: invalid value encountered in true_divide\n",
      "  results.append(list(diff/s1))\n",
      "C:\\Users\\am\\model_tools.py:1909: RuntimeWarning: divide by zero encountered in true_divide\n",
      "  results.append(list(multiply*s1/s2))\n"
     ]
    },
    {
     "name": "stdout",
     "output_type": "stream",
     "text": [
      "experiment 2 is finished\n",
      "experiment 3 is finished\n",
      "end of exp_grid: BB_final_base_med\n"
     ]
    }
   ],
   "source": [
    "exp_grid( grid , [\"wage_resist\", \"wage_flex\"], \n",
    "         rand_seeds2[-10:], 1500, \"BB_final_base_med\", csv = False, start = 2)"
   ]
  },
  {
   "cell_type": "code",
   "execution_count": null,
   "metadata": {},
   "outputs": [
    {
     "name": "stdout",
     "output_type": "stream",
     "text": [
      "start of exp_grid: BB_final_base_med\n"
     ]
    },
    {
     "name": "stderr",
     "output_type": "stream",
     "text": [
      "C:\\Users\\am\\Anaconda3\\lib\\site-packages\\numpy\\core\\fromnumeric.py:3118: RuntimeWarning: Mean of empty slice.\n",
      "  out=out, **kwargs)\n",
      "C:\\Users\\am\\Anaconda3\\lib\\site-packages\\numpy\\core\\_methods.py:85: RuntimeWarning: invalid value encountered in double_scalars\n",
      "  ret = ret.dtype.type(ret / rcount)\n"
     ]
    }
   ],
   "source": [
    "exp_grid( grid , [\"wage_resist\", \"wage_flex\"],  \n",
    "         rand_seeds[8:], 1500, \"BB_final_base_med\", csv = False)"
   ]
  },
  {
   "cell_type": "code",
   "execution_count": 9,
   "metadata": {
    "scrolled": true
   },
   "outputs": [
    {
     "name": "stdout",
     "output_type": "stream",
     "text": [
      "start of exp_grid: BB_final_base_med\n"
     ]
    },
    {
     "name": "stderr",
     "output_type": "stream",
     "text": [
      "C:\\Users\\am\\model_tools.py:1862: RuntimeWarning: invalid value encountered in true_divide\n",
      "  results.append(list(multiply*s1/s2))\n",
      "C:\\Users\\am\\model_tools.py:1842: RuntimeWarning: invalid value encountered in true_divide\n",
      "  results.append(list(diff/s1))\n",
      "C:\\Users\\am\\model_tools.py:1862: RuntimeWarning: divide by zero encountered in true_divide\n",
      "  results.append(list(multiply*s1/s2))\n",
      "C:\\Users\\am\\model_tools.py:2149: PerformanceWarning: \n",
      "your performance may suffer as PyTables will pickle object types that it cannot\n",
      "map directly to c-types [inferred_type->mixed,key->block0_values] [items->Index(['employment', 'wages', 'working_wages', 'vol_unemployed', 'months_u',\n",
      "       'unemployed_months_u', 'hsh_sentiment', 'hsh_income', 'savings_T',\n",
      "       'budget', 'cons', 'cons_value', 'forced_savings', 'hsh_deposits',\n",
      "       'prices', 'offered_wages', 'production', 'production_value',\n",
      "       'labor_demand', 'labor', 'job_offers', 'vacancies', 'inventories',\n",
      "       'sales', 'sales_value', 'sales_costs', 'firm_assets',\n",
      "       'firm_capital_target', 'firm_capital', 'firm_dividends',\n",
      "       'firm_sentiment', 'firm_deposits', 'loans', 'bank_capital',\n",
      "       'bank_deposit', 'deposits', 'doubtful_loans', 'doubtful_ratio',\n",
      "       'bankruptcies', 'bank_dividend', 'spec_no_of_firms', 'spec_exch_rates',\n",
      "       'spec_natural_exch_rates', 'spec_export_details', 'spec_import_details',\n",
      "       'spec_trade_balances', 'spec_bank_accounts', 'spec_trade_fees'],\n",
      "      dtype='object')]\n",
      "\n",
      "  aa.export_data(note = note, hdf = hdf, csv = csv)\n",
      "C:\\Users\\am\\model_tools.py:2149: PerformanceWarning: \n",
      "your performance may suffer as PyTables will pickle object types that it cannot\n",
      "map directly to c-types [inferred_type->mixed,key->block0_values] [items->Index(['inventories_y', 'unemployment_m', 'unemployment_y',\n",
      "       'vol_unemployed_rate_m', 'vol_unemployed_rate_y', 'price_level_m',\n",
      "       'inflation_m', 'sales_y', 'sales_value_y', 'price_level_y',\n",
      "       'inflation_y', 'vacancy_rates_m', 'vacancies_y', 'labor_demand_y',\n",
      "       'vacancy_rates_y', 'capital_adequacy_ratio_m', 'gross_profits_m',\n",
      "       'total_income_m', 'wage_share_m', 'profits_share_m', 'gross_profits_y',\n",
      "       'total_income_y', 'wages_y', 'wage_share_y', 'profits_share_y',\n",
      "       'mean_real_profits_m', 'mean_real_profits_y', 'mark_ups_m',\n",
      "       'mark_ups_y', 'bankruptcies_y', 'bankruptcy_rate_y',\n",
      "       'capacity_utilization_m', 'capacity_utilization_y', 'mean_real_wage_m',\n",
      "       'median_real_wage_m', 'mean_real_wage_y', 'self_financing_ratio_m',\n",
      "       'targeted_debt_ratio_m', 'targeted_debt_m', 'mean_targeted_debt_m',\n",
      "       'excessive_debt_rate_m', 'hoarding_m', 'unemployment_duration_y',\n",
      "       'money_velocity_y', 'cons_y', 'mean_cons_y', 'cons_value_y',\n",
      "       'mean_cons_value_y', 'forced_savings_rate_m', 'forced_savings_rate_y',\n",
      "       'total_trade_balances_m', 'total_exports_m', 'total_imports_m',\n",
      "       'total_export_rates_m', 'total_import_rates_m',\n",
      "       'detailed_export_rates_m', 'detailed_import_rates_m',\n",
      "       'total_trade_balances_y', 'total_exports_y', 'total_imports_y',\n",
      "       'total_export_rates_y', 'total_import_rates_y', 'bank_bankruptcies'],\n",
      "      dtype='object')]\n",
      "\n",
      "  aa.export_data(note = note, hdf = hdf, csv = csv)\n",
      "C:\\Users\\am\\AppData\\Roaming\\Python\\Python38\\site-packages\\numpy\\core\\fromnumeric.py:3334: RuntimeWarning: Mean of empty slice.\n",
      "  return _methods._mean(a, axis=axis, dtype=dtype,\n",
      "C:\\Users\\am\\AppData\\Roaming\\Python\\Python38\\site-packages\\numpy\\core\\_methods.py:161: RuntimeWarning: invalid value encountered in double_scalars\n",
      "  ret = ret.dtype.type(ret / rcount)\n",
      "C:\\Users\\am\\model_tools.py:1862: RuntimeWarning: invalid value encountered in true_divide\n",
      "  results.append(list(multiply*s1/s2))\n",
      "C:\\Users\\am\\model_tools.py:1842: RuntimeWarning: invalid value encountered in true_divide\n",
      "  results.append(list(diff/s1))\n",
      "C:\\Users\\am\\model_tools.py:1862: RuntimeWarning: divide by zero encountered in true_divide\n",
      "  results.append(list(multiply*s1/s2))\n"
     ]
    },
    {
     "name": "stdout",
     "output_type": "stream",
     "text": [
      "experiment 2 is finished\n",
      "experiment 3 is finished\n",
      "end of exp_grid: BB_final_base_med\n"
     ]
    }
   ],
   "source": [
    "exp_grid( grid , [\"wage_resist\", \"wage_flex\"],  \n",
    "         rand_seeds[8:], 1500, \"BB_final_base_med\", start = 2, csv = False)"
   ]
  },
  {
   "cell_type": "code",
   "execution_count": null,
   "metadata": {},
   "outputs": [],
   "source": []
  },
  {
   "cell_type": "code",
   "execution_count": 12,
   "metadata": {
    "scrolled": true
   },
   "outputs": [
    {
     "name": "stdout",
     "output_type": "stream",
     "text": [
      "start of exp_grid: BB_final_base_med\n"
     ]
    },
    {
     "name": "stderr",
     "output_type": "stream",
     "text": [
      "C:\\Users\\am\\model_tools.py:1862: RuntimeWarning: invalid value encountered in true_divide\n",
      "  results.append(list(multiply*s1/s2))\n",
      "C:\\Users\\am\\model_tools.py:1842: RuntimeWarning: invalid value encountered in true_divide\n",
      "  results.append(list(diff/s1))\n",
      "C:\\Users\\am\\model_tools.py:1862: RuntimeWarning: divide by zero encountered in true_divide\n",
      "  results.append(list(multiply*s1/s2))\n",
      "C:\\Users\\am\\model_tools.py:2161: PerformanceWarning: \n",
      "your performance may suffer as PyTables will pickle object types that it cannot\n",
      "map directly to c-types [inferred_type->mixed,key->block0_values] [items->Index(['employment', 'wages', 'working_wages', 'vol_unemployed', 'months_u',\n",
      "       'unemployed_months_u', 'hsh_sentiment', 'hsh_income', 'savings_T',\n",
      "       'budget', 'cons', 'cons_value', 'forced_savings', 'hsh_deposits',\n",
      "       'prices', 'offered_wages', 'production', 'production_value',\n",
      "       'labor_demand', 'labor', 'job_offers', 'vacancies', 'inventories',\n",
      "       'sales', 'sales_value', 'sales_costs', 'firm_assets',\n",
      "       'firm_capital_target', 'firm_capital', 'firm_dividends',\n",
      "       'firm_sentiment', 'firm_deposits', 'loans', 'bank_capital',\n",
      "       'bank_deposit', 'deposits', 'doubtful_loans', 'doubtful_ratio',\n",
      "       'bankruptcies', 'bank_dividend', 'spec_no_of_firms', 'spec_exch_rates',\n",
      "       'spec_natural_exch_rates', 'spec_export_details', 'spec_import_details',\n",
      "       'spec_trade_balances', 'spec_bank_accounts', 'spec_trade_fees'],\n",
      "      dtype='object')]\n",
      "\n",
      "  aa.export_data(note = note, hdf = hdf, csv = csv)\n",
      "C:\\Users\\am\\model_tools.py:2161: PerformanceWarning: \n",
      "your performance may suffer as PyTables will pickle object types that it cannot\n",
      "map directly to c-types [inferred_type->mixed,key->block0_values] [items->Index(['inventories_y', 'unemployment_m', 'unemployment_y',\n",
      "       'vol_unemployed_rate_m', 'vol_unemployed_rate_y', 'price_level_m',\n",
      "       'inflation_m', 'sales_y', 'sales_value_y', 'price_level_y',\n",
      "       'inflation_y', 'vacancy_rates_m', 'vacancies_y', 'labor_demand_y',\n",
      "       'vacancy_rates_y', 'capital_adequacy_ratio_m', 'gross_profits_m',\n",
      "       'total_income_m', 'wage_share_m', 'profits_share_m', 'gross_profits_y',\n",
      "       'total_income_y', 'wages_y', 'wage_share_y', 'profits_share_y',\n",
      "       'mean_real_profits_m', 'mean_real_profits_y', 'mark_ups_m',\n",
      "       'mark_ups_y', 'bankruptcies_y', 'bankruptcy_rate_y',\n",
      "       'capacity_utilization_m', 'capacity_utilization_y', 'mean_real_wage_m',\n",
      "       'median_real_wage_m', 'mean_real_wage_y', 'self_financing_ratio_m',\n",
      "       'targeted_debt_ratio_m', 'targeted_debt_m', 'mean_targeted_debt_m',\n",
      "       'excessive_debt_rate_m', 'hoarding_m', 'unemployment_duration_y',\n",
      "       'money_velocity_y', 'cons_y', 'mean_cons_y', 'cons_value_y',\n",
      "       'mean_cons_value_y', 'forced_savings_rate_m', 'forced_savings_rate_y',\n",
      "       'total_trade_balances_m', 'total_exports_m', 'total_imports_m',\n",
      "       'total_export_rates_m', 'total_import_rates_m',\n",
      "       'detailed_export_rates_m', 'detailed_import_rates_m',\n",
      "       'total_trade_balances_y', 'total_exports_y', 'total_imports_y',\n",
      "       'total_export_rates_y', 'total_import_rates_y', 'bank_bankruptcies'],\n",
      "      dtype='object')]\n",
      "\n",
      "  aa.export_data(note = note, hdf = hdf, csv = csv)\n",
      "C:\\Users\\am\\model_tools.py:1862: RuntimeWarning: invalid value encountered in true_divide\n",
      "  results.append(list(multiply*s1/s2))\n",
      "C:\\Users\\am\\model_tools.py:1842: RuntimeWarning: invalid value encountered in true_divide\n",
      "  results.append(list(diff/s1))\n",
      "C:\\Users\\am\\model_tools.py:1862: RuntimeWarning: divide by zero encountered in true_divide\n",
      "  results.append(list(multiply*s1/s2))\n"
     ]
    },
    {
     "name": "stdout",
     "output_type": "stream",
     "text": [
      "experiment 2 is finished\n",
      "experiment 3 is finished\n",
      "end of exp_grid: BB_final_base_med\n"
     ]
    }
   ],
   "source": [
    "exp_grid( grid , [\"wage_resist\", \"wage_flex\"],  \n",
    "         rand_seeds2[28:], 1500, \"BB_final_base_med\", csv = False, start = 2)"
   ]
  },
  {
   "cell_type": "code",
   "execution_count": 13,
   "metadata": {},
   "outputs": [
    {
     "name": "stdout",
     "output_type": "stream",
     "text": [
      "start of exp_grid: BB_final_base_med\n"
     ]
    },
    {
     "name": "stderr",
     "output_type": "stream",
     "text": [
      "C:\\Users\\am\\AppData\\Roaming\\Python\\Python38\\site-packages\\numpy\\core\\fromnumeric.py:3334: RuntimeWarning: Mean of empty slice.\n",
      "  return _methods._mean(a, axis=axis, dtype=dtype,\n",
      "C:\\Users\\am\\AppData\\Roaming\\Python\\Python38\\site-packages\\numpy\\core\\_methods.py:161: RuntimeWarning: invalid value encountered in double_scalars\n",
      "  ret = ret.dtype.type(ret / rcount)\n"
     ]
    },
    {
     "name": "stdout",
     "output_type": "stream",
     "text": [
      "experiment 3 is finished\n",
      "end of exp_grid: BB_final_base_med\n"
     ]
    }
   ],
   "source": [
    "exp_grid( grid , [\"wage_resist\", \"wage_flex\"],  \n",
    "         rand_seeds2[20:28], 1500, \"BB_final_base_med\", csv = False, start = 3)"
   ]
  },
  {
   "cell_type": "code",
   "execution_count": null,
   "metadata": {},
   "outputs": [],
   "source": []
  },
  {
   "cell_type": "markdown",
   "metadata": {},
   "source": [
    "## baseline low trade"
   ]
  },
  {
   "cell_type": "code",
   "execution_count": 11,
   "metadata": {},
   "outputs": [],
   "source": [
    "model_tools.free_market = False\n",
    "model_tools.trade_quotas = make_matrix(0.05, False)"
   ]
  },
  {
   "cell_type": "code",
   "execution_count": 15,
   "metadata": {},
   "outputs": [
    {
     "name": "stdout",
     "output_type": "stream",
     "text": [
      "start of exp_grid: BB_final_base_low\n",
      "experiment 0 is finished\n",
      "experiment 1 is finished\n",
      "experiment 2 is finished\n",
      "experiment 3 is finished\n",
      "end of exp_grid: BB_final_base_low\n"
     ]
    }
   ],
   "source": [
    "exp_grid( grid , [\"wage_resist\", \"wage_flex\"],  \n",
    "         rand_seeds[:8], 1500, \"BB_final_base_low\", csv = False)"
   ]
  },
  {
   "cell_type": "code",
   "execution_count": 12,
   "metadata": {},
   "outputs": [
    {
     "name": "stdout",
     "output_type": "stream",
     "text": [
      "start of exp_grid: BB_final_base_low\n",
      "experiment 0 is finished\n",
      "experiment 1 is finished\n",
      "experiment 2 is finished\n",
      "experiment 3 is finished\n",
      "end of exp_grid: BB_final_base_low\n"
     ]
    }
   ],
   "source": [
    "exp_grid( grid , [\"wage_resist\", \"wage_flex\"],  \n",
    "         rand_seeds[8:], 1500, \"BB_final_base_low\", csv = False)"
   ]
  },
  {
   "cell_type": "code",
   "execution_count": null,
   "metadata": {},
   "outputs": [],
   "source": []
  },
  {
   "cell_type": "markdown",
   "metadata": {},
   "source": [
    "# no costs"
   ]
  },
  {
   "cell_type": "code",
   "execution_count": null,
   "metadata": {},
   "outputs": [],
   "source": [
    "set_base_pars([5000,5000])   \n",
    "model_tools.trade_costs = make_matrix(0, True)\n",
    "\n",
    "grid = [ ([12]*model_tools.no_countries ,[0.05]*model_tools.no_countries),   # baseline\n",
    "       ([8]*model_tools.no_countries ,[0.08]*model_tools.no_countries),      # alt 1\n",
    "       ([12, 8]   ,[0.05, 0.08] ),                                           # alt 2\n",
    "       ([12, 8]   ,[0.05, 0.25] )]  "
   ]
  },
  {
   "cell_type": "code",
   "execution_count": null,
   "metadata": {},
   "outputs": [],
   "source": [
    "\"trade_costs\" in model_tools.parameters()"
   ]
  },
  {
   "cell_type": "markdown",
   "metadata": {},
   "source": [
    "## 0 costs free trade"
   ]
  },
  {
   "cell_type": "code",
   "execution_count": 14,
   "metadata": {},
   "outputs": [],
   "source": [
    "model_tools.free_market = True"
   ]
  },
  {
   "cell_type": "code",
   "execution_count": 15,
   "metadata": {},
   "outputs": [
    {
     "name": "stdout",
     "output_type": "stream",
     "text": [
      "start of exp_grid: BB_final_nc_free\n",
      "experiment 0 is finished\n",
      "experiment 1 is finished\n",
      "experiment 2 is finished\n",
      "experiment 3 is finished\n",
      "end of exp_grid: BB_final_nc_free\n"
     ]
    }
   ],
   "source": [
    "exp_grid( grid , [\"wage_resist\", \"wage_flex\"],  \n",
    "         rand_seeds[:8], 1500, \"BB_final_nc_free\", csv = False)"
   ]
  },
  {
   "cell_type": "markdown",
   "metadata": {},
   "source": [
    "## 0 costs medium trade"
   ]
  },
  {
   "cell_type": "code",
   "execution_count": null,
   "metadata": {},
   "outputs": [],
   "source": [
    "model_tools.free_market = False\n",
    "model_tools.trade_quotas = make_matrix(0.3, False)"
   ]
  },
  {
   "cell_type": "code",
   "execution_count": null,
   "metadata": {},
   "outputs": [],
   "source": [
    "#exp_grid( grid , [\"wage_resist\", \"wage_flex\"],  \n",
    "#         rand_seeds[:8], 1500, \"BB_final_nc_med\", csv = False)"
   ]
  },
  {
   "cell_type": "markdown",
   "metadata": {},
   "source": [
    "## 0 costs low trade"
   ]
  },
  {
   "cell_type": "code",
   "execution_count": null,
   "metadata": {},
   "outputs": [],
   "source": [
    "model_tools.free_market = False\n",
    "model_tools.trade_quotas = make_matrix(0.05, False)"
   ]
  },
  {
   "cell_type": "code",
   "execution_count": null,
   "metadata": {},
   "outputs": [],
   "source": [
    "#exp_grid( grid , [\"wage_resist\", \"wage_flex\"],  \n",
    "#         rand_seeds[:8], 1500, \"BB_final_nc_low\", csv = False)"
   ]
  },
  {
   "cell_type": "code",
   "execution_count": null,
   "metadata": {},
   "outputs": [],
   "source": []
  },
  {
   "cell_type": "code",
   "execution_count": null,
   "metadata": {},
   "outputs": [],
   "source": []
  },
  {
   "cell_type": "markdown",
   "metadata": {},
   "source": [
    "# high costs"
   ]
  },
  {
   "cell_type": "code",
   "execution_count": 29,
   "metadata": {},
   "outputs": [],
   "source": [
    "set_base_pars([5000,5000])   \n",
    "model_tools.trade_costs = make_matrix(0.7, True)\n",
    "\n",
    "grid = [ ([12]*model_tools.no_countries ,[0.05]*model_tools.no_countries),   # baseline\n",
    "       ([8]*model_tools.no_countries ,[0.08]*model_tools.no_countries),      # alt 1\n",
    "       ([12, 8]   ,[0.05, 0.08] ),                                           # alt 2\n",
    "       ([12, 8]   ,[0.05, 0.25] )]  "
   ]
  },
  {
   "cell_type": "code",
   "execution_count": null,
   "metadata": {},
   "outputs": [],
   "source": []
  },
  {
   "cell_type": "markdown",
   "metadata": {},
   "source": [
    "## high costs free trade"
   ]
  },
  {
   "cell_type": "code",
   "execution_count": 32,
   "metadata": {},
   "outputs": [],
   "source": [
    "model_tools.free_market = True"
   ]
  },
  {
   "cell_type": "code",
   "execution_count": null,
   "metadata": {},
   "outputs": [],
   "source": [
    "exp_grid( grid , [\"wage_resist\", \"wage_flex\"],  \n",
    "         rand_seeds2[-9:], 1500, \"BB_final_hc_free\", csv = False)"
   ]
  },
  {
   "cell_type": "code",
   "execution_count": null,
   "metadata": {},
   "outputs": [],
   "source": []
  },
  {
   "cell_type": "markdown",
   "metadata": {},
   "source": [
    "## high costs medium trade"
   ]
  },
  {
   "cell_type": "code",
   "execution_count": 32,
   "metadata": {},
   "outputs": [],
   "source": [
    "model_tools.free_market = False\n",
    "model_tools.trade_quotas = make_matrix(0.3, False)"
   ]
  },
  {
   "cell_type": "code",
   "execution_count": 18,
   "metadata": {},
   "outputs": [
    {
     "name": "stdout",
     "output_type": "stream",
     "text": [
      "start of exp_grid: BB_final_hc_med\n",
      "experiment 0 is finished\n",
      "experiment 1 is finished\n",
      "experiment 2 is finished\n",
      "experiment 3 is finished\n",
      "end of exp_grid: BB_final_hc_med\n"
     ]
    }
   ],
   "source": [
    "exp_grid( grid , [\"wage_resist\", \"wage_flex\"],  \n",
    "         rand_seeds[:8], 1500, \"BB_final_hc_med\", csv = False)"
   ]
  },
  {
   "cell_type": "code",
   "execution_count": 15,
   "metadata": {},
   "outputs": [
    {
     "name": "stdout",
     "output_type": "stream",
     "text": [
      "start of exp_grid: BB_final_hc_med\n",
      "experiment 0 is finished\n",
      "experiment 1 is finished\n",
      "experiment 2 is finished\n",
      "experiment 3 is finished\n",
      "end of exp_grid: BB_final_hc_med\n"
     ]
    }
   ],
   "source": [
    "exp_grid( grid , [\"wage_resist\", \"wage_flex\"],  \n",
    "         rand_seeds[8:21], 1500, \"BB_final_hc_med\", csv = False)"
   ]
  },
  {
   "cell_type": "code",
   "execution_count": null,
   "metadata": {},
   "outputs": [],
   "source": []
  },
  {
   "cell_type": "code",
   "execution_count": 33,
   "metadata": {},
   "outputs": [
    {
     "name": "stdout",
     "output_type": "stream",
     "text": [
      "start of exp_grid: BB_final_hc_med\n",
      "experiment 0 is finished\n",
      "experiment 1 is finished\n",
      "experiment 2 is finished\n",
      "experiment 3 is finished\n",
      "end of exp_grid: BB_final_hc_med\n"
     ]
    }
   ],
   "source": [
    "exp_grid( grid , [\"wage_resist\", \"wage_flex\"],  \n",
    "         rand_seeds[21:], 1500, \"BB_final_hc_med\", csv = False)"
   ]
  },
  {
   "cell_type": "code",
   "execution_count": null,
   "metadata": {},
   "outputs": [],
   "source": []
  },
  {
   "cell_type": "markdown",
   "metadata": {},
   "source": [
    "## high costs low trade"
   ]
  },
  {
   "cell_type": "code",
   "execution_count": 34,
   "metadata": {},
   "outputs": [],
   "source": [
    "model_tools.free_market = False\n",
    "model_tools.trade_quotas = make_matrix(0.05, False)"
   ]
  },
  {
   "cell_type": "code",
   "execution_count": 20,
   "metadata": {},
   "outputs": [
    {
     "name": "stdout",
     "output_type": "stream",
     "text": [
      "start of exp_grid: BB_final_hc_low\n",
      "experiment 0 is finished\n",
      "experiment 1 is finished\n",
      "experiment 2 is finished\n",
      "experiment 3 is finished\n",
      "end of exp_grid: BB_final_hc_low\n"
     ]
    }
   ],
   "source": [
    "exp_grid( grid , [\"wage_resist\", \"wage_flex\"],  \n",
    "         rand_seeds[:8], 1500, \"BB_final_hc_low\", csv = False)"
   ]
  },
  {
   "cell_type": "code",
   "execution_count": 17,
   "metadata": {},
   "outputs": [
    {
     "name": "stdout",
     "output_type": "stream",
     "text": [
      "start of exp_grid: BB_final_hc_low\n",
      "experiment 0 is finished\n",
      "experiment 1 is finished\n",
      "experiment 2 is finished\n",
      "experiment 3 is finished\n",
      "end of exp_grid: BB_final_hc_low\n"
     ]
    }
   ],
   "source": [
    "exp_grid( grid , [\"wage_resist\", \"wage_flex\"],  \n",
    "         rand_seeds[8:21], 1500, \"BB_final_hc_low\", csv = False)"
   ]
  },
  {
   "cell_type": "code",
   "execution_count": null,
   "metadata": {},
   "outputs": [],
   "source": []
  },
  {
   "cell_type": "code",
   "execution_count": 35,
   "metadata": {},
   "outputs": [
    {
     "name": "stdout",
     "output_type": "stream",
     "text": [
      "start of exp_grid: BB_final_hc_low\n",
      "experiment 0 is finished\n",
      "experiment 1 is finished\n",
      "experiment 2 is finished\n",
      "experiment 3 is finished\n",
      "end of exp_grid: BB_final_hc_low\n"
     ]
    }
   ],
   "source": [
    "exp_grid( grid , [\"wage_resist\", \"wage_flex\"],  \n",
    "         rand_seeds[21:], 1500, \"BB_final_hc_low\", csv = False)"
   ]
  },
  {
   "cell_type": "code",
   "execution_count": null,
   "metadata": {},
   "outputs": [],
   "source": []
  },
  {
   "cell_type": "markdown",
   "metadata": {},
   "source": [
    "# baseline pegged rates"
   ]
  },
  {
   "cell_type": "code",
   "execution_count": 24,
   "metadata": {},
   "outputs": [],
   "source": [
    "set_base_pars([5000,5000])   \n",
    "model_tools.pegged_rates = [-1,0]   \n",
    "\n",
    "grid = [ ([12]*model_tools.no_countries ,[0.05]*model_tools.no_countries),   # baseline\n",
    "       ([8]*model_tools.no_countries ,[0.08]*model_tools.no_countries),      # alt 1\n",
    "       ([12, 8]   ,[0.05, 0.08] ),                                           # base - alt 1\n",
    "       ([12, 8]   ,[0.05, 0.25] )]                                           # base - alt 2"
   ]
  },
  {
   "cell_type": "code",
   "execution_count": 25,
   "metadata": {},
   "outputs": [
    {
     "data": {
      "text/plain": [
       "True"
      ]
     },
     "execution_count": 25,
     "metadata": {},
     "output_type": "execute_result"
    }
   ],
   "source": [
    "\"pegged_rates\" in model_tools.parameters()"
   ]
  },
  {
   "cell_type": "markdown",
   "metadata": {},
   "source": [
    "## baseline free trade pegged rates"
   ]
  },
  {
   "cell_type": "code",
   "execution_count": 26,
   "metadata": {},
   "outputs": [],
   "source": [
    "model_tools.free_market = True"
   ]
  },
  {
   "cell_type": "code",
   "execution_count": 27,
   "metadata": {},
   "outputs": [
    {
     "name": "stdout",
     "output_type": "stream",
     "text": [
      "start of exp_grid: BB_final_base_pegged_free\n",
      "experiment 0 is finished\n",
      "experiment 1 is finished\n",
      "experiment 2 is finished\n",
      "experiment 3 is finished\n",
      "end of exp_grid: BB_final_base_pegged_free\n"
     ]
    }
   ],
   "source": [
    "exp_grid( grid , [\"wage_resist\", \"wage_flex\"],  \n",
    "         rand_seeds[:8], 1500, \"BB_final_base_pegged_free\", csv = False)"
   ]
  },
  {
   "cell_type": "code",
   "execution_count": null,
   "metadata": {},
   "outputs": [],
   "source": []
  },
  {
   "cell_type": "code",
   "execution_count": 27,
   "metadata": {},
   "outputs": [
    {
     "name": "stdout",
     "output_type": "stream",
     "text": [
      "start of exp_grid: BB_final_base_pegged_free\n",
      "experiment 0 is finished\n",
      "experiment 1 is finished\n",
      "experiment 2 is finished\n",
      "experiment 3 is finished\n",
      "end of exp_grid: BB_final_base_pegged_free\n"
     ]
    }
   ],
   "source": [
    "exp_grid( grid , [\"wage_resist\", \"wage_flex\"],  \n",
    "         chosen_seeds, 1500, \"BB_final_base_pegged_free\", csv = False)"
   ]
  },
  {
   "cell_type": "markdown",
   "metadata": {},
   "source": [
    "## baseline medium trade pegged rates"
   ]
  },
  {
   "cell_type": "code",
   "execution_count": null,
   "metadata": {},
   "outputs": [],
   "source": [
    "model_tools.free_market = False\n",
    "model_tools.trade_quotas = make_matrix(0.3, False)"
   ]
  },
  {
   "cell_type": "code",
   "execution_count": null,
   "metadata": {},
   "outputs": [],
   "source": [
    "#exp_grid( grid , [\"wage_resist\", \"wage_flex\"],  \n",
    "#         rand_seeds[:8], 1500, \"BB_final_base_pegged_med\", csv = False)"
   ]
  },
  {
   "cell_type": "markdown",
   "metadata": {},
   "source": [
    "## baseline low trade pegged rates"
   ]
  },
  {
   "cell_type": "code",
   "execution_count": null,
   "metadata": {},
   "outputs": [],
   "source": [
    "model_tools.free_market = False\n",
    "model_tools.trade_quotas = make_matrix(0.05, False)"
   ]
  },
  {
   "cell_type": "code",
   "execution_count": null,
   "metadata": {},
   "outputs": [],
   "source": [
    "#exp_grid( grid , [\"wage_resist\", \"wage_flex\"],  \n",
    "#         rand_seeds[:8], 1500, \"BB_final_base_pegged_low\", csv = False)"
   ]
  },
  {
   "cell_type": "code",
   "execution_count": null,
   "metadata": {},
   "outputs": [],
   "source": []
  },
  {
   "cell_type": "code",
   "execution_count": null,
   "metadata": {},
   "outputs": [],
   "source": []
  },
  {
   "cell_type": "code",
   "execution_count": null,
   "metadata": {},
   "outputs": [],
   "source": []
  },
  {
   "cell_type": "markdown",
   "metadata": {},
   "source": [
    "# 6 countries"
   ]
  },
  {
   "cell_type": "code",
   "execution_count": 14,
   "metadata": {},
   "outputs": [],
   "source": [
    "set_base_pars([6000]*2 + [2000]*4)   \n",
    "\n",
    "model_tools.free_market = False\n",
    "trade_quotas_arr = np.array(model_tools.trade_quotas)     # model_tools.np.array(model_tools.trade_quotas)\n",
    "trade_quotas_arr[0] = [1,0, 1,0,0,0]\n",
    "trade_quotas_arr.T[0] = [1,0, 1,0,0,0]\n",
    "model_tools.trade_quotas = [list(q) for q in trade_quotas_arr]\n",
    "\n",
    "base = ([12]*6 ,[0.05]*6)\n",
    "alt1, alt2 = [base[0].copy(), base[1].copy()], [base[0].copy(), base[1].copy()]\n",
    "alt3, alt4 = [base[0].copy(), base[1].copy()], [base[0].copy(), base[1].copy()]\n",
    "\n",
    "alt1[0][0], alt1[1][0] = 8, 0.08\n",
    "alt2[0][0], alt2[1][0] = 8, 0.25\n",
    "alt3[0][1], alt3[1][1] = 8, 0.08\n",
    "alt4[0][1], alt4[1][1] = 8, 0.25\n",
    "\n",
    "grid = [ base, alt1, alt2, alt3, alt4] "
   ]
  },
  {
   "cell_type": "code",
   "execution_count": null,
   "metadata": {},
   "outputs": [],
   "source": [
    "#exp_grid( grid , [\"wage_resist\", \"wage_flex\"],  \n",
    "#         rand_seeds[:16], 1500, \"six_final_base_free\", csv = False)"
   ]
  },
  {
   "cell_type": "code",
   "execution_count": null,
   "metadata": {},
   "outputs": [
    {
     "name": "stdout",
     "output_type": "stream",
     "text": [
      "start of exp_grid: six_final_base_free\n",
      "experiment 0 is finished\n",
      "experiment 1 is finished\n",
      "experiment 2 is finished\n",
      "experiment 3 is finished\n"
     ]
    }
   ],
   "source": [
    "exp_grid( grid , [\"wage_resist\", \"wage_flex\"],  \n",
    "         rand_seeds[16:21], 1500, \"six_final_base_free\", csv = False)"
   ]
  },
  {
   "cell_type": "code",
   "execution_count": 15,
   "metadata": {},
   "outputs": [
    {
     "name": "stdout",
     "output_type": "stream",
     "text": [
      "start of exp_grid: six_final_base_free\n",
      "experiment 0 is finished\n",
      "experiment 1 is finished\n",
      "experiment 2 is finished\n",
      "experiment 3 is finished\n",
      "experiment 4 is finished\n",
      "end of exp_grid: six_final_base_free\n"
     ]
    }
   ],
   "source": [
    "exp_grid( grid , [\"wage_resist\", \"wage_flex\"],  \n",
    "         rand_seeds[21:25], 1500, \"six_final_base_free\", csv = False)"
   ]
  },
  {
   "cell_type": "code",
   "execution_count": 16,
   "metadata": {},
   "outputs": [
    {
     "name": "stdout",
     "output_type": "stream",
     "text": [
      "start of exp_grid: six_final_base_free\n",
      "experiment 0 is finished\n",
      "experiment 1 is finished\n",
      "experiment 2 is finished\n",
      "experiment 3 is finished\n",
      "experiment 4 is finished\n",
      "end of exp_grid: six_final_base_free\n"
     ]
    }
   ],
   "source": [
    "exp_grid( grid , [\"wage_resist\", \"wage_flex\"],  \n",
    "         rand_seeds[28:], 1500, \"six_final_base_free\", csv = False)"
   ]
  },
  {
   "cell_type": "code",
   "execution_count": null,
   "metadata": {},
   "outputs": [],
   "source": []
  },
  {
   "cell_type": "markdown",
   "metadata": {},
   "source": [
    "# 1 country "
   ]
  },
  {
   "cell_type": "code",
   "execution_count": 9,
   "metadata": {},
   "outputs": [],
   "source": [
    "set_base_pars([5000])   \n",
    "\n",
    "\n",
    "grid = [ ([12]*model_tools.no_countries ,[0.05]*model_tools.no_countries),   # baseline\n",
    "       ([8]*model_tools.no_countries ,[0.08]*model_tools.no_countries),      # alt 1\n",
    "       ([8]   ,[0.25] )]                                           # alt 2"
   ]
  },
  {
   "cell_type": "code",
   "execution_count": 11,
   "metadata": {
    "scrolled": true
   },
   "outputs": [
    {
     "name": "stdout",
     "output_type": "stream",
     "text": [
      "start of exp_grid: C1_rs_final\n"
     ]
    },
    {
     "name": "stderr",
     "output_type": "stream",
     "text": [
      "C:\\Users\\am\\model_tools.py:1862: RuntimeWarning: invalid value encountered in true_divide\n",
      "  results.append(list(multiply*s1/s2))\n",
      "C:\\Users\\am\\model_tools.py:1842: RuntimeWarning: invalid value encountered in true_divide\n",
      "  results.append(list(diff/s1))\n",
      "C:\\Users\\am\\model_tools.py:1862: RuntimeWarning: divide by zero encountered in true_divide\n",
      "  results.append(list(multiply*s1/s2))\n",
      "C:\\Users\\am\\model_tools.py:2161: PerformanceWarning: \n",
      "your performance may suffer as PyTables will pickle object types that it cannot\n",
      "map directly to c-types [inferred_type->mixed,key->block0_values] [items->Index(['employment', 'wages', 'working_wages', 'vol_unemployed', 'months_u',\n",
      "       'unemployed_months_u', 'hsh_sentiment', 'hsh_income', 'savings_T',\n",
      "       'budget', 'cons', 'cons_value', 'forced_savings', 'hsh_deposits',\n",
      "       'prices', 'offered_wages', 'production', 'production_value',\n",
      "       'labor_demand', 'labor', 'job_offers', 'vacancies', 'inventories',\n",
      "       'sales', 'sales_value', 'sales_costs', 'firm_assets',\n",
      "       'firm_capital_target', 'firm_capital', 'firm_dividends',\n",
      "       'firm_sentiment', 'firm_deposits', 'loans', 'bank_capital',\n",
      "       'bank_deposit', 'deposits', 'doubtful_loans', 'doubtful_ratio',\n",
      "       'bankruptcies', 'bank_dividend', 'spec_no_of_firms', 'spec_exch_rates',\n",
      "       'spec_natural_exch_rates', 'spec_export_details', 'spec_import_details',\n",
      "       'spec_trade_balances', 'spec_bank_accounts', 'spec_trade_fees'],\n",
      "      dtype='object')]\n",
      "\n",
      "  aa.export_data(note = note, hdf = hdf, csv = csv)\n",
      "C:\\Users\\am\\model_tools.py:2161: PerformanceWarning: \n",
      "your performance may suffer as PyTables will pickle object types that it cannot\n",
      "map directly to c-types [inferred_type->mixed,key->block0_values] [items->Index(['inventories_y', 'unemployment_m', 'unemployment_y',\n",
      "       'vol_unemployed_rate_m', 'vol_unemployed_rate_y', 'price_level_m',\n",
      "       'inflation_m', 'sales_y', 'sales_value_y', 'price_level_y',\n",
      "       'inflation_y', 'vacancy_rates_m', 'vacancies_y', 'labor_demand_y',\n",
      "       'vacancy_rates_y', 'capital_adequacy_ratio_m', 'gross_profits_m',\n",
      "       'total_income_m', 'wage_share_m', 'profits_share_m', 'gross_profits_y',\n",
      "       'total_income_y', 'wages_y', 'wage_share_y', 'profits_share_y',\n",
      "       'mean_real_profits_m', 'mean_real_profits_y', 'mark_ups_m',\n",
      "       'mark_ups_y', 'bankruptcies_y', 'bankruptcy_rate_y',\n",
      "       'capacity_utilization_m', 'capacity_utilization_y', 'mean_real_wage_m',\n",
      "       'median_real_wage_m', 'mean_real_wage_y', 'self_financing_ratio_m',\n",
      "       'targeted_debt_ratio_m', 'targeted_debt_m', 'mean_targeted_debt_m',\n",
      "       'excessive_debt_rate_m', 'hoarding_m', 'unemployment_duration_y',\n",
      "       'money_velocity_y', 'cons_y', 'mean_cons_y', 'cons_value_y',\n",
      "       'mean_cons_value_y', 'forced_savings_rate_m', 'forced_savings_rate_y',\n",
      "       'total_trade_balances_m', 'total_exports_m', 'total_imports_m',\n",
      "       'total_export_rates_m', 'total_import_rates_m',\n",
      "       'detailed_export_rates_m', 'detailed_import_rates_m',\n",
      "       'total_trade_balances_y', 'total_exports_y', 'total_imports_y',\n",
      "       'total_export_rates_y', 'total_import_rates_y', 'bank_bankruptcies'],\n",
      "      dtype='object')]\n",
      "\n",
      "  aa.export_data(note = note, hdf = hdf, csv = csv)\n",
      "C:\\Users\\am\\model_tools.py:1862: RuntimeWarning: invalid value encountered in true_divide\n",
      "  results.append(list(multiply*s1/s2))\n",
      "C:\\Users\\am\\model_tools.py:1842: RuntimeWarning: invalid value encountered in true_divide\n",
      "  results.append(list(diff/s1))\n",
      "C:\\Users\\am\\model_tools.py:1862: RuntimeWarning: divide by zero encountered in true_divide\n",
      "  results.append(list(multiply*s1/s2))\n",
      "C:\\Users\\am\\AppData\\Roaming\\Python\\Python38\\site-packages\\numpy\\core\\fromnumeric.py:3334: RuntimeWarning: Mean of empty slice.\n",
      "  return _methods._mean(a, axis=axis, dtype=dtype,\n",
      "C:\\Users\\am\\AppData\\Roaming\\Python\\Python38\\site-packages\\numpy\\core\\_methods.py:161: RuntimeWarning: invalid value encountered in double_scalars\n",
      "  ret = ret.dtype.type(ret / rcount)\n"
     ]
    },
    {
     "name": "stdout",
     "output_type": "stream",
     "text": [
      "experiment 0 is finished\n",
      "experiment 1 is finished\n",
      "1311:  Bank 0_b_0 is bankrupt!\n",
      "350:  Bank 0_b_0 is bankrupt!\n",
      "929:  Bank 0_b_0 is bankrupt!\n",
      "479:  Bank 0_b_0 is bankrupt!\n",
      "261:  Bank 0_b_0 is bankrupt!\n",
      "282:  Bank 0_b_0 is bankrupt!\n",
      "292:  Bank 0_b_0 is bankrupt!\n",
      "576:  Bank 0_b_0 is bankrupt!\n",
      "278:  Bank 0_b_0 is bankrupt!\n",
      "318:  Bank 0_b_0 is bankrupt!\n",
      "347:  Bank 0_b_0 is bankrupt!\n",
      "270:  Bank 0_b_0 is bankrupt!\n",
      "317:  Bank 0_b_0 is bankrupt!\n",
      "556:  Bank 0_b_0 is bankrupt!\n",
      "1160:  Bank 0_b_0 is bankrupt!\n",
      "273:  Bank 0_b_0 is bankrupt!\n",
      "305:  Bank 0_b_0 is bankrupt!\n",
      "383:  Bank 0_b_0 is bankrupt!\n",
      "297:  Bank 0_b_0 is bankrupt!\n",
      "289:  Bank 0_b_0 is bankrupt!\n",
      "271:  Bank 0_b_0 is bankrupt!\n",
      "715:  Bank 0_b_0 is bankrupt!\n",
      "393:  Bank 0_b_0 is bankrupt!\n",
      "311:  Bank 0_b_0 is bankrupt!\n",
      "378:  Bank 0_b_0 is bankrupt!\n",
      "282:  Bank 0_b_0 is bankrupt!\n",
      "306:  Bank 0_b_0 is bankrupt!\n",
      "1205:  Bank 0_b_0 is bankrupt!\n",
      "294:  Bank 0_b_0 is bankrupt!\n",
      "325:  Bank 0_b_0 is bankrupt!\n",
      "experiment 2 is finished\n",
      "end of exp_grid: C1_rs_final\n"
     ]
    }
   ],
   "source": [
    "exp_grid( grid , [\"wage_resist\", \"wage_flex\"],  \n",
    "         rand_seeds, 1500, \"C1_rs_final\", csv = False)"
   ]
  },
  {
   "cell_type": "code",
   "execution_count": null,
   "metadata": {},
   "outputs": [],
   "source": []
  }
 ],
 "metadata": {
  "kernelspec": {
   "display_name": "Python 3",
   "language": "python",
   "name": "python3"
  },
  "language_info": {
   "codemirror_mode": {
    "name": "ipython",
    "version": 3
   },
   "file_extension": ".py",
   "mimetype": "text/x-python",
   "name": "python",
   "nbconvert_exporter": "python",
   "pygments_lexer": "ipython3",
   "version": "3.8.8"
  }
 },
 "nbformat": 4,
 "nbformat_minor": 2
}
