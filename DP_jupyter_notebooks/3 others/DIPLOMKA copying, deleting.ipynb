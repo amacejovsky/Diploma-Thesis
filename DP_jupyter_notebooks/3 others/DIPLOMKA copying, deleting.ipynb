{
 "cells": [
  {
   "cell_type": "code",
   "execution_count": 1,
   "id": "335bff25",
   "metadata": {},
   "outputs": [],
   "source": [
    "import shutil\n",
    "import os\n",
    "import glob"
   ]
  },
  {
   "cell_type": "code",
   "execution_count": 2,
   "id": "a4b35059",
   "metadata": {},
   "outputs": [],
   "source": [
    "def copy(no_countries, name, last, first = 1, limit = None,\n",
    "        from_folder = \"F:\\diplomka\\model\\data\\hdf_final\",\n",
    "        to_folder = \"d:\\moje_dokumenty\\Desktop\\diplomka\\model\\data\\hdf_final\"):\n",
    "    copied_files = []\n",
    "    for s in range(first, last):\n",
    "        from_path = from_folder + \"\\\\\" + str(no_countries) + \"*\" + name + str(s) + '.h5'\n",
    "        files = glob.glob(from_path)\n",
    "        files = files[:limit]\n",
    "        copied_files.append(files)\n",
    "        for file in files:\n",
    "            shutil.copy(file, to_folder)\n",
    "    return copied_files"
   ]
  },
  {
   "cell_type": "code",
   "execution_count": 3,
   "id": "c6754bf9",
   "metadata": {},
   "outputs": [],
   "source": [
    "def delete(no_countries, name, last, first = 1, leave = None,\n",
    "        in_folder = \"d:\\moje_dokumenty\\Desktop\\diplomka\\model\\data\\hdf_final\"):\n",
    "    removed_files = []\n",
    "    for s in range(first, last):\n",
    "        path = in_folder + \"\\\\\" + str(no_countries) + \"*\" + name + str(s) + '.h5'\n",
    "        files = glob.glob(path)\n",
    "        files = files[leave:]\n",
    "        sub_removed_files = []\n",
    "        for file in files:\n",
    "            if os.path.isfile(file):\n",
    "                os.remove(file)\n",
    "                sub_removed_files.append(file)\n",
    "        removed_files.append(sub_removed_files)\n",
    "    \n",
    "    return removed_files\n",
    "    \n",
    "    "
   ]
  },
  {
   "cell_type": "code",
   "execution_count": 4,
   "id": "e894bb08",
   "metadata": {},
   "outputs": [],
   "source": [
    "ee2 = copy(2, \"BB_final_base_free_\", 2, limit = 10)"
   ]
  },
  {
   "cell_type": "code",
   "execution_count": 5,
   "id": "04219dcf",
   "metadata": {},
   "outputs": [
    {
     "data": {
      "text/plain": [
       "[['F:\\\\diplomka\\\\model\\\\data\\\\hdf_final\\\\2_11329_68470_BB_final_base_free_1.h5',\n",
       "  'F:\\\\diplomka\\\\model\\\\data\\\\hdf_final\\\\2_11834_7548_BB_final_base_free_1.h5',\n",
       "  'F:\\\\diplomka\\\\model\\\\data\\\\hdf_final\\\\2_12201_96435_BB_final_base_free_1.h5',\n",
       "  'F:\\\\diplomka\\\\model\\\\data\\\\hdf_final\\\\2_12487_96329_BB_final_base_free_1.h5',\n",
       "  'F:\\\\diplomka\\\\model\\\\data\\\\hdf_final\\\\2_13297_5255_BB_final_base_free_1.h5',\n",
       "  'F:\\\\diplomka\\\\model\\\\data\\\\hdf_final\\\\2_15379_90218_BB_final_base_free_1.h5',\n",
       "  'F:\\\\diplomka\\\\model\\\\data\\\\hdf_final\\\\2_15584_3908_BB_final_base_free_1.h5',\n",
       "  'F:\\\\diplomka\\\\model\\\\data\\\\hdf_final\\\\2_16344_1228_BB_final_base_free_1.h5',\n",
       "  'F:\\\\diplomka\\\\model\\\\data\\\\hdf_final\\\\2_16739_27246_BB_final_base_free_1.h5',\n",
       "  'F:\\\\diplomka\\\\model\\\\data\\\\hdf_final\\\\2_18165_7192_BB_final_base_free_1.h5']]"
      ]
     },
     "execution_count": 5,
     "metadata": {},
     "output_type": "execute_result"
    }
   ],
   "source": [
    "ee2"
   ]
  },
  {
   "cell_type": "code",
   "execution_count": 6,
   "id": "7e089f56",
   "metadata": {},
   "outputs": [],
   "source": [
    "dd = delete(2, \"BB_final_base_free_\", 2, leave = 0)"
   ]
  },
  {
   "cell_type": "code",
   "execution_count": 7,
   "id": "de376a6d",
   "metadata": {},
   "outputs": [
    {
     "data": {
      "text/plain": [
       "[['d:\\\\moje_dokumenty\\\\Desktop\\\\diplomka\\\\model\\\\data\\\\hdf_final\\\\2_11329_68470_BB_final_base_free_1.h5',\n",
       "  'd:\\\\moje_dokumenty\\\\Desktop\\\\diplomka\\\\model\\\\data\\\\hdf_final\\\\2_11834_7548_BB_final_base_free_1.h5',\n",
       "  'd:\\\\moje_dokumenty\\\\Desktop\\\\diplomka\\\\model\\\\data\\\\hdf_final\\\\2_12201_96435_BB_final_base_free_1.h5',\n",
       "  'd:\\\\moje_dokumenty\\\\Desktop\\\\diplomka\\\\model\\\\data\\\\hdf_final\\\\2_12487_96329_BB_final_base_free_1.h5',\n",
       "  'd:\\\\moje_dokumenty\\\\Desktop\\\\diplomka\\\\model\\\\data\\\\hdf_final\\\\2_13297_5255_BB_final_base_free_1.h5',\n",
       "  'd:\\\\moje_dokumenty\\\\Desktop\\\\diplomka\\\\model\\\\data\\\\hdf_final\\\\2_15379_90218_BB_final_base_free_1.h5',\n",
       "  'd:\\\\moje_dokumenty\\\\Desktop\\\\diplomka\\\\model\\\\data\\\\hdf_final\\\\2_15584_3908_BB_final_base_free_1.h5',\n",
       "  'd:\\\\moje_dokumenty\\\\Desktop\\\\diplomka\\\\model\\\\data\\\\hdf_final\\\\2_16344_1228_BB_final_base_free_1.h5',\n",
       "  'd:\\\\moje_dokumenty\\\\Desktop\\\\diplomka\\\\model\\\\data\\\\hdf_final\\\\2_16739_27246_BB_final_base_free_1.h5',\n",
       "  'd:\\\\moje_dokumenty\\\\Desktop\\\\diplomka\\\\model\\\\data\\\\hdf_final\\\\2_18165_7192_BB_final_base_free_1.h5']]"
      ]
     },
     "execution_count": 7,
     "metadata": {},
     "output_type": "execute_result"
    }
   ],
   "source": [
    "dd"
   ]
  },
  {
   "cell_type": "code",
   "execution_count": null,
   "id": "bd6eda10",
   "metadata": {},
   "outputs": [],
   "source": []
  }
 ],
 "metadata": {
  "kernelspec": {
   "display_name": "Python 3",
   "language": "python",
   "name": "python3"
  },
  "language_info": {
   "codemirror_mode": {
    "name": "ipython",
    "version": 3
   },
   "file_extension": ".py",
   "mimetype": "text/x-python",
   "name": "python",
   "nbconvert_exporter": "python",
   "pygments_lexer": "ipython3",
   "version": "3.8.8"
  }
 },
 "nbformat": 4,
 "nbformat_minor": 5
}
